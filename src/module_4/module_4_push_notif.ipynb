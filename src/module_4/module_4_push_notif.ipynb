{
 "cells": [
  {
   "cell_type": "markdown",
   "id": "4e470f15",
   "metadata": {},
   "source": [
    "# Module 4: Push Notifications DS"
   ]
  },
  {
   "cell_type": "markdown",
   "id": "fdc167bd",
   "metadata": {},
   "source": [
    "## Import libraries"
   ]
  },
  {
   "cell_type": "code",
   "execution_count": null,
   "id": "a067cfb0",
   "metadata": {},
   "outputs": [],
   "source": [
    "import os\n",
    "import boto3\n",
    "import logging\n",
    "import numpy as np\n",
    "import pandas as pd\n",
    "from pathlib import Path\n",
    "from dotenv import load_dotenv\n",
    "\n",
    "import seaborn as sns\n",
    "import matplotlib.pyplot as plt\n",
    "\n",
    "from imblearn.over_sampling import SMOTE\n",
    "from sklearn.preprocessing import StandardScaler\n",
    "from sklearn.ensemble import RandomForestClassifier, GradientBoostingClassifier\n",
    "from sklearn.metrics import classification_report, roc_auc_score, average_precision_score, roc_curve, precision_recall_curve, confusion_matrix\n",
    "\n",
    "logging.basicConfig(\n",
    "    level=logging.INFO,  # Info level for general information\n",
    "    format=\"%(asctime)s - %(levelname)s - %(message)s\",\n",
    ")"
   ]
  },
  {
   "cell_type": "markdown",
   "id": "6c73b233",
   "metadata": {},
   "source": [
    "## Load dataset"
   ]
  },
  {
   "cell_type": "code",
   "execution_count": 13,
   "id": "479095ed",
   "metadata": {},
   "outputs": [
    {
     "name": "stderr",
     "output_type": "stream",
     "text": [
      "2025-10-24 11:29:23,439 - INFO - Data folder: /Users/maria/Desktop/Zrive DS/zrive-ds/data\n"
     ]
    },
    {
     "name": "stderr",
     "output_type": "stream",
     "text": [
      "2025-10-24 11:29:23,965 - INFO - Already exists: /Users/maria/Desktop/Zrive DS/zrive-ds/data/box_builder_dataset/feature_frame.csv, skipping download.\n"
     ]
    }
   ],
   "source": [
    "load_dotenv()\n",
    "AWW_API_KEY = os.getenv(\"AWW_API_KEY\")\n",
    "AWW_SECRET = os.getenv(\"AWW_SECRET\")\n",
    "\n",
    "s3 = boto3.client(\n",
    "    's3',\n",
    "    aws_access_key_id=AWW_API_KEY,\n",
    "    aws_secret_access_key=AWW_SECRET\n",
    ")\n",
    "bucket_name = 'zrive-ds-data'\n",
    "prefix = \"groceries/box_builder_dataset/\"\n",
    "\n",
    "PROJECT_ROOT = Path().resolve().parent.parent\n",
    "DATA_DIR = PROJECT_ROOT / \"data\"\n",
    "DATA_DIR.mkdir(exist_ok=True)\n",
    "\n",
    "logging.info(f\"Data folder: {DATA_DIR}\")\n",
    "\n",
    "response = s3.list_objects_v2(Bucket=bucket_name, Prefix=prefix)\n",
    "\n",
    "for obj in response.get(\"Contents\", []):\n",
    "    file_key = obj[\"Key\"]\n",
    "    if file_key.endswith(\"/\"):  # skip folder placeholders\n",
    "        continue\n",
    "\n",
    "    # Strip the first folder ('groceries/') and keep the inner folders\n",
    "    relative_path = Path(*file_key.split(\"/\")[1:])\n",
    "    local_path = DATA_DIR / relative_path\n",
    "    local_path.parent.mkdir(parents=True, exist_ok=True)\n",
    "\n",
    "    if local_path.exists():\n",
    "        logging.info(f\"Already exists: {local_path}, skipping download.\")\n",
    "    else:\n",
    "        s3.download_file(bucket_name, file_key, str(local_path))\n",
    "        logging.info(f\"Downloaded {local_path}\")"
   ]
  },
  {
   "cell_type": "code",
   "execution_count": 14,
   "id": "7c5e92d7",
   "metadata": {},
   "outputs": [
    {
     "data": {
      "application/vnd.microsoft.datawrangler.viewer.v0+json": {
       "columns": [
        {
         "name": "index",
         "rawType": "int64",
         "type": "integer"
        },
        {
         "name": "variant_id",
         "rawType": "int64",
         "type": "integer"
        },
        {
         "name": "product_type",
         "rawType": "object",
         "type": "string"
        },
        {
         "name": "order_id",
         "rawType": "int64",
         "type": "integer"
        },
        {
         "name": "user_id",
         "rawType": "int64",
         "type": "integer"
        },
        {
         "name": "created_at",
         "rawType": "object",
         "type": "string"
        },
        {
         "name": "order_date",
         "rawType": "object",
         "type": "string"
        },
        {
         "name": "user_order_seq",
         "rawType": "int64",
         "type": "integer"
        },
        {
         "name": "outcome",
         "rawType": "float64",
         "type": "float"
        },
        {
         "name": "ordered_before",
         "rawType": "float64",
         "type": "float"
        },
        {
         "name": "abandoned_before",
         "rawType": "float64",
         "type": "float"
        },
        {
         "name": "active_snoozed",
         "rawType": "float64",
         "type": "float"
        },
        {
         "name": "set_as_regular",
         "rawType": "float64",
         "type": "float"
        },
        {
         "name": "normalised_price",
         "rawType": "float64",
         "type": "float"
        },
        {
         "name": "discount_pct",
         "rawType": "float64",
         "type": "float"
        },
        {
         "name": "vendor",
         "rawType": "object",
         "type": "string"
        },
        {
         "name": "global_popularity",
         "rawType": "float64",
         "type": "float"
        },
        {
         "name": "count_adults",
         "rawType": "float64",
         "type": "float"
        },
        {
         "name": "count_children",
         "rawType": "float64",
         "type": "float"
        },
        {
         "name": "count_babies",
         "rawType": "float64",
         "type": "float"
        },
        {
         "name": "count_pets",
         "rawType": "float64",
         "type": "float"
        },
        {
         "name": "people_ex_baby",
         "rawType": "float64",
         "type": "float"
        },
        {
         "name": "days_since_purchase_variant_id",
         "rawType": "float64",
         "type": "float"
        },
        {
         "name": "avg_days_to_buy_variant_id",
         "rawType": "float64",
         "type": "float"
        },
        {
         "name": "std_days_to_buy_variant_id",
         "rawType": "float64",
         "type": "float"
        },
        {
         "name": "days_since_purchase_product_type",
         "rawType": "float64",
         "type": "float"
        },
        {
         "name": "avg_days_to_buy_product_type",
         "rawType": "float64",
         "type": "float"
        },
        {
         "name": "std_days_to_buy_product_type",
         "rawType": "float64",
         "type": "float"
        }
       ],
       "ref": "567aa467-1606-4de8-b59f-e9564112e953",
       "rows": [
        [
         "0",
         "33826472919172",
         "ricepastapulses",
         "2807985930372",
         "3482464092292",
         "2020-10-05 16:46:19",
         "2020-10-05 00:00:00",
         "3",
         "0.0",
         "0.0",
         "0.0",
         "0.0",
         "0.0",
         "0.0810517755489292",
         "0.0535117056856186",
         "clearspring",
         "0.0",
         "2.0",
         "0.0",
         "0.0",
         "0.0",
         "2.0",
         "33.0",
         "42.0",
         "31.134053301261627",
         "30.0",
         "30.0",
         "24.27618006034"
        ],
        [
         "1",
         "33826472919172",
         "ricepastapulses",
         "2808027644036",
         "3466586718340",
         "2020-10-05 17:59:51",
         "2020-10-05 00:00:00",
         "2",
         "0.0",
         "0.0",
         "0.0",
         "0.0",
         "0.0",
         "0.0810517755489292",
         "0.0535117056856186",
         "clearspring",
         "0.0",
         "2.0",
         "0.0",
         "0.0",
         "0.0",
         "2.0",
         "33.0",
         "42.0",
         "31.134053301261627",
         "30.0",
         "30.0",
         "24.27618006034"
        ],
        [
         "2",
         "33826472919172",
         "ricepastapulses",
         "2808099078276",
         "3481384026244",
         "2020-10-05 20:08:53",
         "2020-10-05 00:00:00",
         "4",
         "0.0",
         "0.0",
         "0.0",
         "0.0",
         "0.0",
         "0.0810517755489292",
         "0.0535117056856186",
         "clearspring",
         "0.0",
         "2.0",
         "0.0",
         "0.0",
         "0.0",
         "2.0",
         "33.0",
         "42.0",
         "31.134053301261627",
         "30.0",
         "30.0",
         "24.27618006034"
        ],
        [
         "3",
         "33826472919172",
         "ricepastapulses",
         "2808393957508",
         "3291363377284",
         "2020-10-06 08:57:59",
         "2020-10-06 00:00:00",
         "2",
         "0.0",
         "0.0",
         "0.0",
         "0.0",
         "0.0",
         "0.0810517755489292",
         "0.0535117056856186",
         "clearspring",
         "0.0384615384615384",
         "2.0",
         "0.0",
         "0.0",
         "0.0",
         "2.0",
         "33.0",
         "42.0",
         "31.134053301261627",
         "30.0",
         "30.0",
         "24.27618006034"
        ],
        [
         "4",
         "33826472919172",
         "ricepastapulses",
         "2808429314180",
         "3537167515780",
         "2020-10-06 10:37:05",
         "2020-10-06 00:00:00",
         "3",
         "0.0",
         "0.0",
         "0.0",
         "0.0",
         "0.0",
         "0.0810517755489292",
         "0.0535117056856186",
         "clearspring",
         "0.0384615384615384",
         "2.0",
         "0.0",
         "0.0",
         "0.0",
         "2.0",
         "33.0",
         "42.0",
         "31.134053301261627",
         "30.0",
         "30.0",
         "24.27618006034"
        ]
       ],
       "shape": {
        "columns": 27,
        "rows": 5
       }
      },
      "text/html": [
       "<div>\n",
       "<style scoped>\n",
       "    .dataframe tbody tr th:only-of-type {\n",
       "        vertical-align: middle;\n",
       "    }\n",
       "\n",
       "    .dataframe tbody tr th {\n",
       "        vertical-align: top;\n",
       "    }\n",
       "\n",
       "    .dataframe thead th {\n",
       "        text-align: right;\n",
       "    }\n",
       "</style>\n",
       "<table border=\"1\" class=\"dataframe\">\n",
       "  <thead>\n",
       "    <tr style=\"text-align: right;\">\n",
       "      <th></th>\n",
       "      <th>variant_id</th>\n",
       "      <th>product_type</th>\n",
       "      <th>order_id</th>\n",
       "      <th>user_id</th>\n",
       "      <th>created_at</th>\n",
       "      <th>order_date</th>\n",
       "      <th>user_order_seq</th>\n",
       "      <th>outcome</th>\n",
       "      <th>ordered_before</th>\n",
       "      <th>abandoned_before</th>\n",
       "      <th>...</th>\n",
       "      <th>count_children</th>\n",
       "      <th>count_babies</th>\n",
       "      <th>count_pets</th>\n",
       "      <th>people_ex_baby</th>\n",
       "      <th>days_since_purchase_variant_id</th>\n",
       "      <th>avg_days_to_buy_variant_id</th>\n",
       "      <th>std_days_to_buy_variant_id</th>\n",
       "      <th>days_since_purchase_product_type</th>\n",
       "      <th>avg_days_to_buy_product_type</th>\n",
       "      <th>std_days_to_buy_product_type</th>\n",
       "    </tr>\n",
       "  </thead>\n",
       "  <tbody>\n",
       "    <tr>\n",
       "      <th>0</th>\n",
       "      <td>33826472919172</td>\n",
       "      <td>ricepastapulses</td>\n",
       "      <td>2807985930372</td>\n",
       "      <td>3482464092292</td>\n",
       "      <td>2020-10-05 16:46:19</td>\n",
       "      <td>2020-10-05 00:00:00</td>\n",
       "      <td>3</td>\n",
       "      <td>0.0</td>\n",
       "      <td>0.0</td>\n",
       "      <td>0.0</td>\n",
       "      <td>...</td>\n",
       "      <td>0.0</td>\n",
       "      <td>0.0</td>\n",
       "      <td>0.0</td>\n",
       "      <td>2.0</td>\n",
       "      <td>33.0</td>\n",
       "      <td>42.0</td>\n",
       "      <td>31.134053</td>\n",
       "      <td>30.0</td>\n",
       "      <td>30.0</td>\n",
       "      <td>24.27618</td>\n",
       "    </tr>\n",
       "    <tr>\n",
       "      <th>1</th>\n",
       "      <td>33826472919172</td>\n",
       "      <td>ricepastapulses</td>\n",
       "      <td>2808027644036</td>\n",
       "      <td>3466586718340</td>\n",
       "      <td>2020-10-05 17:59:51</td>\n",
       "      <td>2020-10-05 00:00:00</td>\n",
       "      <td>2</td>\n",
       "      <td>0.0</td>\n",
       "      <td>0.0</td>\n",
       "      <td>0.0</td>\n",
       "      <td>...</td>\n",
       "      <td>0.0</td>\n",
       "      <td>0.0</td>\n",
       "      <td>0.0</td>\n",
       "      <td>2.0</td>\n",
       "      <td>33.0</td>\n",
       "      <td>42.0</td>\n",
       "      <td>31.134053</td>\n",
       "      <td>30.0</td>\n",
       "      <td>30.0</td>\n",
       "      <td>24.27618</td>\n",
       "    </tr>\n",
       "    <tr>\n",
       "      <th>2</th>\n",
       "      <td>33826472919172</td>\n",
       "      <td>ricepastapulses</td>\n",
       "      <td>2808099078276</td>\n",
       "      <td>3481384026244</td>\n",
       "      <td>2020-10-05 20:08:53</td>\n",
       "      <td>2020-10-05 00:00:00</td>\n",
       "      <td>4</td>\n",
       "      <td>0.0</td>\n",
       "      <td>0.0</td>\n",
       "      <td>0.0</td>\n",
       "      <td>...</td>\n",
       "      <td>0.0</td>\n",
       "      <td>0.0</td>\n",
       "      <td>0.0</td>\n",
       "      <td>2.0</td>\n",
       "      <td>33.0</td>\n",
       "      <td>42.0</td>\n",
       "      <td>31.134053</td>\n",
       "      <td>30.0</td>\n",
       "      <td>30.0</td>\n",
       "      <td>24.27618</td>\n",
       "    </tr>\n",
       "    <tr>\n",
       "      <th>3</th>\n",
       "      <td>33826472919172</td>\n",
       "      <td>ricepastapulses</td>\n",
       "      <td>2808393957508</td>\n",
       "      <td>3291363377284</td>\n",
       "      <td>2020-10-06 08:57:59</td>\n",
       "      <td>2020-10-06 00:00:00</td>\n",
       "      <td>2</td>\n",
       "      <td>0.0</td>\n",
       "      <td>0.0</td>\n",
       "      <td>0.0</td>\n",
       "      <td>...</td>\n",
       "      <td>0.0</td>\n",
       "      <td>0.0</td>\n",
       "      <td>0.0</td>\n",
       "      <td>2.0</td>\n",
       "      <td>33.0</td>\n",
       "      <td>42.0</td>\n",
       "      <td>31.134053</td>\n",
       "      <td>30.0</td>\n",
       "      <td>30.0</td>\n",
       "      <td>24.27618</td>\n",
       "    </tr>\n",
       "    <tr>\n",
       "      <th>4</th>\n",
       "      <td>33826472919172</td>\n",
       "      <td>ricepastapulses</td>\n",
       "      <td>2808429314180</td>\n",
       "      <td>3537167515780</td>\n",
       "      <td>2020-10-06 10:37:05</td>\n",
       "      <td>2020-10-06 00:00:00</td>\n",
       "      <td>3</td>\n",
       "      <td>0.0</td>\n",
       "      <td>0.0</td>\n",
       "      <td>0.0</td>\n",
       "      <td>...</td>\n",
       "      <td>0.0</td>\n",
       "      <td>0.0</td>\n",
       "      <td>0.0</td>\n",
       "      <td>2.0</td>\n",
       "      <td>33.0</td>\n",
       "      <td>42.0</td>\n",
       "      <td>31.134053</td>\n",
       "      <td>30.0</td>\n",
       "      <td>30.0</td>\n",
       "      <td>24.27618</td>\n",
       "    </tr>\n",
       "  </tbody>\n",
       "</table>\n",
       "<p>5 rows × 27 columns</p>\n",
       "</div>"
      ],
      "text/plain": [
       "       variant_id     product_type       order_id        user_id  \\\n",
       "0  33826472919172  ricepastapulses  2807985930372  3482464092292   \n",
       "1  33826472919172  ricepastapulses  2808027644036  3466586718340   \n",
       "2  33826472919172  ricepastapulses  2808099078276  3481384026244   \n",
       "3  33826472919172  ricepastapulses  2808393957508  3291363377284   \n",
       "4  33826472919172  ricepastapulses  2808429314180  3537167515780   \n",
       "\n",
       "            created_at           order_date  user_order_seq  outcome  \\\n",
       "0  2020-10-05 16:46:19  2020-10-05 00:00:00               3      0.0   \n",
       "1  2020-10-05 17:59:51  2020-10-05 00:00:00               2      0.0   \n",
       "2  2020-10-05 20:08:53  2020-10-05 00:00:00               4      0.0   \n",
       "3  2020-10-06 08:57:59  2020-10-06 00:00:00               2      0.0   \n",
       "4  2020-10-06 10:37:05  2020-10-06 00:00:00               3      0.0   \n",
       "\n",
       "   ordered_before  abandoned_before  ...  count_children  count_babies  \\\n",
       "0             0.0               0.0  ...             0.0           0.0   \n",
       "1             0.0               0.0  ...             0.0           0.0   \n",
       "2             0.0               0.0  ...             0.0           0.0   \n",
       "3             0.0               0.0  ...             0.0           0.0   \n",
       "4             0.0               0.0  ...             0.0           0.0   \n",
       "\n",
       "   count_pets  people_ex_baby days_since_purchase_variant_id  \\\n",
       "0         0.0             2.0                           33.0   \n",
       "1         0.0             2.0                           33.0   \n",
       "2         0.0             2.0                           33.0   \n",
       "3         0.0             2.0                           33.0   \n",
       "4         0.0             2.0                           33.0   \n",
       "\n",
       "   avg_days_to_buy_variant_id  std_days_to_buy_variant_id  \\\n",
       "0                        42.0                   31.134053   \n",
       "1                        42.0                   31.134053   \n",
       "2                        42.0                   31.134053   \n",
       "3                        42.0                   31.134053   \n",
       "4                        42.0                   31.134053   \n",
       "\n",
       "   days_since_purchase_product_type  avg_days_to_buy_product_type  \\\n",
       "0                              30.0                          30.0   \n",
       "1                              30.0                          30.0   \n",
       "2                              30.0                          30.0   \n",
       "3                              30.0                          30.0   \n",
       "4                              30.0                          30.0   \n",
       "\n",
       "   std_days_to_buy_product_type  \n",
       "0                      24.27618  \n",
       "1                      24.27618  \n",
       "2                      24.27618  \n",
       "3                      24.27618  \n",
       "4                      24.27618  \n",
       "\n",
       "[5 rows x 27 columns]"
      ]
     },
     "execution_count": 14,
     "metadata": {},
     "output_type": "execute_result"
    }
   ],
   "source": [
    "df = pd.read_csv(DATA_DIR / \"box_builder_dataset\" / \"feature_frame.csv\")\n",
    "df.head()"
   ]
  },
  {
   "cell_type": "markdown",
   "id": "0b5b1e5f",
   "metadata": {},
   "source": [
    "## Milestone 1: exploration phase"
   ]
  },
  {
   "cell_type": "markdown",
   "id": "3fb2763b",
   "metadata": {},
   "source": [
    "### Baseline model"
   ]
  },
  {
   "cell_type": "markdown",
   "id": "e6628ec5",
   "metadata": {},
   "source": [
    "We can use a feature, such as `global popularity`, as a baseline model. That way, we can compare the metrics to understand if the model improves."
   ]
  },
  {
   "cell_type": "code",
   "execution_count": 15,
   "id": "b8bc1ebe",
   "metadata": {},
   "outputs": [
    {
     "name": "stderr",
     "output_type": "stream",
     "text": [
      "2025-10-24 11:29:40,130 - INFO - Global Popularity - ROC-AUC: 0.7902, PR-AUC: 0.0618\n"
     ]
    }
   ],
   "source": [
    "roc_auc = roc_auc_score(df['outcome'], df['global_popularity'])\n",
    "pr_auc = average_precision_score(df['outcome'], df['global_popularity'])\n",
    "logging.info(f\"Global Popularity - ROC-AUC: {roc_auc:.4f}, PR-AUC: {pr_auc:.4f}\")"
   ]
  },
  {
   "cell_type": "markdown",
   "id": "81071291",
   "metadata": {},
   "source": [
    "### Filter to at least 5 items bought"
   ]
  },
  {
   "cell_type": "code",
   "execution_count": 16,
   "id": "a5f236a6",
   "metadata": {},
   "outputs": [],
   "source": [
    "orders_with_5plus = (\n",
    "    df[df[\"outcome\"] == 1]              # only buy orders\n",
    "      .groupby(\"order_id\")[\"variant_id\"]\n",
    "      .nunique()                        # count unique variant_id por order_id\n",
    "      .loc[lambda x: x >= 5]            # take >= 5 items\n",
    "      .index                            # get the order_id index\n",
    ")\n",
    "\n",
    "df_filtered = df[df[\"order_id\"].isin(orders_with_5plus)]\n"
   ]
  },
  {
   "cell_type": "code",
   "execution_count": 17,
   "id": "f0a57839",
   "metadata": {},
   "outputs": [
    {
     "name": "stderr",
     "output_type": "stream",
     "text": [
      "2025-10-24 11:29:40,676 - INFO - Original dataset size: 2880549 rows\n",
      "2025-10-24 11:29:40,679 - INFO - Filtered dataset size: 2163953 rows\n"
     ]
    },
    {
     "data": {
      "application/vnd.microsoft.datawrangler.viewer.v0+json": {
       "columns": [
        {
         "name": "index",
         "rawType": "int64",
         "type": "integer"
        },
        {
         "name": "variant_id",
         "rawType": "int64",
         "type": "integer"
        },
        {
         "name": "product_type",
         "rawType": "object",
         "type": "string"
        },
        {
         "name": "order_id",
         "rawType": "int64",
         "type": "integer"
        },
        {
         "name": "user_id",
         "rawType": "int64",
         "type": "integer"
        },
        {
         "name": "created_at",
         "rawType": "object",
         "type": "string"
        },
        {
         "name": "order_date",
         "rawType": "object",
         "type": "string"
        },
        {
         "name": "user_order_seq",
         "rawType": "int64",
         "type": "integer"
        },
        {
         "name": "outcome",
         "rawType": "float64",
         "type": "float"
        },
        {
         "name": "ordered_before",
         "rawType": "float64",
         "type": "float"
        },
        {
         "name": "abandoned_before",
         "rawType": "float64",
         "type": "float"
        },
        {
         "name": "active_snoozed",
         "rawType": "float64",
         "type": "float"
        },
        {
         "name": "set_as_regular",
         "rawType": "float64",
         "type": "float"
        },
        {
         "name": "normalised_price",
         "rawType": "float64",
         "type": "float"
        },
        {
         "name": "discount_pct",
         "rawType": "float64",
         "type": "float"
        },
        {
         "name": "vendor",
         "rawType": "object",
         "type": "string"
        },
        {
         "name": "global_popularity",
         "rawType": "float64",
         "type": "float"
        },
        {
         "name": "count_adults",
         "rawType": "float64",
         "type": "float"
        },
        {
         "name": "count_children",
         "rawType": "float64",
         "type": "float"
        },
        {
         "name": "count_babies",
         "rawType": "float64",
         "type": "float"
        },
        {
         "name": "count_pets",
         "rawType": "float64",
         "type": "float"
        },
        {
         "name": "people_ex_baby",
         "rawType": "float64",
         "type": "float"
        },
        {
         "name": "days_since_purchase_variant_id",
         "rawType": "float64",
         "type": "float"
        },
        {
         "name": "avg_days_to_buy_variant_id",
         "rawType": "float64",
         "type": "float"
        },
        {
         "name": "std_days_to_buy_variant_id",
         "rawType": "float64",
         "type": "float"
        },
        {
         "name": "days_since_purchase_product_type",
         "rawType": "float64",
         "type": "float"
        },
        {
         "name": "avg_days_to_buy_product_type",
         "rawType": "float64",
         "type": "float"
        },
        {
         "name": "std_days_to_buy_product_type",
         "rawType": "float64",
         "type": "float"
        }
       ],
       "ref": "26cfbb62-1bfa-4b67-bfd4-d095450c5323",
       "rows": [
        [
         "0",
         "33826472919172",
         "ricepastapulses",
         "2807985930372",
         "3482464092292",
         "2020-10-05 16:46:19",
         "2020-10-05 00:00:00",
         "3",
         "0.0",
         "0.0",
         "0.0",
         "0.0",
         "0.0",
         "0.0810517755489292",
         "0.0535117056856186",
         "clearspring",
         "0.0",
         "2.0",
         "0.0",
         "0.0",
         "0.0",
         "2.0",
         "33.0",
         "42.0",
         "31.134053301261627",
         "30.0",
         "30.0",
         "24.27618006034"
        ],
        [
         "1",
         "33826472919172",
         "ricepastapulses",
         "2808027644036",
         "3466586718340",
         "2020-10-05 17:59:51",
         "2020-10-05 00:00:00",
         "2",
         "0.0",
         "0.0",
         "0.0",
         "0.0",
         "0.0",
         "0.0810517755489292",
         "0.0535117056856186",
         "clearspring",
         "0.0",
         "2.0",
         "0.0",
         "0.0",
         "0.0",
         "2.0",
         "33.0",
         "42.0",
         "31.134053301261627",
         "30.0",
         "30.0",
         "24.27618006034"
        ],
        [
         "2",
         "33826472919172",
         "ricepastapulses",
         "2808099078276",
         "3481384026244",
         "2020-10-05 20:08:53",
         "2020-10-05 00:00:00",
         "4",
         "0.0",
         "0.0",
         "0.0",
         "0.0",
         "0.0",
         "0.0810517755489292",
         "0.0535117056856186",
         "clearspring",
         "0.0",
         "2.0",
         "0.0",
         "0.0",
         "0.0",
         "2.0",
         "33.0",
         "42.0",
         "31.134053301261627",
         "30.0",
         "30.0",
         "24.27618006034"
        ],
        [
         "3",
         "33826472919172",
         "ricepastapulses",
         "2808393957508",
         "3291363377284",
         "2020-10-06 08:57:59",
         "2020-10-06 00:00:00",
         "2",
         "0.0",
         "0.0",
         "0.0",
         "0.0",
         "0.0",
         "0.0810517755489292",
         "0.0535117056856186",
         "clearspring",
         "0.0384615384615384",
         "2.0",
         "0.0",
         "0.0",
         "0.0",
         "2.0",
         "33.0",
         "42.0",
         "31.134053301261627",
         "30.0",
         "30.0",
         "24.27618006034"
        ],
        [
         "5",
         "33826472919172",
         "ricepastapulses",
         "2808434524292",
         "3479090790532",
         "2020-10-06 10:50:23",
         "2020-10-06 00:00:00",
         "3",
         "0.0",
         "0.0",
         "0.0",
         "0.0",
         "0.0",
         "0.0810517755489292",
         "0.0535117056856186",
         "clearspring",
         "0.0384615384615384",
         "2.0",
         "0.0",
         "0.0",
         "0.0",
         "2.0",
         "33.0",
         "42.0",
         "31.134053301261627",
         "30.0",
         "30.0",
         "24.27618006034"
        ]
       ],
       "shape": {
        "columns": 27,
        "rows": 5
       }
      },
      "text/html": [
       "<div>\n",
       "<style scoped>\n",
       "    .dataframe tbody tr th:only-of-type {\n",
       "        vertical-align: middle;\n",
       "    }\n",
       "\n",
       "    .dataframe tbody tr th {\n",
       "        vertical-align: top;\n",
       "    }\n",
       "\n",
       "    .dataframe thead th {\n",
       "        text-align: right;\n",
       "    }\n",
       "</style>\n",
       "<table border=\"1\" class=\"dataframe\">\n",
       "  <thead>\n",
       "    <tr style=\"text-align: right;\">\n",
       "      <th></th>\n",
       "      <th>variant_id</th>\n",
       "      <th>product_type</th>\n",
       "      <th>order_id</th>\n",
       "      <th>user_id</th>\n",
       "      <th>created_at</th>\n",
       "      <th>order_date</th>\n",
       "      <th>user_order_seq</th>\n",
       "      <th>outcome</th>\n",
       "      <th>ordered_before</th>\n",
       "      <th>abandoned_before</th>\n",
       "      <th>...</th>\n",
       "      <th>count_children</th>\n",
       "      <th>count_babies</th>\n",
       "      <th>count_pets</th>\n",
       "      <th>people_ex_baby</th>\n",
       "      <th>days_since_purchase_variant_id</th>\n",
       "      <th>avg_days_to_buy_variant_id</th>\n",
       "      <th>std_days_to_buy_variant_id</th>\n",
       "      <th>days_since_purchase_product_type</th>\n",
       "      <th>avg_days_to_buy_product_type</th>\n",
       "      <th>std_days_to_buy_product_type</th>\n",
       "    </tr>\n",
       "  </thead>\n",
       "  <tbody>\n",
       "    <tr>\n",
       "      <th>0</th>\n",
       "      <td>33826472919172</td>\n",
       "      <td>ricepastapulses</td>\n",
       "      <td>2807985930372</td>\n",
       "      <td>3482464092292</td>\n",
       "      <td>2020-10-05 16:46:19</td>\n",
       "      <td>2020-10-05 00:00:00</td>\n",
       "      <td>3</td>\n",
       "      <td>0.0</td>\n",
       "      <td>0.0</td>\n",
       "      <td>0.0</td>\n",
       "      <td>...</td>\n",
       "      <td>0.0</td>\n",
       "      <td>0.0</td>\n",
       "      <td>0.0</td>\n",
       "      <td>2.0</td>\n",
       "      <td>33.0</td>\n",
       "      <td>42.0</td>\n",
       "      <td>31.134053</td>\n",
       "      <td>30.0</td>\n",
       "      <td>30.0</td>\n",
       "      <td>24.27618</td>\n",
       "    </tr>\n",
       "    <tr>\n",
       "      <th>1</th>\n",
       "      <td>33826472919172</td>\n",
       "      <td>ricepastapulses</td>\n",
       "      <td>2808027644036</td>\n",
       "      <td>3466586718340</td>\n",
       "      <td>2020-10-05 17:59:51</td>\n",
       "      <td>2020-10-05 00:00:00</td>\n",
       "      <td>2</td>\n",
       "      <td>0.0</td>\n",
       "      <td>0.0</td>\n",
       "      <td>0.0</td>\n",
       "      <td>...</td>\n",
       "      <td>0.0</td>\n",
       "      <td>0.0</td>\n",
       "      <td>0.0</td>\n",
       "      <td>2.0</td>\n",
       "      <td>33.0</td>\n",
       "      <td>42.0</td>\n",
       "      <td>31.134053</td>\n",
       "      <td>30.0</td>\n",
       "      <td>30.0</td>\n",
       "      <td>24.27618</td>\n",
       "    </tr>\n",
       "    <tr>\n",
       "      <th>2</th>\n",
       "      <td>33826472919172</td>\n",
       "      <td>ricepastapulses</td>\n",
       "      <td>2808099078276</td>\n",
       "      <td>3481384026244</td>\n",
       "      <td>2020-10-05 20:08:53</td>\n",
       "      <td>2020-10-05 00:00:00</td>\n",
       "      <td>4</td>\n",
       "      <td>0.0</td>\n",
       "      <td>0.0</td>\n",
       "      <td>0.0</td>\n",
       "      <td>...</td>\n",
       "      <td>0.0</td>\n",
       "      <td>0.0</td>\n",
       "      <td>0.0</td>\n",
       "      <td>2.0</td>\n",
       "      <td>33.0</td>\n",
       "      <td>42.0</td>\n",
       "      <td>31.134053</td>\n",
       "      <td>30.0</td>\n",
       "      <td>30.0</td>\n",
       "      <td>24.27618</td>\n",
       "    </tr>\n",
       "    <tr>\n",
       "      <th>3</th>\n",
       "      <td>33826472919172</td>\n",
       "      <td>ricepastapulses</td>\n",
       "      <td>2808393957508</td>\n",
       "      <td>3291363377284</td>\n",
       "      <td>2020-10-06 08:57:59</td>\n",
       "      <td>2020-10-06 00:00:00</td>\n",
       "      <td>2</td>\n",
       "      <td>0.0</td>\n",
       "      <td>0.0</td>\n",
       "      <td>0.0</td>\n",
       "      <td>...</td>\n",
       "      <td>0.0</td>\n",
       "      <td>0.0</td>\n",
       "      <td>0.0</td>\n",
       "      <td>2.0</td>\n",
       "      <td>33.0</td>\n",
       "      <td>42.0</td>\n",
       "      <td>31.134053</td>\n",
       "      <td>30.0</td>\n",
       "      <td>30.0</td>\n",
       "      <td>24.27618</td>\n",
       "    </tr>\n",
       "    <tr>\n",
       "      <th>5</th>\n",
       "      <td>33826472919172</td>\n",
       "      <td>ricepastapulses</td>\n",
       "      <td>2808434524292</td>\n",
       "      <td>3479090790532</td>\n",
       "      <td>2020-10-06 10:50:23</td>\n",
       "      <td>2020-10-06 00:00:00</td>\n",
       "      <td>3</td>\n",
       "      <td>0.0</td>\n",
       "      <td>0.0</td>\n",
       "      <td>0.0</td>\n",
       "      <td>...</td>\n",
       "      <td>0.0</td>\n",
       "      <td>0.0</td>\n",
       "      <td>0.0</td>\n",
       "      <td>2.0</td>\n",
       "      <td>33.0</td>\n",
       "      <td>42.0</td>\n",
       "      <td>31.134053</td>\n",
       "      <td>30.0</td>\n",
       "      <td>30.0</td>\n",
       "      <td>24.27618</td>\n",
       "    </tr>\n",
       "  </tbody>\n",
       "</table>\n",
       "<p>5 rows × 27 columns</p>\n",
       "</div>"
      ],
      "text/plain": [
       "       variant_id     product_type       order_id        user_id  \\\n",
       "0  33826472919172  ricepastapulses  2807985930372  3482464092292   \n",
       "1  33826472919172  ricepastapulses  2808027644036  3466586718340   \n",
       "2  33826472919172  ricepastapulses  2808099078276  3481384026244   \n",
       "3  33826472919172  ricepastapulses  2808393957508  3291363377284   \n",
       "5  33826472919172  ricepastapulses  2808434524292  3479090790532   \n",
       "\n",
       "            created_at           order_date  user_order_seq  outcome  \\\n",
       "0  2020-10-05 16:46:19  2020-10-05 00:00:00               3      0.0   \n",
       "1  2020-10-05 17:59:51  2020-10-05 00:00:00               2      0.0   \n",
       "2  2020-10-05 20:08:53  2020-10-05 00:00:00               4      0.0   \n",
       "3  2020-10-06 08:57:59  2020-10-06 00:00:00               2      0.0   \n",
       "5  2020-10-06 10:50:23  2020-10-06 00:00:00               3      0.0   \n",
       "\n",
       "   ordered_before  abandoned_before  ...  count_children  count_babies  \\\n",
       "0             0.0               0.0  ...             0.0           0.0   \n",
       "1             0.0               0.0  ...             0.0           0.0   \n",
       "2             0.0               0.0  ...             0.0           0.0   \n",
       "3             0.0               0.0  ...             0.0           0.0   \n",
       "5             0.0               0.0  ...             0.0           0.0   \n",
       "\n",
       "   count_pets  people_ex_baby days_since_purchase_variant_id  \\\n",
       "0         0.0             2.0                           33.0   \n",
       "1         0.0             2.0                           33.0   \n",
       "2         0.0             2.0                           33.0   \n",
       "3         0.0             2.0                           33.0   \n",
       "5         0.0             2.0                           33.0   \n",
       "\n",
       "   avg_days_to_buy_variant_id  std_days_to_buy_variant_id  \\\n",
       "0                        42.0                   31.134053   \n",
       "1                        42.0                   31.134053   \n",
       "2                        42.0                   31.134053   \n",
       "3                        42.0                   31.134053   \n",
       "5                        42.0                   31.134053   \n",
       "\n",
       "   days_since_purchase_product_type  avg_days_to_buy_product_type  \\\n",
       "0                              30.0                          30.0   \n",
       "1                              30.0                          30.0   \n",
       "2                              30.0                          30.0   \n",
       "3                              30.0                          30.0   \n",
       "5                              30.0                          30.0   \n",
       "\n",
       "   std_days_to_buy_product_type  \n",
       "0                      24.27618  \n",
       "1                      24.27618  \n",
       "2                      24.27618  \n",
       "3                      24.27618  \n",
       "5                      24.27618  \n",
       "\n",
       "[5 rows x 27 columns]"
      ]
     },
     "execution_count": 17,
     "metadata": {},
     "output_type": "execute_result"
    }
   ],
   "source": [
    "logging.info(f\"Original dataset size: {df.shape[0]} rows\")\n",
    "logging.info(f\"Filtered dataset size: {df_filtered.shape[0]} rows\")\n",
    "df_filtered.head()"
   ]
  },
  {
   "cell_type": "markdown",
   "id": "c0a25336",
   "metadata": {},
   "source": [
    "### Prepare the data"
   ]
  },
  {
   "cell_type": "markdown",
   "id": "467a1dea",
   "metadata": {},
   "source": [
    "The next step is transforming the categorical features into numericals to train the model. As we have so many categories in `product_type` one-hot encoding would increase the df size a lot, so we have to use a different encoding method. The final idea was to use frequency encoding because other, such as label encoding, create an inexisting order."
   ]
  },
  {
   "cell_type": "code",
   "execution_count": 18,
   "id": "6f5e61c5",
   "metadata": {},
   "outputs": [
    {
     "data": {
      "application/vnd.microsoft.datawrangler.viewer.v0+json": {
       "columns": [
        {
         "name": "index",
         "rawType": "int64",
         "type": "integer"
        },
        {
         "name": "variant_id",
         "rawType": "int64",
         "type": "integer"
        },
        {
         "name": "product_type",
         "rawType": "float64",
         "type": "float"
        },
        {
         "name": "order_id",
         "rawType": "int64",
         "type": "integer"
        },
        {
         "name": "user_id",
         "rawType": "int64",
         "type": "integer"
        },
        {
         "name": "created_at",
         "rawType": "object",
         "type": "string"
        },
        {
         "name": "order_date",
         "rawType": "object",
         "type": "string"
        },
        {
         "name": "user_order_seq",
         "rawType": "int64",
         "type": "integer"
        },
        {
         "name": "outcome",
         "rawType": "float64",
         "type": "float"
        },
        {
         "name": "ordered_before",
         "rawType": "float64",
         "type": "float"
        },
        {
         "name": "abandoned_before",
         "rawType": "float64",
         "type": "float"
        },
        {
         "name": "active_snoozed",
         "rawType": "float64",
         "type": "float"
        },
        {
         "name": "set_as_regular",
         "rawType": "float64",
         "type": "float"
        },
        {
         "name": "normalised_price",
         "rawType": "float64",
         "type": "float"
        },
        {
         "name": "discount_pct",
         "rawType": "float64",
         "type": "float"
        },
        {
         "name": "vendor",
         "rawType": "object",
         "type": "string"
        },
        {
         "name": "global_popularity",
         "rawType": "float64",
         "type": "float"
        },
        {
         "name": "count_adults",
         "rawType": "float64",
         "type": "float"
        },
        {
         "name": "count_children",
         "rawType": "float64",
         "type": "float"
        },
        {
         "name": "count_babies",
         "rawType": "float64",
         "type": "float"
        },
        {
         "name": "count_pets",
         "rawType": "float64",
         "type": "float"
        },
        {
         "name": "people_ex_baby",
         "rawType": "float64",
         "type": "float"
        },
        {
         "name": "days_since_purchase_variant_id",
         "rawType": "float64",
         "type": "float"
        },
        {
         "name": "avg_days_to_buy_variant_id",
         "rawType": "float64",
         "type": "float"
        },
        {
         "name": "std_days_to_buy_variant_id",
         "rawType": "float64",
         "type": "float"
        },
        {
         "name": "days_since_purchase_product_type",
         "rawType": "float64",
         "type": "float"
        },
        {
         "name": "avg_days_to_buy_product_type",
         "rawType": "float64",
         "type": "float"
        },
        {
         "name": "std_days_to_buy_product_type",
         "rawType": "float64",
         "type": "float"
        }
       ],
       "ref": "867d0160-28dc-4ff4-acad-2523214905bf",
       "rows": [
        [
         "0",
         "33826472919172",
         "0.044619268533096605",
         "2807985930372",
         "3482464092292",
         "2020-10-05 16:46:19",
         "2020-10-05 00:00:00",
         "3",
         "0.0",
         "0.0",
         "0.0",
         "0.0",
         "0.0",
         "0.0810517755489292",
         "0.0535117056856186",
         "clearspring",
         "0.0",
         "2.0",
         "0.0",
         "0.0",
         "0.0",
         "2.0",
         "33.0",
         "42.0",
         "31.134053301261627",
         "30.0",
         "30.0",
         "24.27618006034"
        ],
        [
         "1",
         "33826472919172",
         "0.044619268533096605",
         "2808027644036",
         "3466586718340",
         "2020-10-05 17:59:51",
         "2020-10-05 00:00:00",
         "2",
         "0.0",
         "0.0",
         "0.0",
         "0.0",
         "0.0",
         "0.0810517755489292",
         "0.0535117056856186",
         "clearspring",
         "0.0",
         "2.0",
         "0.0",
         "0.0",
         "0.0",
         "2.0",
         "33.0",
         "42.0",
         "31.134053301261627",
         "30.0",
         "30.0",
         "24.27618006034"
        ],
        [
         "2",
         "33826472919172",
         "0.044619268533096605",
         "2808099078276",
         "3481384026244",
         "2020-10-05 20:08:53",
         "2020-10-05 00:00:00",
         "4",
         "0.0",
         "0.0",
         "0.0",
         "0.0",
         "0.0",
         "0.0810517755489292",
         "0.0535117056856186",
         "clearspring",
         "0.0",
         "2.0",
         "0.0",
         "0.0",
         "0.0",
         "2.0",
         "33.0",
         "42.0",
         "31.134053301261627",
         "30.0",
         "30.0",
         "24.27618006034"
        ],
        [
         "3",
         "33826472919172",
         "0.044619268533096605",
         "2808393957508",
         "3291363377284",
         "2020-10-06 08:57:59",
         "2020-10-06 00:00:00",
         "2",
         "0.0",
         "0.0",
         "0.0",
         "0.0",
         "0.0",
         "0.0810517755489292",
         "0.0535117056856186",
         "clearspring",
         "0.0384615384615384",
         "2.0",
         "0.0",
         "0.0",
         "0.0",
         "2.0",
         "33.0",
         "42.0",
         "31.134053301261627",
         "30.0",
         "30.0",
         "24.27618006034"
        ],
        [
         "5",
         "33826472919172",
         "0.044619268533096605",
         "2808434524292",
         "3479090790532",
         "2020-10-06 10:50:23",
         "2020-10-06 00:00:00",
         "3",
         "0.0",
         "0.0",
         "0.0",
         "0.0",
         "0.0",
         "0.0810517755489292",
         "0.0535117056856186",
         "clearspring",
         "0.0384615384615384",
         "2.0",
         "0.0",
         "0.0",
         "0.0",
         "2.0",
         "33.0",
         "42.0",
         "31.134053301261627",
         "30.0",
         "30.0",
         "24.27618006034"
        ]
       ],
       "shape": {
        "columns": 27,
        "rows": 5
       }
      },
      "text/html": [
       "<div>\n",
       "<style scoped>\n",
       "    .dataframe tbody tr th:only-of-type {\n",
       "        vertical-align: middle;\n",
       "    }\n",
       "\n",
       "    .dataframe tbody tr th {\n",
       "        vertical-align: top;\n",
       "    }\n",
       "\n",
       "    .dataframe thead th {\n",
       "        text-align: right;\n",
       "    }\n",
       "</style>\n",
       "<table border=\"1\" class=\"dataframe\">\n",
       "  <thead>\n",
       "    <tr style=\"text-align: right;\">\n",
       "      <th></th>\n",
       "      <th>variant_id</th>\n",
       "      <th>product_type</th>\n",
       "      <th>order_id</th>\n",
       "      <th>user_id</th>\n",
       "      <th>created_at</th>\n",
       "      <th>order_date</th>\n",
       "      <th>user_order_seq</th>\n",
       "      <th>outcome</th>\n",
       "      <th>ordered_before</th>\n",
       "      <th>abandoned_before</th>\n",
       "      <th>...</th>\n",
       "      <th>count_children</th>\n",
       "      <th>count_babies</th>\n",
       "      <th>count_pets</th>\n",
       "      <th>people_ex_baby</th>\n",
       "      <th>days_since_purchase_variant_id</th>\n",
       "      <th>avg_days_to_buy_variant_id</th>\n",
       "      <th>std_days_to_buy_variant_id</th>\n",
       "      <th>days_since_purchase_product_type</th>\n",
       "      <th>avg_days_to_buy_product_type</th>\n",
       "      <th>std_days_to_buy_product_type</th>\n",
       "    </tr>\n",
       "  </thead>\n",
       "  <tbody>\n",
       "    <tr>\n",
       "      <th>0</th>\n",
       "      <td>33826472919172</td>\n",
       "      <td>0.044619</td>\n",
       "      <td>2807985930372</td>\n",
       "      <td>3482464092292</td>\n",
       "      <td>2020-10-05 16:46:19</td>\n",
       "      <td>2020-10-05 00:00:00</td>\n",
       "      <td>3</td>\n",
       "      <td>0.0</td>\n",
       "      <td>0.0</td>\n",
       "      <td>0.0</td>\n",
       "      <td>...</td>\n",
       "      <td>0.0</td>\n",
       "      <td>0.0</td>\n",
       "      <td>0.0</td>\n",
       "      <td>2.0</td>\n",
       "      <td>33.0</td>\n",
       "      <td>42.0</td>\n",
       "      <td>31.134053</td>\n",
       "      <td>30.0</td>\n",
       "      <td>30.0</td>\n",
       "      <td>24.27618</td>\n",
       "    </tr>\n",
       "    <tr>\n",
       "      <th>1</th>\n",
       "      <td>33826472919172</td>\n",
       "      <td>0.044619</td>\n",
       "      <td>2808027644036</td>\n",
       "      <td>3466586718340</td>\n",
       "      <td>2020-10-05 17:59:51</td>\n",
       "      <td>2020-10-05 00:00:00</td>\n",
       "      <td>2</td>\n",
       "      <td>0.0</td>\n",
       "      <td>0.0</td>\n",
       "      <td>0.0</td>\n",
       "      <td>...</td>\n",
       "      <td>0.0</td>\n",
       "      <td>0.0</td>\n",
       "      <td>0.0</td>\n",
       "      <td>2.0</td>\n",
       "      <td>33.0</td>\n",
       "      <td>42.0</td>\n",
       "      <td>31.134053</td>\n",
       "      <td>30.0</td>\n",
       "      <td>30.0</td>\n",
       "      <td>24.27618</td>\n",
       "    </tr>\n",
       "    <tr>\n",
       "      <th>2</th>\n",
       "      <td>33826472919172</td>\n",
       "      <td>0.044619</td>\n",
       "      <td>2808099078276</td>\n",
       "      <td>3481384026244</td>\n",
       "      <td>2020-10-05 20:08:53</td>\n",
       "      <td>2020-10-05 00:00:00</td>\n",
       "      <td>4</td>\n",
       "      <td>0.0</td>\n",
       "      <td>0.0</td>\n",
       "      <td>0.0</td>\n",
       "      <td>...</td>\n",
       "      <td>0.0</td>\n",
       "      <td>0.0</td>\n",
       "      <td>0.0</td>\n",
       "      <td>2.0</td>\n",
       "      <td>33.0</td>\n",
       "      <td>42.0</td>\n",
       "      <td>31.134053</td>\n",
       "      <td>30.0</td>\n",
       "      <td>30.0</td>\n",
       "      <td>24.27618</td>\n",
       "    </tr>\n",
       "    <tr>\n",
       "      <th>3</th>\n",
       "      <td>33826472919172</td>\n",
       "      <td>0.044619</td>\n",
       "      <td>2808393957508</td>\n",
       "      <td>3291363377284</td>\n",
       "      <td>2020-10-06 08:57:59</td>\n",
       "      <td>2020-10-06 00:00:00</td>\n",
       "      <td>2</td>\n",
       "      <td>0.0</td>\n",
       "      <td>0.0</td>\n",
       "      <td>0.0</td>\n",
       "      <td>...</td>\n",
       "      <td>0.0</td>\n",
       "      <td>0.0</td>\n",
       "      <td>0.0</td>\n",
       "      <td>2.0</td>\n",
       "      <td>33.0</td>\n",
       "      <td>42.0</td>\n",
       "      <td>31.134053</td>\n",
       "      <td>30.0</td>\n",
       "      <td>30.0</td>\n",
       "      <td>24.27618</td>\n",
       "    </tr>\n",
       "    <tr>\n",
       "      <th>5</th>\n",
       "      <td>33826472919172</td>\n",
       "      <td>0.044619</td>\n",
       "      <td>2808434524292</td>\n",
       "      <td>3479090790532</td>\n",
       "      <td>2020-10-06 10:50:23</td>\n",
       "      <td>2020-10-06 00:00:00</td>\n",
       "      <td>3</td>\n",
       "      <td>0.0</td>\n",
       "      <td>0.0</td>\n",
       "      <td>0.0</td>\n",
       "      <td>...</td>\n",
       "      <td>0.0</td>\n",
       "      <td>0.0</td>\n",
       "      <td>0.0</td>\n",
       "      <td>2.0</td>\n",
       "      <td>33.0</td>\n",
       "      <td>42.0</td>\n",
       "      <td>31.134053</td>\n",
       "      <td>30.0</td>\n",
       "      <td>30.0</td>\n",
       "      <td>24.27618</td>\n",
       "    </tr>\n",
       "  </tbody>\n",
       "</table>\n",
       "<p>5 rows × 27 columns</p>\n",
       "</div>"
      ],
      "text/plain": [
       "       variant_id  product_type       order_id        user_id  \\\n",
       "0  33826472919172      0.044619  2807985930372  3482464092292   \n",
       "1  33826472919172      0.044619  2808027644036  3466586718340   \n",
       "2  33826472919172      0.044619  2808099078276  3481384026244   \n",
       "3  33826472919172      0.044619  2808393957508  3291363377284   \n",
       "5  33826472919172      0.044619  2808434524292  3479090790532   \n",
       "\n",
       "            created_at           order_date  user_order_seq  outcome  \\\n",
       "0  2020-10-05 16:46:19  2020-10-05 00:00:00               3      0.0   \n",
       "1  2020-10-05 17:59:51  2020-10-05 00:00:00               2      0.0   \n",
       "2  2020-10-05 20:08:53  2020-10-05 00:00:00               4      0.0   \n",
       "3  2020-10-06 08:57:59  2020-10-06 00:00:00               2      0.0   \n",
       "5  2020-10-06 10:50:23  2020-10-06 00:00:00               3      0.0   \n",
       "\n",
       "   ordered_before  abandoned_before  ...  count_children  count_babies  \\\n",
       "0             0.0               0.0  ...             0.0           0.0   \n",
       "1             0.0               0.0  ...             0.0           0.0   \n",
       "2             0.0               0.0  ...             0.0           0.0   \n",
       "3             0.0               0.0  ...             0.0           0.0   \n",
       "5             0.0               0.0  ...             0.0           0.0   \n",
       "\n",
       "   count_pets  people_ex_baby days_since_purchase_variant_id  \\\n",
       "0         0.0             2.0                           33.0   \n",
       "1         0.0             2.0                           33.0   \n",
       "2         0.0             2.0                           33.0   \n",
       "3         0.0             2.0                           33.0   \n",
       "5         0.0             2.0                           33.0   \n",
       "\n",
       "   avg_days_to_buy_variant_id  std_days_to_buy_variant_id  \\\n",
       "0                        42.0                   31.134053   \n",
       "1                        42.0                   31.134053   \n",
       "2                        42.0                   31.134053   \n",
       "3                        42.0                   31.134053   \n",
       "5                        42.0                   31.134053   \n",
       "\n",
       "   days_since_purchase_product_type  avg_days_to_buy_product_type  \\\n",
       "0                              30.0                          30.0   \n",
       "1                              30.0                          30.0   \n",
       "2                              30.0                          30.0   \n",
       "3                              30.0                          30.0   \n",
       "5                              30.0                          30.0   \n",
       "\n",
       "   std_days_to_buy_product_type  \n",
       "0                      24.27618  \n",
       "1                      24.27618  \n",
       "2                      24.27618  \n",
       "3                      24.27618  \n",
       "5                      24.27618  \n",
       "\n",
       "[5 rows x 27 columns]"
      ]
     },
     "execution_count": 18,
     "metadata": {},
     "output_type": "execute_result"
    }
   ],
   "source": [
    "df_model = df_filtered.copy()\n",
    "\n",
    "# Frequency encoding for product_type\n",
    "freq_map = df_model[\"product_type\"].value_counts(normalize=True)\n",
    "df_model[\"product_type\"] = df_model[\"product_type\"].map(freq_map)\n",
    "df_model.head()"
   ]
  },
  {
   "cell_type": "markdown",
   "id": "1a15ead9",
   "metadata": {},
   "source": [
    "Now, we split the data intro train (70%), validation (20%) and test (10%). We have to take into account that our data has a temporal feature, so we split them in time."
   ]
  },
  {
   "cell_type": "code",
   "execution_count": 19,
   "id": "4accf38d",
   "metadata": {},
   "outputs": [
    {
     "data": {
      "image/png": "[encoded data removed]",
      "text/plain": [
       "<Figure size 1200x600 with 1 Axes>"
      ]
     },
     "metadata": {},
     "output_type": "display_data"
    }
   ],
   "source": [
    "df_model['order_date'] = pd.to_datetime(df_model['order_date'])\n",
    "orders_per_date = df_model.groupby('order_date')['order_id'].nunique().reset_index()\n",
    "plt.figure(figsize=(12, 6))\n",
    "sns.lineplot(data=orders_per_date, x='order_date', y='order_id')\n",
    "train_size = int(0.7 * len(orders_per_date))\n",
    "val_size = int(0.2 * len(orders_per_date))\n",
    "train_end_date = orders_per_date['order_date'].iloc[train_size - 1]\n",
    "val_end_date = orders_per_date['order_date'].iloc[train_size + val_size - 1]\n",
    "plt.axvline(x=train_end_date, color='r', linestyle='--', label='Train/Val Split')\n",
    "plt.axvline(x=val_end_date, color='g', linestyle='--', label='Val/Test Split')\n",
    "plt.legend()\n",
    "plt.title('Number of Unique Orders Over Time with Train/Val/Test Splits')\n",
    "plt.xlabel('Order Date')\n",
    "plt.ylabel('Number of Unique Orders')\n",
    "plt.show()"
   ]
  },
  {
   "cell_type": "code",
   "execution_count": 20,
   "id": "f00312fe",
   "metadata": {},
   "outputs": [
    {
     "name": "stderr",
     "output_type": "stream",
     "text": [
      "2025-10-24 11:29:42,911 - INFO - Total unique orders: 2603\n",
      "2025-10-24 11:29:42,912 - INFO - Train orders: 1822 (70.0%)\n",
      "2025-10-24 11:29:42,912 - INFO - Val orders: 520 (20.0%)\n",
      "2025-10-24 11:29:42,913 - INFO - Test orders: 261 (10.0%)\n",
      "2025-10-24 11:29:42,914 - INFO - Train rows: 1446691, Val rows: 466801, Test rows: 250461\n",
      "2025-10-24 11:29:42,937 - INFO - Shapes -> Train: (1446691, 6), Val: (466801, 6), Test: (250461, 6)\n"
     ]
    }
   ],
   "source": [
    "def temporal_split_by_order(\n",
    "    df, \n",
    "    date_col, \n",
    "    order_col=\"order_id\", \n",
    "    feature_cols=None,\n",
    "    target_col=\"outcome\", \n",
    "    train_size=0.7, \n",
    "    val_size=0.2, \n",
    "    test_size=0.1\n",
    "):\n",
    "    \"\"\"\n",
    "    Splits a DataFrame into train, validation, and test sets based on order date,\n",
    "    ensuring no items from the same order appear in multiple splits.\n",
    "    \"\"\"\n",
    "    if not abs(train_size + val_size + test_size - 1.0) < 1e-6:\n",
    "        raise ValueError(\"train_size + val_size + test_size must equal 1.0\")\n",
    "\n",
    "    # Order unique orders by date\n",
    "    orders_sorted = (\n",
    "        df[[order_col, date_col]]\n",
    "        .drop_duplicates()\n",
    "        .sort_values(date_col)\n",
    "    )\n",
    "\n",
    "    n_orders = len(orders_sorted)\n",
    "    train_end = int(train_size * n_orders)\n",
    "    val_end = int((train_size + val_size) * n_orders)\n",
    "\n",
    "    # Assign orders to splits\n",
    "    train_orders = orders_sorted.iloc[:train_end][order_col]\n",
    "    val_orders = orders_sorted.iloc[train_end:val_end][order_col]\n",
    "    test_orders = orders_sorted.iloc[val_end:][order_col]\n",
    "\n",
    "    # Filter DataFrame based on order assignments\n",
    "    train_df = df[df[order_col].isin(train_orders)]\n",
    "    val_df = df[df[order_col].isin(val_orders)]\n",
    "    test_df = df[df[order_col].isin(test_orders)]\n",
    "\n",
    "    # If feature_cols is specified, select only those columns along with target_col\n",
    "    if feature_cols is not None:\n",
    "        train_df = train_df[feature_cols + [target_col]]\n",
    "        val_df = val_df[feature_cols + [target_col]]\n",
    "        test_df = test_df[feature_cols + [target_col]]\n",
    "\n",
    "    # Divide into X and y\n",
    "    X_train = train_df.drop(columns=[target_col])\n",
    "    y_train = train_df[target_col]\n",
    "    X_val = val_df.drop(columns=[target_col])\n",
    "    y_val = val_df[target_col]\n",
    "    X_test = test_df.drop(columns=[target_col])\n",
    "    y_test = test_df[target_col]\n",
    "\n",
    "    logging.info(f\"Total unique orders: {n_orders}\")\n",
    "    logging.info(f\"Train orders: {len(train_orders)} ({train_size*100:.1f}%)\")\n",
    "    logging.info(f\"Val orders: {len(val_orders)} ({val_size*100:.1f}%)\")\n",
    "    logging.info(f\"Test orders: {len(test_orders)} ({test_size*100:.1f}%)\")\n",
    "    logging.info(f\"Train rows: {train_df.shape[0]}, Val rows: {val_df.shape[0]}, Test rows: {test_df.shape[0]}\")\n",
    "\n",
    "    return X_train, X_val, X_test, y_train, y_val, y_test\n",
    "\n",
    "X_train, X_val, X_test, y_train, y_val, y_test = temporal_split_by_order(\n",
    "    df=df_model,\n",
    "    date_col=\"order_date\",\n",
    "    order_col=\"order_id\",\n",
    "    feature_cols=[\"product_type\", \"ordered_before\", \"abandoned_before\", \"active_snoozed\", \"set_as_regular\", \"global_popularity\"],\n",
    "    target_col=\"outcome\"\n",
    ")\n",
    "logging.info(f\"Shapes -> Train: {X_train.shape}, Val: {X_val.shape}, Test: {X_test.shape}\")"
   ]
  },
  {
   "cell_type": "markdown",
   "id": "051c1f75",
   "metadata": {},
   "source": [
    "Lastly, we scale the data, which is very important for models like Ridge and Lasso since they penalise high weights."
   ]
  },
  {
   "cell_type": "code",
   "execution_count": 21,
   "id": "ee5dcea2",
   "metadata": {},
   "outputs": [],
   "source": [
    "scaler = StandardScaler()\n",
    "\n",
    "X_train_scaled = scaler.fit_transform(X_train)\n",
    "X_val_scaled = scaler.transform(X_val)\n",
    "X_test_scaled = scaler.transform(X_test)"
   ]
  },
  {
   "cell_type": "markdown",
   "id": "09b50155",
   "metadata": {},
   "source": [
    "### Non-linear models: ensembles"
   ]
  },
  {
   "cell_type": "markdown",
   "id": "25f3d0c8",
   "metadata": {},
   "source": [
    "#### Random Forest"
   ]
  },
  {
   "cell_type": "markdown",
   "id": "c92f2bb4",
   "metadata": {},
   "source": [
    "The first model we are going to test is Random Forest, which is an ensemble of decision trees."
   ]
  },
  {
   "cell_type": "code",
   "execution_count": null,
   "id": "c209d4ff",
   "metadata": {},
   "outputs": [],
   "source": []
  },
  {
   "cell_type": "code",
   "execution_count": 24,
   "id": "ebc5df5c",
   "metadata": {},
   "outputs": [
    {
     "name": "stderr",
     "output_type": "stream",
     "text": [
      "2025-10-24 11:38:58,084 - INFO - Random Forest Classifier - Validation Set Classification Report:\n",
      "              precision    recall  f1-score   support\n",
      "\n",
      "         0.0       0.99      1.00      0.99    460469\n",
      "         1.0       0.31      0.09      0.14      6332\n",
      "\n",
      "    accuracy                           0.98    466801\n",
      "   macro avg       0.65      0.55      0.57    466801\n",
      "weighted avg       0.98      0.98      0.98    466801\n",
      "\n"
     ]
    }
   ],
   "source": [
    "rf = RandomForestClassifier(n_estimators=50, random_state=42)\n",
    "rf.fit(X_train_scaled, y_train)\n",
    "\n",
    "y_val_pred_rf = rf.predict(X_val_scaled)\n",
    "\n",
    "rf_report = classification_report(y_val, y_val_pred_rf)\n",
    "logging.info(\"Random Forest Classifier - Validation Set Classification Report:\\n\" + rf_report)"
   ]
  },
  {
   "cell_type": "code",
   "execution_count": 25,
   "id": "49b75d5e",
   "metadata": {},
   "outputs": [
    {
     "name": "stdout",
     "output_type": "stream",
     "text": [
      "             feature  importance\n",
      "5  global_popularity    0.664589\n",
      "0       product_type    0.114070\n",
      "1     ordered_before    0.103095\n",
      "2   abandoned_before    0.099855\n",
      "4     set_as_regular    0.013871\n",
      "3     active_snoozed    0.004521\n"
     ]
    }
   ],
   "source": [
    "importance = pd.DataFrame({\n",
    "    \"feature\": X_train.columns,\n",
    "    \"importance\": rf.feature_importances_\n",
    "}).sort_values(\"importance\", ascending=False)\n",
    "\n",
    "print(importance)"
   ]
  },
  {
   "cell_type": "markdown",
   "id": "0119e260",
   "metadata": {},
   "source": [
    "#### Gradient Boosting Trees"
   ]
  },
  {
   "cell_type": "markdown",
   "id": "ebf60c02",
   "metadata": {},
   "source": [
    "Now, we try Gradient Voosting Trees, which is another trees' ensemble."
   ]
  },
  {
   "cell_type": "code",
   "execution_count": 28,
   "id": "4279727f",
   "metadata": {},
   "outputs": [
    {
     "name": "stderr",
     "output_type": "stream",
     "text": [
      "2025-10-24 11:44:18,872 - INFO - Gradient Boosting Classifier - Validation Set Classification Report:\n",
      "              precision    recall  f1-score   support\n",
      "\n",
      "         0.0       0.99      1.00      0.99    460469\n",
      "         1.0       0.69      0.04      0.08      6332\n",
      "\n",
      "    accuracy                           0.99    466801\n",
      "   macro avg       0.84      0.52      0.54    466801\n",
      "weighted avg       0.98      0.99      0.98    466801\n",
      "\n"
     ]
    }
   ],
   "source": [
    "gb = GradientBoostingClassifier(n_estimators=50, random_state=42)\n",
    "gb.fit(X_train_scaled, y_train)\n",
    "\n",
    "y_val_pred_gb = gb.predict(X_val_scaled)\n",
    "\n",
    "gb_report = classification_report(y_val, y_val_pred_gb)\n",
    "logging.info(\"Gradient Boosting Classifier - Validation Set Classification Report:\\n\" + gb_report)"
   ]
  },
  {
   "cell_type": "code",
   "execution_count": 29,
   "id": "d74c2a55",
   "metadata": {},
   "outputs": [
    {
     "name": "stdout",
     "output_type": "stream",
     "text": [
      "             feature  importance\n",
      "1     ordered_before    0.500394\n",
      "5  global_popularity    0.298319\n",
      "2   abandoned_before    0.146452\n",
      "4     set_as_regular    0.035055\n",
      "0       product_type    0.015459\n",
      "3     active_snoozed    0.004320\n"
     ]
    }
   ],
   "source": [
    "importance = pd.DataFrame({\n",
    "    \"feature\": X_train.columns,\n",
    "    \"importance\": gb.feature_importances_\n",
    "}).sort_values(\"importance\", ascending=False)\n",
    "\n",
    "print(importance)"
   ]
  },
  {
   "cell_type": "markdown",
   "id": "eafa4423",
   "metadata": {},
   "source": [
    "### Conclusions"
   ]
  },
  {
   "cell_type": "markdown",
   "id": "61db3108",
   "metadata": {},
   "source": []
  },
  {
   "cell_type": "markdown",
   "id": "8db385e4",
   "metadata": {},
   "source": [
    "#### Confusion matrices"
   ]
  },
  {
   "cell_type": "markdown",
   "id": "4072be3d",
   "metadata": {},
   "source": [
    "#### Curves"
   ]
  },
  {
   "cell_type": "markdown",
   "id": "8d2304e0",
   "metadata": {},
   "source": [
    "#### Model selection"
   ]
  },
  {
   "cell_type": "markdown",
   "id": "562e740b",
   "metadata": {},
   "source": []
  }
 ],
 "metadata": {
  "kernelspec": {
   "display_name": "zrive-ds-py3.11",
   "language": "python",
   "name": "python3"
  },
  "language_info": {
   "codemirror_mode": {
    "name": "ipython",
    "version": 3
   },
   "file_extension": ".py",
   "mimetype": "text/x-python",
   "name": "python",
   "nbconvert_exporter": "python",
   "pygments_lexer": "ipython3",
   "version": "3.11.0"
  }
 },
 "nbformat": 4,
 "nbformat_minor": 5
}
