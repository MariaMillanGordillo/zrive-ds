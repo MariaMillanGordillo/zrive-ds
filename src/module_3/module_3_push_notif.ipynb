{
 "cells": [
  {
   "cell_type": "markdown",
   "id": "4e470f15",
   "metadata": {},
   "source": [
    "# Module 3: Push Notifications DS"
   ]
  },
  {
   "cell_type": "markdown",
   "id": "fdc167bd",
   "metadata": {},
   "source": [
    "## Import libraries"
   ]
  },
  {
   "cell_type": "code",
   "execution_count": 15,
   "id": "a067cfb0",
   "metadata": {},
   "outputs": [],
   "source": [
    "import os\n",
    "import boto3\n",
    "import logging\n",
    "import pandas as pd\n",
    "from pathlib import Path\n",
    "from dotenv import load_dotenv\n",
    "\n",
    "import seaborn as sns\n",
    "import matplotlib.pyplot as plt\n",
    "\n",
    "from sklearn.preprocessing import LabelEncoder\n",
    "from sklearn.preprocessing import StandardScaler\n",
    "from sklearn.model_selection import train_test_split\n",
    "from sklearn.linear_model import LinearRegression, Ridge, Lasso, LogisticRegression\n",
    "from sklearn.metrics import mean_squared_error, r2_score, accuracy_score, classification_report\n",
    "\n",
    "from sklearn.linear_model import LinearRegression\n",
    "from sklearn.metrics import roc_auc_score, average_precision_score, roc_curve, precision_recall_curve\n",
    "\n",
    "logging.basicConfig(\n",
    "    level=logging.INFO,  # Info level for general information\n",
    "    format=\"%(asctime)s - %(levelname)s - %(message)s\",\n",
    ")"
   ]
  },
  {
   "cell_type": "markdown",
   "id": "6c73b233",
   "metadata": {},
   "source": [
    "## Load dataset"
   ]
  },
  {
   "cell_type": "code",
   "execution_count": 2,
   "id": "479095ed",
   "metadata": {},
   "outputs": [
    {
     "name": "stderr",
     "output_type": "stream",
     "text": [
      "2025-10-18 11:18:56,665 - INFO - Data folder: /Users/maria/Desktop/Zrive DS/zrive-ds/data\n",
      "2025-10-18 11:18:57,261 - INFO - Already exists: /Users/maria/Desktop/Zrive DS/zrive-ds/data/box_builder_dataset/feature_frame.csv, skipping download.\n"
     ]
    }
   ],
   "source": [
    "load_dotenv()\n",
    "AWW_API_KEY = os.getenv(\"AWW_API_KEY\")\n",
    "AWW_SECRET = os.getenv(\"AWW_SECRET\")\n",
    "\n",
    "s3 = boto3.client(\n",
    "    's3',\n",
    "    aws_access_key_id=AWW_API_KEY,\n",
    "    aws_secret_access_key=AWW_SECRET\n",
    ")\n",
    "bucket_name = 'zrive-ds-data'\n",
    "prefix = \"groceries/box_builder_dataset/\"\n",
    "\n",
    "PROJECT_ROOT = Path().resolve().parent.parent\n",
    "DATA_DIR = PROJECT_ROOT / \"data\"\n",
    "DATA_DIR.mkdir(exist_ok=True)\n",
    "\n",
    "logging.info(f\"Data folder: {DATA_DIR}\")\n",
    "\n",
    "response = s3.list_objects_v2(Bucket=bucket_name, Prefix=prefix)\n",
    "\n",
    "for obj in response.get(\"Contents\", []):\n",
    "    file_key = obj[\"Key\"]\n",
    "    if file_key.endswith(\"/\"):  # skip folder placeholders\n",
    "        continue\n",
    "\n",
    "    # Strip the first folder ('groceries/') and keep the inner folders\n",
    "    relative_path = Path(*file_key.split(\"/\")[1:])\n",
    "    local_path = DATA_DIR / relative_path\n",
    "    local_path.parent.mkdir(parents=True, exist_ok=True)\n",
    "\n",
    "    if local_path.exists():\n",
    "        logging.info(f\"Already exists: {local_path}, skipping download.\")\n",
    "    else:\n",
    "        s3.download_file(bucket_name, file_key, str(local_path))\n",
    "        logging.info(f\"Downloaded {local_path}\")"
   ]
  },
  {
   "cell_type": "code",
   "execution_count": 3,
   "id": "7c5e92d7",
   "metadata": {},
   "outputs": [
    {
     "data": {
      "application/vnd.microsoft.datawrangler.viewer.v0+json": {
       "columns": [
        {
         "name": "index",
         "rawType": "int64",
         "type": "integer"
        },
        {
         "name": "variant_id",
         "rawType": "int64",
         "type": "integer"
        },
        {
         "name": "product_type",
         "rawType": "object",
         "type": "string"
        },
        {
         "name": "order_id",
         "rawType": "int64",
         "type": "integer"
        },
        {
         "name": "user_id",
         "rawType": "int64",
         "type": "integer"
        },
        {
         "name": "created_at",
         "rawType": "object",
         "type": "string"
        },
        {
         "name": "order_date",
         "rawType": "object",
         "type": "string"
        },
        {
         "name": "user_order_seq",
         "rawType": "int64",
         "type": "integer"
        },
        {
         "name": "outcome",
         "rawType": "float64",
         "type": "float"
        },
        {
         "name": "ordered_before",
         "rawType": "float64",
         "type": "float"
        },
        {
         "name": "abandoned_before",
         "rawType": "float64",
         "type": "float"
        },
        {
         "name": "active_snoozed",
         "rawType": "float64",
         "type": "float"
        },
        {
         "name": "set_as_regular",
         "rawType": "float64",
         "type": "float"
        },
        {
         "name": "normalised_price",
         "rawType": "float64",
         "type": "float"
        },
        {
         "name": "discount_pct",
         "rawType": "float64",
         "type": "float"
        },
        {
         "name": "vendor",
         "rawType": "object",
         "type": "string"
        },
        {
         "name": "global_popularity",
         "rawType": "float64",
         "type": "float"
        },
        {
         "name": "count_adults",
         "rawType": "float64",
         "type": "float"
        },
        {
         "name": "count_children",
         "rawType": "float64",
         "type": "float"
        },
        {
         "name": "count_babies",
         "rawType": "float64",
         "type": "float"
        },
        {
         "name": "count_pets",
         "rawType": "float64",
         "type": "float"
        },
        {
         "name": "people_ex_baby",
         "rawType": "float64",
         "type": "float"
        },
        {
         "name": "days_since_purchase_variant_id",
         "rawType": "float64",
         "type": "float"
        },
        {
         "name": "avg_days_to_buy_variant_id",
         "rawType": "float64",
         "type": "float"
        },
        {
         "name": "std_days_to_buy_variant_id",
         "rawType": "float64",
         "type": "float"
        },
        {
         "name": "days_since_purchase_product_type",
         "rawType": "float64",
         "type": "float"
        },
        {
         "name": "avg_days_to_buy_product_type",
         "rawType": "float64",
         "type": "float"
        },
        {
         "name": "std_days_to_buy_product_type",
         "rawType": "float64",
         "type": "float"
        }
       ],
       "ref": "7586e0d1-1f91-4304-838d-430d878b576f",
       "rows": [
        [
         "0",
         "33826472919172",
         "ricepastapulses",
         "2807985930372",
         "3482464092292",
         "2020-10-05 16:46:19",
         "2020-10-05 00:00:00",
         "3",
         "0.0",
         "0.0",
         "0.0",
         "0.0",
         "0.0",
         "0.0810517755489292",
         "0.0535117056856186",
         "clearspring",
         "0.0",
         "2.0",
         "0.0",
         "0.0",
         "0.0",
         "2.0",
         "33.0",
         "42.0",
         "31.134053301261627",
         "30.0",
         "30.0",
         "24.27618006034"
        ],
        [
         "1",
         "33826472919172",
         "ricepastapulses",
         "2808027644036",
         "3466586718340",
         "2020-10-05 17:59:51",
         "2020-10-05 00:00:00",
         "2",
         "0.0",
         "0.0",
         "0.0",
         "0.0",
         "0.0",
         "0.0810517755489292",
         "0.0535117056856186",
         "clearspring",
         "0.0",
         "2.0",
         "0.0",
         "0.0",
         "0.0",
         "2.0",
         "33.0",
         "42.0",
         "31.134053301261627",
         "30.0",
         "30.0",
         "24.27618006034"
        ],
        [
         "2",
         "33826472919172",
         "ricepastapulses",
         "2808099078276",
         "3481384026244",
         "2020-10-05 20:08:53",
         "2020-10-05 00:00:00",
         "4",
         "0.0",
         "0.0",
         "0.0",
         "0.0",
         "0.0",
         "0.0810517755489292",
         "0.0535117056856186",
         "clearspring",
         "0.0",
         "2.0",
         "0.0",
         "0.0",
         "0.0",
         "2.0",
         "33.0",
         "42.0",
         "31.134053301261627",
         "30.0",
         "30.0",
         "24.27618006034"
        ],
        [
         "3",
         "33826472919172",
         "ricepastapulses",
         "2808393957508",
         "3291363377284",
         "2020-10-06 08:57:59",
         "2020-10-06 00:00:00",
         "2",
         "0.0",
         "0.0",
         "0.0",
         "0.0",
         "0.0",
         "0.0810517755489292",
         "0.0535117056856186",
         "clearspring",
         "0.0384615384615384",
         "2.0",
         "0.0",
         "0.0",
         "0.0",
         "2.0",
         "33.0",
         "42.0",
         "31.134053301261627",
         "30.0",
         "30.0",
         "24.27618006034"
        ],
        [
         "4",
         "33826472919172",
         "ricepastapulses",
         "2808429314180",
         "3537167515780",
         "2020-10-06 10:37:05",
         "2020-10-06 00:00:00",
         "3",
         "0.0",
         "0.0",
         "0.0",
         "0.0",
         "0.0",
         "0.0810517755489292",
         "0.0535117056856186",
         "clearspring",
         "0.0384615384615384",
         "2.0",
         "0.0",
         "0.0",
         "0.0",
         "2.0",
         "33.0",
         "42.0",
         "31.134053301261627",
         "30.0",
         "30.0",
         "24.27618006034"
        ]
       ],
       "shape": {
        "columns": 27,
        "rows": 5
       }
      },
      "text/html": [
       "<div>\n",
       "<style scoped>\n",
       "    .dataframe tbody tr th:only-of-type {\n",
       "        vertical-align: middle;\n",
       "    }\n",
       "\n",
       "    .dataframe tbody tr th {\n",
       "        vertical-align: top;\n",
       "    }\n",
       "\n",
       "    .dataframe thead th {\n",
       "        text-align: right;\n",
       "    }\n",
       "</style>\n",
       "<table border=\"1\" class=\"dataframe\">\n",
       "  <thead>\n",
       "    <tr style=\"text-align: right;\">\n",
       "      <th></th>\n",
       "      <th>variant_id</th>\n",
       "      <th>product_type</th>\n",
       "      <th>order_id</th>\n",
       "      <th>user_id</th>\n",
       "      <th>created_at</th>\n",
       "      <th>order_date</th>\n",
       "      <th>user_order_seq</th>\n",
       "      <th>outcome</th>\n",
       "      <th>ordered_before</th>\n",
       "      <th>abandoned_before</th>\n",
       "      <th>...</th>\n",
       "      <th>count_children</th>\n",
       "      <th>count_babies</th>\n",
       "      <th>count_pets</th>\n",
       "      <th>people_ex_baby</th>\n",
       "      <th>days_since_purchase_variant_id</th>\n",
       "      <th>avg_days_to_buy_variant_id</th>\n",
       "      <th>std_days_to_buy_variant_id</th>\n",
       "      <th>days_since_purchase_product_type</th>\n",
       "      <th>avg_days_to_buy_product_type</th>\n",
       "      <th>std_days_to_buy_product_type</th>\n",
       "    </tr>\n",
       "  </thead>\n",
       "  <tbody>\n",
       "    <tr>\n",
       "      <th>0</th>\n",
       "      <td>33826472919172</td>\n",
       "      <td>ricepastapulses</td>\n",
       "      <td>2807985930372</td>\n",
       "      <td>3482464092292</td>\n",
       "      <td>2020-10-05 16:46:19</td>\n",
       "      <td>2020-10-05 00:00:00</td>\n",
       "      <td>3</td>\n",
       "      <td>0.0</td>\n",
       "      <td>0.0</td>\n",
       "      <td>0.0</td>\n",
       "      <td>...</td>\n",
       "      <td>0.0</td>\n",
       "      <td>0.0</td>\n",
       "      <td>0.0</td>\n",
       "      <td>2.0</td>\n",
       "      <td>33.0</td>\n",
       "      <td>42.0</td>\n",
       "      <td>31.134053</td>\n",
       "      <td>30.0</td>\n",
       "      <td>30.0</td>\n",
       "      <td>24.27618</td>\n",
       "    </tr>\n",
       "    <tr>\n",
       "      <th>1</th>\n",
       "      <td>33826472919172</td>\n",
       "      <td>ricepastapulses</td>\n",
       "      <td>2808027644036</td>\n",
       "      <td>3466586718340</td>\n",
       "      <td>2020-10-05 17:59:51</td>\n",
       "      <td>2020-10-05 00:00:00</td>\n",
       "      <td>2</td>\n",
       "      <td>0.0</td>\n",
       "      <td>0.0</td>\n",
       "      <td>0.0</td>\n",
       "      <td>...</td>\n",
       "      <td>0.0</td>\n",
       "      <td>0.0</td>\n",
       "      <td>0.0</td>\n",
       "      <td>2.0</td>\n",
       "      <td>33.0</td>\n",
       "      <td>42.0</td>\n",
       "      <td>31.134053</td>\n",
       "      <td>30.0</td>\n",
       "      <td>30.0</td>\n",
       "      <td>24.27618</td>\n",
       "    </tr>\n",
       "    <tr>\n",
       "      <th>2</th>\n",
       "      <td>33826472919172</td>\n",
       "      <td>ricepastapulses</td>\n",
       "      <td>2808099078276</td>\n",
       "      <td>3481384026244</td>\n",
       "      <td>2020-10-05 20:08:53</td>\n",
       "      <td>2020-10-05 00:00:00</td>\n",
       "      <td>4</td>\n",
       "      <td>0.0</td>\n",
       "      <td>0.0</td>\n",
       "      <td>0.0</td>\n",
       "      <td>...</td>\n",
       "      <td>0.0</td>\n",
       "      <td>0.0</td>\n",
       "      <td>0.0</td>\n",
       "      <td>2.0</td>\n",
       "      <td>33.0</td>\n",
       "      <td>42.0</td>\n",
       "      <td>31.134053</td>\n",
       "      <td>30.0</td>\n",
       "      <td>30.0</td>\n",
       "      <td>24.27618</td>\n",
       "    </tr>\n",
       "    <tr>\n",
       "      <th>3</th>\n",
       "      <td>33826472919172</td>\n",
       "      <td>ricepastapulses</td>\n",
       "      <td>2808393957508</td>\n",
       "      <td>3291363377284</td>\n",
       "      <td>2020-10-06 08:57:59</td>\n",
       "      <td>2020-10-06 00:00:00</td>\n",
       "      <td>2</td>\n",
       "      <td>0.0</td>\n",
       "      <td>0.0</td>\n",
       "      <td>0.0</td>\n",
       "      <td>...</td>\n",
       "      <td>0.0</td>\n",
       "      <td>0.0</td>\n",
       "      <td>0.0</td>\n",
       "      <td>2.0</td>\n",
       "      <td>33.0</td>\n",
       "      <td>42.0</td>\n",
       "      <td>31.134053</td>\n",
       "      <td>30.0</td>\n",
       "      <td>30.0</td>\n",
       "      <td>24.27618</td>\n",
       "    </tr>\n",
       "    <tr>\n",
       "      <th>4</th>\n",
       "      <td>33826472919172</td>\n",
       "      <td>ricepastapulses</td>\n",
       "      <td>2808429314180</td>\n",
       "      <td>3537167515780</td>\n",
       "      <td>2020-10-06 10:37:05</td>\n",
       "      <td>2020-10-06 00:00:00</td>\n",
       "      <td>3</td>\n",
       "      <td>0.0</td>\n",
       "      <td>0.0</td>\n",
       "      <td>0.0</td>\n",
       "      <td>...</td>\n",
       "      <td>0.0</td>\n",
       "      <td>0.0</td>\n",
       "      <td>0.0</td>\n",
       "      <td>2.0</td>\n",
       "      <td>33.0</td>\n",
       "      <td>42.0</td>\n",
       "      <td>31.134053</td>\n",
       "      <td>30.0</td>\n",
       "      <td>30.0</td>\n",
       "      <td>24.27618</td>\n",
       "    </tr>\n",
       "  </tbody>\n",
       "</table>\n",
       "<p>5 rows × 27 columns</p>\n",
       "</div>"
      ],
      "text/plain": [
       "       variant_id     product_type       order_id        user_id  \\\n",
       "0  33826472919172  ricepastapulses  2807985930372  3482464092292   \n",
       "1  33826472919172  ricepastapulses  2808027644036  3466586718340   \n",
       "2  33826472919172  ricepastapulses  2808099078276  3481384026244   \n",
       "3  33826472919172  ricepastapulses  2808393957508  3291363377284   \n",
       "4  33826472919172  ricepastapulses  2808429314180  3537167515780   \n",
       "\n",
       "            created_at           order_date  user_order_seq  outcome  \\\n",
       "0  2020-10-05 16:46:19  2020-10-05 00:00:00               3      0.0   \n",
       "1  2020-10-05 17:59:51  2020-10-05 00:00:00               2      0.0   \n",
       "2  2020-10-05 20:08:53  2020-10-05 00:00:00               4      0.0   \n",
       "3  2020-10-06 08:57:59  2020-10-06 00:00:00               2      0.0   \n",
       "4  2020-10-06 10:37:05  2020-10-06 00:00:00               3      0.0   \n",
       "\n",
       "   ordered_before  abandoned_before  ...  count_children  count_babies  \\\n",
       "0             0.0               0.0  ...             0.0           0.0   \n",
       "1             0.0               0.0  ...             0.0           0.0   \n",
       "2             0.0               0.0  ...             0.0           0.0   \n",
       "3             0.0               0.0  ...             0.0           0.0   \n",
       "4             0.0               0.0  ...             0.0           0.0   \n",
       "\n",
       "   count_pets  people_ex_baby days_since_purchase_variant_id  \\\n",
       "0         0.0             2.0                           33.0   \n",
       "1         0.0             2.0                           33.0   \n",
       "2         0.0             2.0                           33.0   \n",
       "3         0.0             2.0                           33.0   \n",
       "4         0.0             2.0                           33.0   \n",
       "\n",
       "   avg_days_to_buy_variant_id  std_days_to_buy_variant_id  \\\n",
       "0                        42.0                   31.134053   \n",
       "1                        42.0                   31.134053   \n",
       "2                        42.0                   31.134053   \n",
       "3                        42.0                   31.134053   \n",
       "4                        42.0                   31.134053   \n",
       "\n",
       "   days_since_purchase_product_type  avg_days_to_buy_product_type  \\\n",
       "0                              30.0                          30.0   \n",
       "1                              30.0                          30.0   \n",
       "2                              30.0                          30.0   \n",
       "3                              30.0                          30.0   \n",
       "4                              30.0                          30.0   \n",
       "\n",
       "   std_days_to_buy_product_type  \n",
       "0                      24.27618  \n",
       "1                      24.27618  \n",
       "2                      24.27618  \n",
       "3                      24.27618  \n",
       "4                      24.27618  \n",
       "\n",
       "[5 rows x 27 columns]"
      ]
     },
     "execution_count": 3,
     "metadata": {},
     "output_type": "execute_result"
    }
   ],
   "source": [
    "df = pd.read_csv(DATA_DIR / \"box_builder_dataset\" / \"feature_frame.csv\")\n",
    "df.head()"
   ]
  },
  {
   "cell_type": "markdown",
   "id": "0b5b1e5f",
   "metadata": {},
   "source": [
    "## Milestone 1: exploration phase"
   ]
  },
  {
   "cell_type": "markdown",
   "id": "81071291",
   "metadata": {},
   "source": [
    "### Filter to at least 5 items bought"
   ]
  },
  {
   "cell_type": "code",
   "execution_count": 4,
   "id": "a5f236a6",
   "metadata": {},
   "outputs": [],
   "source": [
    "orders_with_5plus = (\n",
    "    df[df[\"outcome\"] == 1]              # only buy orders\n",
    "      .groupby(\"order_id\")[\"variant_id\"]\n",
    "      .nunique()                        # count unique variant_id por order_id\n",
    "      .loc[lambda x: x >= 5]            # take >= 5 items\n",
    "      .index                            # get the order_id index\n",
    ")\n",
    "\n",
    "df_filtered = df[df[\"order_id\"].isin(orders_with_5plus)]\n"
   ]
  },
  {
   "cell_type": "code",
   "execution_count": 5,
   "id": "f0a57839",
   "metadata": {},
   "outputs": [
    {
     "name": "stderr",
     "output_type": "stream",
     "text": [
      "2025-10-18 11:19:07,065 - INFO - Original dataset size: 2880549 rows\n",
      "2025-10-18 11:19:07,067 - INFO - Filtered dataset size: 2163953 rows\n"
     ]
    },
    {
     "data": {
      "application/vnd.microsoft.datawrangler.viewer.v0+json": {
       "columns": [
        {
         "name": "index",
         "rawType": "int64",
         "type": "integer"
        },
        {
         "name": "variant_id",
         "rawType": "int64",
         "type": "integer"
        },
        {
         "name": "product_type",
         "rawType": "object",
         "type": "string"
        },
        {
         "name": "order_id",
         "rawType": "int64",
         "type": "integer"
        },
        {
         "name": "user_id",
         "rawType": "int64",
         "type": "integer"
        },
        {
         "name": "created_at",
         "rawType": "object",
         "type": "string"
        },
        {
         "name": "order_date",
         "rawType": "object",
         "type": "string"
        },
        {
         "name": "user_order_seq",
         "rawType": "int64",
         "type": "integer"
        },
        {
         "name": "outcome",
         "rawType": "float64",
         "type": "float"
        },
        {
         "name": "ordered_before",
         "rawType": "float64",
         "type": "float"
        },
        {
         "name": "abandoned_before",
         "rawType": "float64",
         "type": "float"
        },
        {
         "name": "active_snoozed",
         "rawType": "float64",
         "type": "float"
        },
        {
         "name": "set_as_regular",
         "rawType": "float64",
         "type": "float"
        },
        {
         "name": "normalised_price",
         "rawType": "float64",
         "type": "float"
        },
        {
         "name": "discount_pct",
         "rawType": "float64",
         "type": "float"
        },
        {
         "name": "vendor",
         "rawType": "object",
         "type": "string"
        },
        {
         "name": "global_popularity",
         "rawType": "float64",
         "type": "float"
        },
        {
         "name": "count_adults",
         "rawType": "float64",
         "type": "float"
        },
        {
         "name": "count_children",
         "rawType": "float64",
         "type": "float"
        },
        {
         "name": "count_babies",
         "rawType": "float64",
         "type": "float"
        },
        {
         "name": "count_pets",
         "rawType": "float64",
         "type": "float"
        },
        {
         "name": "people_ex_baby",
         "rawType": "float64",
         "type": "float"
        },
        {
         "name": "days_since_purchase_variant_id",
         "rawType": "float64",
         "type": "float"
        },
        {
         "name": "avg_days_to_buy_variant_id",
         "rawType": "float64",
         "type": "float"
        },
        {
         "name": "std_days_to_buy_variant_id",
         "rawType": "float64",
         "type": "float"
        },
        {
         "name": "days_since_purchase_product_type",
         "rawType": "float64",
         "type": "float"
        },
        {
         "name": "avg_days_to_buy_product_type",
         "rawType": "float64",
         "type": "float"
        },
        {
         "name": "std_days_to_buy_product_type",
         "rawType": "float64",
         "type": "float"
        }
       ],
       "ref": "e49a78ad-05d4-4c5c-91aa-8a99f198f361",
       "rows": [
        [
         "0",
         "33826472919172",
         "ricepastapulses",
         "2807985930372",
         "3482464092292",
         "2020-10-05 16:46:19",
         "2020-10-05 00:00:00",
         "3",
         "0.0",
         "0.0",
         "0.0",
         "0.0",
         "0.0",
         "0.0810517755489292",
         "0.0535117056856186",
         "clearspring",
         "0.0",
         "2.0",
         "0.0",
         "0.0",
         "0.0",
         "2.0",
         "33.0",
         "42.0",
         "31.134053301261627",
         "30.0",
         "30.0",
         "24.27618006034"
        ],
        [
         "1",
         "33826472919172",
         "ricepastapulses",
         "2808027644036",
         "3466586718340",
         "2020-10-05 17:59:51",
         "2020-10-05 00:00:00",
         "2",
         "0.0",
         "0.0",
         "0.0",
         "0.0",
         "0.0",
         "0.0810517755489292",
         "0.0535117056856186",
         "clearspring",
         "0.0",
         "2.0",
         "0.0",
         "0.0",
         "0.0",
         "2.0",
         "33.0",
         "42.0",
         "31.134053301261627",
         "30.0",
         "30.0",
         "24.27618006034"
        ],
        [
         "2",
         "33826472919172",
         "ricepastapulses",
         "2808099078276",
         "3481384026244",
         "2020-10-05 20:08:53",
         "2020-10-05 00:00:00",
         "4",
         "0.0",
         "0.0",
         "0.0",
         "0.0",
         "0.0",
         "0.0810517755489292",
         "0.0535117056856186",
         "clearspring",
         "0.0",
         "2.0",
         "0.0",
         "0.0",
         "0.0",
         "2.0",
         "33.0",
         "42.0",
         "31.134053301261627",
         "30.0",
         "30.0",
         "24.27618006034"
        ],
        [
         "3",
         "33826472919172",
         "ricepastapulses",
         "2808393957508",
         "3291363377284",
         "2020-10-06 08:57:59",
         "2020-10-06 00:00:00",
         "2",
         "0.0",
         "0.0",
         "0.0",
         "0.0",
         "0.0",
         "0.0810517755489292",
         "0.0535117056856186",
         "clearspring",
         "0.0384615384615384",
         "2.0",
         "0.0",
         "0.0",
         "0.0",
         "2.0",
         "33.0",
         "42.0",
         "31.134053301261627",
         "30.0",
         "30.0",
         "24.27618006034"
        ],
        [
         "5",
         "33826472919172",
         "ricepastapulses",
         "2808434524292",
         "3479090790532",
         "2020-10-06 10:50:23",
         "2020-10-06 00:00:00",
         "3",
         "0.0",
         "0.0",
         "0.0",
         "0.0",
         "0.0",
         "0.0810517755489292",
         "0.0535117056856186",
         "clearspring",
         "0.0384615384615384",
         "2.0",
         "0.0",
         "0.0",
         "0.0",
         "2.0",
         "33.0",
         "42.0",
         "31.134053301261627",
         "30.0",
         "30.0",
         "24.27618006034"
        ]
       ],
       "shape": {
        "columns": 27,
        "rows": 5
       }
      },
      "text/html": [
       "<div>\n",
       "<style scoped>\n",
       "    .dataframe tbody tr th:only-of-type {\n",
       "        vertical-align: middle;\n",
       "    }\n",
       "\n",
       "    .dataframe tbody tr th {\n",
       "        vertical-align: top;\n",
       "    }\n",
       "\n",
       "    .dataframe thead th {\n",
       "        text-align: right;\n",
       "    }\n",
       "</style>\n",
       "<table border=\"1\" class=\"dataframe\">\n",
       "  <thead>\n",
       "    <tr style=\"text-align: right;\">\n",
       "      <th></th>\n",
       "      <th>variant_id</th>\n",
       "      <th>product_type</th>\n",
       "      <th>order_id</th>\n",
       "      <th>user_id</th>\n",
       "      <th>created_at</th>\n",
       "      <th>order_date</th>\n",
       "      <th>user_order_seq</th>\n",
       "      <th>outcome</th>\n",
       "      <th>ordered_before</th>\n",
       "      <th>abandoned_before</th>\n",
       "      <th>...</th>\n",
       "      <th>count_children</th>\n",
       "      <th>count_babies</th>\n",
       "      <th>count_pets</th>\n",
       "      <th>people_ex_baby</th>\n",
       "      <th>days_since_purchase_variant_id</th>\n",
       "      <th>avg_days_to_buy_variant_id</th>\n",
       "      <th>std_days_to_buy_variant_id</th>\n",
       "      <th>days_since_purchase_product_type</th>\n",
       "      <th>avg_days_to_buy_product_type</th>\n",
       "      <th>std_days_to_buy_product_type</th>\n",
       "    </tr>\n",
       "  </thead>\n",
       "  <tbody>\n",
       "    <tr>\n",
       "      <th>0</th>\n",
       "      <td>33826472919172</td>\n",
       "      <td>ricepastapulses</td>\n",
       "      <td>2807985930372</td>\n",
       "      <td>3482464092292</td>\n",
       "      <td>2020-10-05 16:46:19</td>\n",
       "      <td>2020-10-05 00:00:00</td>\n",
       "      <td>3</td>\n",
       "      <td>0.0</td>\n",
       "      <td>0.0</td>\n",
       "      <td>0.0</td>\n",
       "      <td>...</td>\n",
       "      <td>0.0</td>\n",
       "      <td>0.0</td>\n",
       "      <td>0.0</td>\n",
       "      <td>2.0</td>\n",
       "      <td>33.0</td>\n",
       "      <td>42.0</td>\n",
       "      <td>31.134053</td>\n",
       "      <td>30.0</td>\n",
       "      <td>30.0</td>\n",
       "      <td>24.27618</td>\n",
       "    </tr>\n",
       "    <tr>\n",
       "      <th>1</th>\n",
       "      <td>33826472919172</td>\n",
       "      <td>ricepastapulses</td>\n",
       "      <td>2808027644036</td>\n",
       "      <td>3466586718340</td>\n",
       "      <td>2020-10-05 17:59:51</td>\n",
       "      <td>2020-10-05 00:00:00</td>\n",
       "      <td>2</td>\n",
       "      <td>0.0</td>\n",
       "      <td>0.0</td>\n",
       "      <td>0.0</td>\n",
       "      <td>...</td>\n",
       "      <td>0.0</td>\n",
       "      <td>0.0</td>\n",
       "      <td>0.0</td>\n",
       "      <td>2.0</td>\n",
       "      <td>33.0</td>\n",
       "      <td>42.0</td>\n",
       "      <td>31.134053</td>\n",
       "      <td>30.0</td>\n",
       "      <td>30.0</td>\n",
       "      <td>24.27618</td>\n",
       "    </tr>\n",
       "    <tr>\n",
       "      <th>2</th>\n",
       "      <td>33826472919172</td>\n",
       "      <td>ricepastapulses</td>\n",
       "      <td>2808099078276</td>\n",
       "      <td>3481384026244</td>\n",
       "      <td>2020-10-05 20:08:53</td>\n",
       "      <td>2020-10-05 00:00:00</td>\n",
       "      <td>4</td>\n",
       "      <td>0.0</td>\n",
       "      <td>0.0</td>\n",
       "      <td>0.0</td>\n",
       "      <td>...</td>\n",
       "      <td>0.0</td>\n",
       "      <td>0.0</td>\n",
       "      <td>0.0</td>\n",
       "      <td>2.0</td>\n",
       "      <td>33.0</td>\n",
       "      <td>42.0</td>\n",
       "      <td>31.134053</td>\n",
       "      <td>30.0</td>\n",
       "      <td>30.0</td>\n",
       "      <td>24.27618</td>\n",
       "    </tr>\n",
       "    <tr>\n",
       "      <th>3</th>\n",
       "      <td>33826472919172</td>\n",
       "      <td>ricepastapulses</td>\n",
       "      <td>2808393957508</td>\n",
       "      <td>3291363377284</td>\n",
       "      <td>2020-10-06 08:57:59</td>\n",
       "      <td>2020-10-06 00:00:00</td>\n",
       "      <td>2</td>\n",
       "      <td>0.0</td>\n",
       "      <td>0.0</td>\n",
       "      <td>0.0</td>\n",
       "      <td>...</td>\n",
       "      <td>0.0</td>\n",
       "      <td>0.0</td>\n",
       "      <td>0.0</td>\n",
       "      <td>2.0</td>\n",
       "      <td>33.0</td>\n",
       "      <td>42.0</td>\n",
       "      <td>31.134053</td>\n",
       "      <td>30.0</td>\n",
       "      <td>30.0</td>\n",
       "      <td>24.27618</td>\n",
       "    </tr>\n",
       "    <tr>\n",
       "      <th>5</th>\n",
       "      <td>33826472919172</td>\n",
       "      <td>ricepastapulses</td>\n",
       "      <td>2808434524292</td>\n",
       "      <td>3479090790532</td>\n",
       "      <td>2020-10-06 10:50:23</td>\n",
       "      <td>2020-10-06 00:00:00</td>\n",
       "      <td>3</td>\n",
       "      <td>0.0</td>\n",
       "      <td>0.0</td>\n",
       "      <td>0.0</td>\n",
       "      <td>...</td>\n",
       "      <td>0.0</td>\n",
       "      <td>0.0</td>\n",
       "      <td>0.0</td>\n",
       "      <td>2.0</td>\n",
       "      <td>33.0</td>\n",
       "      <td>42.0</td>\n",
       "      <td>31.134053</td>\n",
       "      <td>30.0</td>\n",
       "      <td>30.0</td>\n",
       "      <td>24.27618</td>\n",
       "    </tr>\n",
       "  </tbody>\n",
       "</table>\n",
       "<p>5 rows × 27 columns</p>\n",
       "</div>"
      ],
      "text/plain": [
       "       variant_id     product_type       order_id        user_id  \\\n",
       "0  33826472919172  ricepastapulses  2807985930372  3482464092292   \n",
       "1  33826472919172  ricepastapulses  2808027644036  3466586718340   \n",
       "2  33826472919172  ricepastapulses  2808099078276  3481384026244   \n",
       "3  33826472919172  ricepastapulses  2808393957508  3291363377284   \n",
       "5  33826472919172  ricepastapulses  2808434524292  3479090790532   \n",
       "\n",
       "            created_at           order_date  user_order_seq  outcome  \\\n",
       "0  2020-10-05 16:46:19  2020-10-05 00:00:00               3      0.0   \n",
       "1  2020-10-05 17:59:51  2020-10-05 00:00:00               2      0.0   \n",
       "2  2020-10-05 20:08:53  2020-10-05 00:00:00               4      0.0   \n",
       "3  2020-10-06 08:57:59  2020-10-06 00:00:00               2      0.0   \n",
       "5  2020-10-06 10:50:23  2020-10-06 00:00:00               3      0.0   \n",
       "\n",
       "   ordered_before  abandoned_before  ...  count_children  count_babies  \\\n",
       "0             0.0               0.0  ...             0.0           0.0   \n",
       "1             0.0               0.0  ...             0.0           0.0   \n",
       "2             0.0               0.0  ...             0.0           0.0   \n",
       "3             0.0               0.0  ...             0.0           0.0   \n",
       "5             0.0               0.0  ...             0.0           0.0   \n",
       "\n",
       "   count_pets  people_ex_baby days_since_purchase_variant_id  \\\n",
       "0         0.0             2.0                           33.0   \n",
       "1         0.0             2.0                           33.0   \n",
       "2         0.0             2.0                           33.0   \n",
       "3         0.0             2.0                           33.0   \n",
       "5         0.0             2.0                           33.0   \n",
       "\n",
       "   avg_days_to_buy_variant_id  std_days_to_buy_variant_id  \\\n",
       "0                        42.0                   31.134053   \n",
       "1                        42.0                   31.134053   \n",
       "2                        42.0                   31.134053   \n",
       "3                        42.0                   31.134053   \n",
       "5                        42.0                   31.134053   \n",
       "\n",
       "   days_since_purchase_product_type  avg_days_to_buy_product_type  \\\n",
       "0                              30.0                          30.0   \n",
       "1                              30.0                          30.0   \n",
       "2                              30.0                          30.0   \n",
       "3                              30.0                          30.0   \n",
       "5                              30.0                          30.0   \n",
       "\n",
       "   std_days_to_buy_product_type  \n",
       "0                      24.27618  \n",
       "1                      24.27618  \n",
       "2                      24.27618  \n",
       "3                      24.27618  \n",
       "5                      24.27618  \n",
       "\n",
       "[5 rows x 27 columns]"
      ]
     },
     "execution_count": 5,
     "metadata": {},
     "output_type": "execute_result"
    }
   ],
   "source": [
    "logging.info(f\"Original dataset size: {df.shape[0]} rows\")\n",
    "logging.info(f\"Filtered dataset size: {df_filtered.shape[0]} rows\")\n",
    "df_filtered.head()"
   ]
  },
  {
   "cell_type": "markdown",
   "id": "c0a25336",
   "metadata": {},
   "source": [
    "### Prepare the data"
   ]
  },
  {
   "cell_type": "markdown",
   "id": "fb5eea9b",
   "metadata": {},
   "source": [
    "First, we separe the target from the other features and drop the columns not needed."
   ]
  },
  {
   "cell_type": "code",
   "execution_count": 6,
   "id": "03dba2cf",
   "metadata": {},
   "outputs": [],
   "source": [
    "X = df_filtered[[\"variant_id\", \"product_type\", \"ordered_before\", \"abandoned_before\", \"active_snoozed\", \"set_as_regular\", \"global_popularity\"]]\n",
    "y = df_filtered[\"outcome\"]"
   ]
  },
  {
   "cell_type": "markdown",
   "id": "467a1dea",
   "metadata": {},
   "source": [
    "The next step is transforming the categorical features into numericals to train the model. As we have so many categories in `product_type` one-hot encoding would increase the df size a lot, so we have to use a different encoding method. The final idea was to use frequency encoding because other, such as label encoding, create an inexisting order."
   ]
  },
  {
   "cell_type": "code",
   "execution_count": 7,
   "id": "6f5e61c5",
   "metadata": {},
   "outputs": [
    {
     "data": {
      "application/vnd.microsoft.datawrangler.viewer.v0+json": {
       "columns": [
        {
         "name": "index",
         "rawType": "int64",
         "type": "integer"
        },
        {
         "name": "variant_id",
         "rawType": "int64",
         "type": "integer"
        },
        {
         "name": "product_type",
         "rawType": "float64",
         "type": "float"
        },
        {
         "name": "ordered_before",
         "rawType": "float64",
         "type": "float"
        },
        {
         "name": "abandoned_before",
         "rawType": "float64",
         "type": "float"
        },
        {
         "name": "active_snoozed",
         "rawType": "float64",
         "type": "float"
        },
        {
         "name": "set_as_regular",
         "rawType": "float64",
         "type": "float"
        },
        {
         "name": "global_popularity",
         "rawType": "float64",
         "type": "float"
        }
       ],
       "ref": "98b25c22-cd94-4209-914a-1ddc1e34e29a",
       "rows": [
        [
         "0",
         "33826472919172",
         "0.044619268533096605",
         "0.0",
         "0.0",
         "0.0",
         "0.0",
         "0.0"
        ],
        [
         "1",
         "33826472919172",
         "0.044619268533096605",
         "0.0",
         "0.0",
         "0.0",
         "0.0",
         "0.0"
        ],
        [
         "2",
         "33826472919172",
         "0.044619268533096605",
         "0.0",
         "0.0",
         "0.0",
         "0.0",
         "0.0"
        ],
        [
         "3",
         "33826472919172",
         "0.044619268533096605",
         "0.0",
         "0.0",
         "0.0",
         "0.0",
         "0.0384615384615384"
        ],
        [
         "5",
         "33826472919172",
         "0.044619268533096605",
         "0.0",
         "0.0",
         "0.0",
         "0.0",
         "0.0384615384615384"
        ]
       ],
       "shape": {
        "columns": 7,
        "rows": 5
       }
      },
      "text/html": [
       "<div>\n",
       "<style scoped>\n",
       "    .dataframe tbody tr th:only-of-type {\n",
       "        vertical-align: middle;\n",
       "    }\n",
       "\n",
       "    .dataframe tbody tr th {\n",
       "        vertical-align: top;\n",
       "    }\n",
       "\n",
       "    .dataframe thead th {\n",
       "        text-align: right;\n",
       "    }\n",
       "</style>\n",
       "<table border=\"1\" class=\"dataframe\">\n",
       "  <thead>\n",
       "    <tr style=\"text-align: right;\">\n",
       "      <th></th>\n",
       "      <th>variant_id</th>\n",
       "      <th>product_type</th>\n",
       "      <th>ordered_before</th>\n",
       "      <th>abandoned_before</th>\n",
       "      <th>active_snoozed</th>\n",
       "      <th>set_as_regular</th>\n",
       "      <th>global_popularity</th>\n",
       "    </tr>\n",
       "  </thead>\n",
       "  <tbody>\n",
       "    <tr>\n",
       "      <th>0</th>\n",
       "      <td>33826472919172</td>\n",
       "      <td>0.044619</td>\n",
       "      <td>0.0</td>\n",
       "      <td>0.0</td>\n",
       "      <td>0.0</td>\n",
       "      <td>0.0</td>\n",
       "      <td>0.000000</td>\n",
       "    </tr>\n",
       "    <tr>\n",
       "      <th>1</th>\n",
       "      <td>33826472919172</td>\n",
       "      <td>0.044619</td>\n",
       "      <td>0.0</td>\n",
       "      <td>0.0</td>\n",
       "      <td>0.0</td>\n",
       "      <td>0.0</td>\n",
       "      <td>0.000000</td>\n",
       "    </tr>\n",
       "    <tr>\n",
       "      <th>2</th>\n",
       "      <td>33826472919172</td>\n",
       "      <td>0.044619</td>\n",
       "      <td>0.0</td>\n",
       "      <td>0.0</td>\n",
       "      <td>0.0</td>\n",
       "      <td>0.0</td>\n",
       "      <td>0.000000</td>\n",
       "    </tr>\n",
       "    <tr>\n",
       "      <th>3</th>\n",
       "      <td>33826472919172</td>\n",
       "      <td>0.044619</td>\n",
       "      <td>0.0</td>\n",
       "      <td>0.0</td>\n",
       "      <td>0.0</td>\n",
       "      <td>0.0</td>\n",
       "      <td>0.038462</td>\n",
       "    </tr>\n",
       "    <tr>\n",
       "      <th>5</th>\n",
       "      <td>33826472919172</td>\n",
       "      <td>0.044619</td>\n",
       "      <td>0.0</td>\n",
       "      <td>0.0</td>\n",
       "      <td>0.0</td>\n",
       "      <td>0.0</td>\n",
       "      <td>0.038462</td>\n",
       "    </tr>\n",
       "  </tbody>\n",
       "</table>\n",
       "</div>"
      ],
      "text/plain": [
       "       variant_id  product_type  ordered_before  abandoned_before  \\\n",
       "0  33826472919172      0.044619             0.0               0.0   \n",
       "1  33826472919172      0.044619             0.0               0.0   \n",
       "2  33826472919172      0.044619             0.0               0.0   \n",
       "3  33826472919172      0.044619             0.0               0.0   \n",
       "5  33826472919172      0.044619             0.0               0.0   \n",
       "\n",
       "   active_snoozed  set_as_regular  global_popularity  \n",
       "0             0.0             0.0           0.000000  \n",
       "1             0.0             0.0           0.000000  \n",
       "2             0.0             0.0           0.000000  \n",
       "3             0.0             0.0           0.038462  \n",
       "5             0.0             0.0           0.038462  "
      ]
     },
     "execution_count": 7,
     "metadata": {},
     "output_type": "execute_result"
    }
   ],
   "source": [
    "X_encoded = X.copy()\n",
    "freq_map = X_encoded['product_type'].value_counts(normalize=True)\n",
    "X_encoded['product_type'] = X_encoded['product_type'].map(freq_map)\n",
    "X_encoded.head()"
   ]
  },
  {
   "cell_type": "markdown",
   "id": "1a15ead9",
   "metadata": {},
   "source": [
    "Now, we split the data intro train (70%), validation (20%) and test (10%)."
   ]
  },
  {
   "cell_type": "code",
   "execution_count": 8,
   "id": "f00312fe",
   "metadata": {},
   "outputs": [
    {
     "name": "stderr",
     "output_type": "stream",
     "text": [
      "2025-10-18 11:19:08,171 - INFO - Training set size: 1514767 rows\n",
      "2025-10-18 11:19:08,172 - INFO - Validation set size: 432812 rows\n",
      "2025-10-18 11:19:08,173 - INFO - Test set size: 216374 rows\n"
     ]
    }
   ],
   "source": [
    "X_train, X_val, y_train, y_val = train_test_split(\n",
    "    X_encoded, y, test_size=0.3, random_state=42\n",
    ")\n",
    "X_val, X_test, y_val, y_test = train_test_split(\n",
    "    X_val, y_val, test_size=0.3333, random_state=42\n",
    ")\n",
    "logging.info(f\"Training set size: {X_train.shape[0]} rows\")\n",
    "logging.info(f\"Validation set size: {X_val.shape[0]} rows\")\n",
    "logging.info(f\"Test set size: {X_test.shape[0]} rows\")"
   ]
  },
  {
   "cell_type": "markdown",
   "id": "051c1f75",
   "metadata": {},
   "source": [
    "Lastly, we scale the data, which is very important for models like Ridge and Lasso since they penalise high weights."
   ]
  },
  {
   "cell_type": "code",
   "execution_count": 9,
   "id": "ee5dcea2",
   "metadata": {},
   "outputs": [],
   "source": [
    "scaler = StandardScaler()\n",
    "\n",
    "X_train_scaled = scaler.fit_transform(X_train)\n",
    "X_val_scaled = scaler.transform(X_val)\n",
    "X_test_scaled = scaler.transform(X_test)"
   ]
  },
  {
   "cell_type": "markdown",
   "id": "09b50155",
   "metadata": {},
   "source": [
    "### Linear models"
   ]
  },
  {
   "cell_type": "markdown",
   "id": "25f3d0c8",
   "metadata": {},
   "source": [
    "#### OLS"
   ]
  },
  {
   "cell_type": "code",
   "execution_count": 14,
   "id": "9d8e5cf1",
   "metadata": {},
   "outputs": [
    {
     "name": "stderr",
     "output_type": "stream",
     "text": [
      "2025-10-18 11:22:18,305 - INFO - OLS AUC: 0.8351155575982087\n",
      "2025-10-18 11:22:18,526 - INFO - OLS AP: 0.16703321701420132\n"
     ]
    }
   ],
   "source": [
    "ols = LinearRegression()\n",
    "ols.fit(X_train_scaled, y_train)\n",
    "\n",
    "y_val_pred = ols.predict(X_val_scaled)\n",
    "\n",
    "logging.info(f\"OLS AUC: {roc_auc_score(y_val, y_val_pred)}\")\n",
    "logging.info(f\"OLS AP: {average_precision_score(y_val, y_val_pred)}\")"
   ]
  },
  {
   "cell_type": "markdown",
   "id": "cc205853",
   "metadata": {},
   "source": [
    "Plotting the ROC Curve and the Precision-Recall Curve to understand the model."
   ]
  },
  {
   "cell_type": "code",
   "execution_count": 24,
   "id": "381525fa",
   "metadata": {},
   "outputs": [
    {
     "data": {
      "image/png": "[encoded data removed]",
      "text/plain": [
       "<Figure size 1400x500 with 2 Axes>"
      ]
     },
     "metadata": {},
     "output_type": "display_data"
    }
   ],
   "source": [
    "fpr, tpr, _ = roc_curve(y_val, y_val_pred)\n",
    "precision, recall, _ = precision_recall_curve(y_val, y_val_pred)\n",
    "\n",
    "sns.set_style(\"whitegrid\")\n",
    "fig, axs = plt.subplots(1, 2, figsize=(14, 5))\n",
    "\n",
    "# ROC\n",
    "axs[0].plot(fpr, tpr, color=\"C0\", lw=2, label=f\"AUC={roc_auc_score(y_val, y_val_pred):.3f}\")\n",
    "axs[0].plot([0, 1], [0, 1], color=\"grey\", lw=1, linestyle=\"--\", alpha=0.7)\n",
    "axs[0].set_xlabel(\"False Positive Rate\")\n",
    "axs[0].set_ylabel(\"True Positive Rate\")\n",
    "axs[0].set_title(\"ROC Curve\")\n",
    "axs[0].legend(loc=\"lower right\")\n",
    "axs[0].grid(True)\n",
    "\n",
    "# Precision-Recall\n",
    "axs[1].plot(recall, precision, color=\"C1\", lw=2, label=f\"AP={average_precision_score(y_val, y_val_pred):.3f}\")\n",
    "axs[1].set_xlabel(\"Recall\")\n",
    "axs[1].set_ylabel(\"Precision\")\n",
    "axs[1].set_title(\"Precision-Recall Curve\")\n",
    "axs[1].legend(loc=\"upper right\")\n",
    "axs[1].grid(True)\n",
    "\n",
    "fig.tight_layout()\n",
    "plt.show()"
   ]
  },
  {
   "cell_type": "markdown",
   "id": "4d033af7",
   "metadata": {},
   "source": [
    "The AUC value is high, which means a good model performance, but the AP value is very low. It could be because the dataset is imbalanced, we have more `outcome=0` than `outcome = 1`."
   ]
  },
  {
   "cell_type": "markdown",
   "id": "e9ef0718",
   "metadata": {},
   "source": [
    "Another interesting point is understanding the importance of each feature in the model results."
   ]
  },
  {
   "cell_type": "code",
   "execution_count": 20,
   "id": "a2af60b4",
   "metadata": {},
   "outputs": [
    {
     "name": "stdout",
     "output_type": "stream",
     "text": [
      "             feature      coef\n",
      "2     ordered_before  0.019082\n",
      "3   abandoned_before  0.018365\n",
      "6  global_popularity  0.014242\n",
      "5     set_as_regular  0.008542\n",
      "0         variant_id  0.001693\n",
      "1       product_type  0.000314\n",
      "4     active_snoozed -0.000494\n"
     ]
    }
   ],
   "source": [
    "importance = pd.DataFrame({\n",
    "    \"feature\": X_train.columns,\n",
    "    \"coef\": ols.coef_.ravel()\n",
    "}).sort_values(\"coef\", ascending=False)\n",
    "\n",
    "print(importance)"
   ]
  },
  {
   "cell_type": "markdown",
   "id": "db997cee",
   "metadata": {},
   "source": [
    "#### Ridge"
   ]
  },
  {
   "cell_type": "code",
   "execution_count": null,
   "id": "4d1ca53f",
   "metadata": {},
   "outputs": [],
   "source": []
  },
  {
   "cell_type": "markdown",
   "id": "46f728fa",
   "metadata": {},
   "source": [
    "#### Lasso"
   ]
  },
  {
   "cell_type": "markdown",
   "id": "51c57374",
   "metadata": {},
   "source": [
    "#### Logistic Regression"
   ]
  }
 ],
 "metadata": {
  "kernelspec": {
   "display_name": "zrive-ds-py3.11",
   "language": "python",
   "name": "python3"
  },
  "language_info": {
   "codemirror_mode": {
    "name": "ipython",
    "version": 3
   },
   "file_extension": ".py",
   "mimetype": "text/x-python",
   "name": "python",
   "nbconvert_exporter": "python",
   "pygments_lexer": "ipython3",
   "version": "3.11.0"
  }
 },
 "nbformat": 4,
 "nbformat_minor": 5
}
