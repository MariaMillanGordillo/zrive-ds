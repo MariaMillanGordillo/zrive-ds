{
 "cells": [
  {
   "cell_type": "markdown",
   "id": "4e470f15",
   "metadata": {},
   "source": [
    "# Module 3: Push Notifications DS"
   ]
  },
  {
   "cell_type": "markdown",
   "id": "fdc167bd",
   "metadata": {},
   "source": [
    "## Import libraries"
   ]
  },
  {
   "cell_type": "code",
   "execution_count": 1,
   "id": "a067cfb0",
   "metadata": {},
   "outputs": [],
   "source": [
    "import os\n",
    "import boto3\n",
    "import logging\n",
    "import numpy as np\n",
    "import pandas as pd\n",
    "from pathlib import Path\n",
    "from dotenv import load_dotenv\n",
    "\n",
    "import seaborn as sns\n",
    "import matplotlib.pyplot as plt\n",
    "\n",
    "from sklearn.preprocessing import LabelEncoder\n",
    "from sklearn.preprocessing import StandardScaler\n",
    "from sklearn.model_selection import train_test_split\n",
    "from sklearn.linear_model import LinearRegression, Ridge, Lasso, LogisticRegression\n",
    "from sklearn.metrics import mean_squared_error, r2_score, accuracy_score, classification_report\n",
    "\n",
    "from sklearn.linear_model import LinearRegression\n",
    "from sklearn.linear_model import Ridge, Lasso, LogisticRegression\n",
    "from sklearn.metrics import roc_auc_score, average_precision_score, roc_curve, precision_recall_curve, f1_score, confusion_matrix\n",
    "\n",
    "logging.basicConfig(\n",
    "    level=logging.INFO,  # Info level for general information\n",
    "    format=\"%(asctime)s - %(levelname)s - %(message)s\",\n",
    ")"
   ]
  },
  {
   "cell_type": "markdown",
   "id": "6c73b233",
   "metadata": {},
   "source": [
    "## Load dataset"
   ]
  },
  {
   "cell_type": "code",
   "execution_count": 2,
   "id": "479095ed",
   "metadata": {},
   "outputs": [
    {
     "name": "stderr",
     "output_type": "stream",
     "text": [
      "2025-10-20 20:20:40,459 - INFO - Data folder: /Users/maria/Desktop/Zrive DS/zrive-ds/data\n",
      "2025-10-20 20:20:41,033 - INFO - Already exists: /Users/maria/Desktop/Zrive DS/zrive-ds/data/box_builder_dataset/feature_frame.csv, skipping download.\n"
     ]
    }
   ],
   "source": [
    "load_dotenv()\n",
    "AWW_API_KEY = os.getenv(\"AWW_API_KEY\")\n",
    "AWW_SECRET = os.getenv(\"AWW_SECRET\")\n",
    "\n",
    "s3 = boto3.client(\n",
    "    's3',\n",
    "    aws_access_key_id=AWW_API_KEY,\n",
    "    aws_secret_access_key=AWW_SECRET\n",
    ")\n",
    "bucket_name = 'zrive-ds-data'\n",
    "prefix = \"groceries/box_builder_dataset/\"\n",
    "\n",
    "PROJECT_ROOT = Path().resolve().parent.parent\n",
    "DATA_DIR = PROJECT_ROOT / \"data\"\n",
    "DATA_DIR.mkdir(exist_ok=True)\n",
    "\n",
    "logging.info(f\"Data folder: {DATA_DIR}\")\n",
    "\n",
    "response = s3.list_objects_v2(Bucket=bucket_name, Prefix=prefix)\n",
    "\n",
    "for obj in response.get(\"Contents\", []):\n",
    "    file_key = obj[\"Key\"]\n",
    "    if file_key.endswith(\"/\"):  # skip folder placeholders\n",
    "        continue\n",
    "\n",
    "    # Strip the first folder ('groceries/') and keep the inner folders\n",
    "    relative_path = Path(*file_key.split(\"/\")[1:])\n",
    "    local_path = DATA_DIR / relative_path\n",
    "    local_path.parent.mkdir(parents=True, exist_ok=True)\n",
    "\n",
    "    if local_path.exists():\n",
    "        logging.info(f\"Already exists: {local_path}, skipping download.\")\n",
    "    else:\n",
    "        s3.download_file(bucket_name, file_key, str(local_path))\n",
    "        logging.info(f\"Downloaded {local_path}\")"
   ]
  },
  {
   "cell_type": "code",
   "execution_count": 3,
   "id": "7c5e92d7",
   "metadata": {},
   "outputs": [
    {
     "data": {
      "application/vnd.microsoft.datawrangler.viewer.v0+json": {
       "columns": [
        {
         "name": "index",
         "rawType": "int64",
         "type": "integer"
        },
        {
         "name": "variant_id",
         "rawType": "int64",
         "type": "integer"
        },
        {
         "name": "product_type",
         "rawType": "object",
         "type": "string"
        },
        {
         "name": "order_id",
         "rawType": "int64",
         "type": "integer"
        },
        {
         "name": "user_id",
         "rawType": "int64",
         "type": "integer"
        },
        {
         "name": "created_at",
         "rawType": "object",
         "type": "string"
        },
        {
         "name": "order_date",
         "rawType": "object",
         "type": "string"
        },
        {
         "name": "user_order_seq",
         "rawType": "int64",
         "type": "integer"
        },
        {
         "name": "outcome",
         "rawType": "float64",
         "type": "float"
        },
        {
         "name": "ordered_before",
         "rawType": "float64",
         "type": "float"
        },
        {
         "name": "abandoned_before",
         "rawType": "float64",
         "type": "float"
        },
        {
         "name": "active_snoozed",
         "rawType": "float64",
         "type": "float"
        },
        {
         "name": "set_as_regular",
         "rawType": "float64",
         "type": "float"
        },
        {
         "name": "normalised_price",
         "rawType": "float64",
         "type": "float"
        },
        {
         "name": "discount_pct",
         "rawType": "float64",
         "type": "float"
        },
        {
         "name": "vendor",
         "rawType": "object",
         "type": "string"
        },
        {
         "name": "global_popularity",
         "rawType": "float64",
         "type": "float"
        },
        {
         "name": "count_adults",
         "rawType": "float64",
         "type": "float"
        },
        {
         "name": "count_children",
         "rawType": "float64",
         "type": "float"
        },
        {
         "name": "count_babies",
         "rawType": "float64",
         "type": "float"
        },
        {
         "name": "count_pets",
         "rawType": "float64",
         "type": "float"
        },
        {
         "name": "people_ex_baby",
         "rawType": "float64",
         "type": "float"
        },
        {
         "name": "days_since_purchase_variant_id",
         "rawType": "float64",
         "type": "float"
        },
        {
         "name": "avg_days_to_buy_variant_id",
         "rawType": "float64",
         "type": "float"
        },
        {
         "name": "std_days_to_buy_variant_id",
         "rawType": "float64",
         "type": "float"
        },
        {
         "name": "days_since_purchase_product_type",
         "rawType": "float64",
         "type": "float"
        },
        {
         "name": "avg_days_to_buy_product_type",
         "rawType": "float64",
         "type": "float"
        },
        {
         "name": "std_days_to_buy_product_type",
         "rawType": "float64",
         "type": "float"
        }
       ],
       "ref": "271eda6e-7f26-4d36-8e6c-9acfbe70b0a8",
       "rows": [
        [
         "0",
         "33826472919172",
         "ricepastapulses",
         "2807985930372",
         "3482464092292",
         "2020-10-05 16:46:19",
         "2020-10-05 00:00:00",
         "3",
         "0.0",
         "0.0",
         "0.0",
         "0.0",
         "0.0",
         "0.0810517755489292",
         "0.0535117056856186",
         "clearspring",
         "0.0",
         "2.0",
         "0.0",
         "0.0",
         "0.0",
         "2.0",
         "33.0",
         "42.0",
         "31.134053301261627",
         "30.0",
         "30.0",
         "24.27618006034"
        ],
        [
         "1",
         "33826472919172",
         "ricepastapulses",
         "2808027644036",
         "3466586718340",
         "2020-10-05 17:59:51",
         "2020-10-05 00:00:00",
         "2",
         "0.0",
         "0.0",
         "0.0",
         "0.0",
         "0.0",
         "0.0810517755489292",
         "0.0535117056856186",
         "clearspring",
         "0.0",
         "2.0",
         "0.0",
         "0.0",
         "0.0",
         "2.0",
         "33.0",
         "42.0",
         "31.134053301261627",
         "30.0",
         "30.0",
         "24.27618006034"
        ],
        [
         "2",
         "33826472919172",
         "ricepastapulses",
         "2808099078276",
         "3481384026244",
         "2020-10-05 20:08:53",
         "2020-10-05 00:00:00",
         "4",
         "0.0",
         "0.0",
         "0.0",
         "0.0",
         "0.0",
         "0.0810517755489292",
         "0.0535117056856186",
         "clearspring",
         "0.0",
         "2.0",
         "0.0",
         "0.0",
         "0.0",
         "2.0",
         "33.0",
         "42.0",
         "31.134053301261627",
         "30.0",
         "30.0",
         "24.27618006034"
        ],
        [
         "3",
         "33826472919172",
         "ricepastapulses",
         "2808393957508",
         "3291363377284",
         "2020-10-06 08:57:59",
         "2020-10-06 00:00:00",
         "2",
         "0.0",
         "0.0",
         "0.0",
         "0.0",
         "0.0",
         "0.0810517755489292",
         "0.0535117056856186",
         "clearspring",
         "0.0384615384615384",
         "2.0",
         "0.0",
         "0.0",
         "0.0",
         "2.0",
         "33.0",
         "42.0",
         "31.134053301261627",
         "30.0",
         "30.0",
         "24.27618006034"
        ],
        [
         "4",
         "33826472919172",
         "ricepastapulses",
         "2808429314180",
         "3537167515780",
         "2020-10-06 10:37:05",
         "2020-10-06 00:00:00",
         "3",
         "0.0",
         "0.0",
         "0.0",
         "0.0",
         "0.0",
         "0.0810517755489292",
         "0.0535117056856186",
         "clearspring",
         "0.0384615384615384",
         "2.0",
         "0.0",
         "0.0",
         "0.0",
         "2.0",
         "33.0",
         "42.0",
         "31.134053301261627",
         "30.0",
         "30.0",
         "24.27618006034"
        ]
       ],
       "shape": {
        "columns": 27,
        "rows": 5
       }
      },
      "text/html": [
       "<div>\n",
       "<style scoped>\n",
       "    .dataframe tbody tr th:only-of-type {\n",
       "        vertical-align: middle;\n",
       "    }\n",
       "\n",
       "    .dataframe tbody tr th {\n",
       "        vertical-align: top;\n",
       "    }\n",
       "\n",
       "    .dataframe thead th {\n",
       "        text-align: right;\n",
       "    }\n",
       "</style>\n",
       "<table border=\"1\" class=\"dataframe\">\n",
       "  <thead>\n",
       "    <tr style=\"text-align: right;\">\n",
       "      <th></th>\n",
       "      <th>variant_id</th>\n",
       "      <th>product_type</th>\n",
       "      <th>order_id</th>\n",
       "      <th>user_id</th>\n",
       "      <th>created_at</th>\n",
       "      <th>order_date</th>\n",
       "      <th>user_order_seq</th>\n",
       "      <th>outcome</th>\n",
       "      <th>ordered_before</th>\n",
       "      <th>abandoned_before</th>\n",
       "      <th>...</th>\n",
       "      <th>count_children</th>\n",
       "      <th>count_babies</th>\n",
       "      <th>count_pets</th>\n",
       "      <th>people_ex_baby</th>\n",
       "      <th>days_since_purchase_variant_id</th>\n",
       "      <th>avg_days_to_buy_variant_id</th>\n",
       "      <th>std_days_to_buy_variant_id</th>\n",
       "      <th>days_since_purchase_product_type</th>\n",
       "      <th>avg_days_to_buy_product_type</th>\n",
       "      <th>std_days_to_buy_product_type</th>\n",
       "    </tr>\n",
       "  </thead>\n",
       "  <tbody>\n",
       "    <tr>\n",
       "      <th>0</th>\n",
       "      <td>33826472919172</td>\n",
       "      <td>ricepastapulses</td>\n",
       "      <td>2807985930372</td>\n",
       "      <td>3482464092292</td>\n",
       "      <td>2020-10-05 16:46:19</td>\n",
       "      <td>2020-10-05 00:00:00</td>\n",
       "      <td>3</td>\n",
       "      <td>0.0</td>\n",
       "      <td>0.0</td>\n",
       "      <td>0.0</td>\n",
       "      <td>...</td>\n",
       "      <td>0.0</td>\n",
       "      <td>0.0</td>\n",
       "      <td>0.0</td>\n",
       "      <td>2.0</td>\n",
       "      <td>33.0</td>\n",
       "      <td>42.0</td>\n",
       "      <td>31.134053</td>\n",
       "      <td>30.0</td>\n",
       "      <td>30.0</td>\n",
       "      <td>24.27618</td>\n",
       "    </tr>\n",
       "    <tr>\n",
       "      <th>1</th>\n",
       "      <td>33826472919172</td>\n",
       "      <td>ricepastapulses</td>\n",
       "      <td>2808027644036</td>\n",
       "      <td>3466586718340</td>\n",
       "      <td>2020-10-05 17:59:51</td>\n",
       "      <td>2020-10-05 00:00:00</td>\n",
       "      <td>2</td>\n",
       "      <td>0.0</td>\n",
       "      <td>0.0</td>\n",
       "      <td>0.0</td>\n",
       "      <td>...</td>\n",
       "      <td>0.0</td>\n",
       "      <td>0.0</td>\n",
       "      <td>0.0</td>\n",
       "      <td>2.0</td>\n",
       "      <td>33.0</td>\n",
       "      <td>42.0</td>\n",
       "      <td>31.134053</td>\n",
       "      <td>30.0</td>\n",
       "      <td>30.0</td>\n",
       "      <td>24.27618</td>\n",
       "    </tr>\n",
       "    <tr>\n",
       "      <th>2</th>\n",
       "      <td>33826472919172</td>\n",
       "      <td>ricepastapulses</td>\n",
       "      <td>2808099078276</td>\n",
       "      <td>3481384026244</td>\n",
       "      <td>2020-10-05 20:08:53</td>\n",
       "      <td>2020-10-05 00:00:00</td>\n",
       "      <td>4</td>\n",
       "      <td>0.0</td>\n",
       "      <td>0.0</td>\n",
       "      <td>0.0</td>\n",
       "      <td>...</td>\n",
       "      <td>0.0</td>\n",
       "      <td>0.0</td>\n",
       "      <td>0.0</td>\n",
       "      <td>2.0</td>\n",
       "      <td>33.0</td>\n",
       "      <td>42.0</td>\n",
       "      <td>31.134053</td>\n",
       "      <td>30.0</td>\n",
       "      <td>30.0</td>\n",
       "      <td>24.27618</td>\n",
       "    </tr>\n",
       "    <tr>\n",
       "      <th>3</th>\n",
       "      <td>33826472919172</td>\n",
       "      <td>ricepastapulses</td>\n",
       "      <td>2808393957508</td>\n",
       "      <td>3291363377284</td>\n",
       "      <td>2020-10-06 08:57:59</td>\n",
       "      <td>2020-10-06 00:00:00</td>\n",
       "      <td>2</td>\n",
       "      <td>0.0</td>\n",
       "      <td>0.0</td>\n",
       "      <td>0.0</td>\n",
       "      <td>...</td>\n",
       "      <td>0.0</td>\n",
       "      <td>0.0</td>\n",
       "      <td>0.0</td>\n",
       "      <td>2.0</td>\n",
       "      <td>33.0</td>\n",
       "      <td>42.0</td>\n",
       "      <td>31.134053</td>\n",
       "      <td>30.0</td>\n",
       "      <td>30.0</td>\n",
       "      <td>24.27618</td>\n",
       "    </tr>\n",
       "    <tr>\n",
       "      <th>4</th>\n",
       "      <td>33826472919172</td>\n",
       "      <td>ricepastapulses</td>\n",
       "      <td>2808429314180</td>\n",
       "      <td>3537167515780</td>\n",
       "      <td>2020-10-06 10:37:05</td>\n",
       "      <td>2020-10-06 00:00:00</td>\n",
       "      <td>3</td>\n",
       "      <td>0.0</td>\n",
       "      <td>0.0</td>\n",
       "      <td>0.0</td>\n",
       "      <td>...</td>\n",
       "      <td>0.0</td>\n",
       "      <td>0.0</td>\n",
       "      <td>0.0</td>\n",
       "      <td>2.0</td>\n",
       "      <td>33.0</td>\n",
       "      <td>42.0</td>\n",
       "      <td>31.134053</td>\n",
       "      <td>30.0</td>\n",
       "      <td>30.0</td>\n",
       "      <td>24.27618</td>\n",
       "    </tr>\n",
       "  </tbody>\n",
       "</table>\n",
       "<p>5 rows × 27 columns</p>\n",
       "</div>"
      ],
      "text/plain": [
       "       variant_id     product_type       order_id        user_id  \\\n",
       "0  33826472919172  ricepastapulses  2807985930372  3482464092292   \n",
       "1  33826472919172  ricepastapulses  2808027644036  3466586718340   \n",
       "2  33826472919172  ricepastapulses  2808099078276  3481384026244   \n",
       "3  33826472919172  ricepastapulses  2808393957508  3291363377284   \n",
       "4  33826472919172  ricepastapulses  2808429314180  3537167515780   \n",
       "\n",
       "            created_at           order_date  user_order_seq  outcome  \\\n",
       "0  2020-10-05 16:46:19  2020-10-05 00:00:00               3      0.0   \n",
       "1  2020-10-05 17:59:51  2020-10-05 00:00:00               2      0.0   \n",
       "2  2020-10-05 20:08:53  2020-10-05 00:00:00               4      0.0   \n",
       "3  2020-10-06 08:57:59  2020-10-06 00:00:00               2      0.0   \n",
       "4  2020-10-06 10:37:05  2020-10-06 00:00:00               3      0.0   \n",
       "\n",
       "   ordered_before  abandoned_before  ...  count_children  count_babies  \\\n",
       "0             0.0               0.0  ...             0.0           0.0   \n",
       "1             0.0               0.0  ...             0.0           0.0   \n",
       "2             0.0               0.0  ...             0.0           0.0   \n",
       "3             0.0               0.0  ...             0.0           0.0   \n",
       "4             0.0               0.0  ...             0.0           0.0   \n",
       "\n",
       "   count_pets  people_ex_baby days_since_purchase_variant_id  \\\n",
       "0         0.0             2.0                           33.0   \n",
       "1         0.0             2.0                           33.0   \n",
       "2         0.0             2.0                           33.0   \n",
       "3         0.0             2.0                           33.0   \n",
       "4         0.0             2.0                           33.0   \n",
       "\n",
       "   avg_days_to_buy_variant_id  std_days_to_buy_variant_id  \\\n",
       "0                        42.0                   31.134053   \n",
       "1                        42.0                   31.134053   \n",
       "2                        42.0                   31.134053   \n",
       "3                        42.0                   31.134053   \n",
       "4                        42.0                   31.134053   \n",
       "\n",
       "   days_since_purchase_product_type  avg_days_to_buy_product_type  \\\n",
       "0                              30.0                          30.0   \n",
       "1                              30.0                          30.0   \n",
       "2                              30.0                          30.0   \n",
       "3                              30.0                          30.0   \n",
       "4                              30.0                          30.0   \n",
       "\n",
       "   std_days_to_buy_product_type  \n",
       "0                      24.27618  \n",
       "1                      24.27618  \n",
       "2                      24.27618  \n",
       "3                      24.27618  \n",
       "4                      24.27618  \n",
       "\n",
       "[5 rows x 27 columns]"
      ]
     },
     "execution_count": 3,
     "metadata": {},
     "output_type": "execute_result"
    }
   ],
   "source": [
    "df = pd.read_csv(DATA_DIR / \"box_builder_dataset\" / \"feature_frame.csv\")\n",
    "df.head()"
   ]
  },
  {
   "cell_type": "markdown",
   "id": "0b5b1e5f",
   "metadata": {},
   "source": [
    "## Milestone 1: exploration phase"
   ]
  },
  {
   "cell_type": "markdown",
   "id": "81071291",
   "metadata": {},
   "source": [
    "### Filter to at least 5 items bought"
   ]
  },
  {
   "cell_type": "code",
   "execution_count": 4,
   "id": "a5f236a6",
   "metadata": {},
   "outputs": [],
   "source": [
    "orders_with_5plus = (\n",
    "    df[df[\"outcome\"] == 1]              # only buy orders\n",
    "      .groupby(\"order_id\")[\"variant_id\"]\n",
    "      .nunique()                        # count unique variant_id por order_id\n",
    "      .loc[lambda x: x >= 5]            # take >= 5 items\n",
    "      .index                            # get the order_id index\n",
    ")\n",
    "\n",
    "df_filtered = df[df[\"order_id\"].isin(orders_with_5plus)]\n"
   ]
  },
  {
   "cell_type": "code",
   "execution_count": 5,
   "id": "f0a57839",
   "metadata": {},
   "outputs": [
    {
     "name": "stderr",
     "output_type": "stream",
     "text": [
      "2025-10-20 20:20:56,140 - INFO - Original dataset size: 2880549 rows\n",
      "2025-10-20 20:20:56,146 - INFO - Filtered dataset size: 2163953 rows\n"
     ]
    },
    {
     "data": {
      "application/vnd.microsoft.datawrangler.viewer.v0+json": {
       "columns": [
        {
         "name": "index",
         "rawType": "int64",
         "type": "integer"
        },
        {
         "name": "variant_id",
         "rawType": "int64",
         "type": "integer"
        },
        {
         "name": "product_type",
         "rawType": "object",
         "type": "string"
        },
        {
         "name": "order_id",
         "rawType": "int64",
         "type": "integer"
        },
        {
         "name": "user_id",
         "rawType": "int64",
         "type": "integer"
        },
        {
         "name": "created_at",
         "rawType": "object",
         "type": "string"
        },
        {
         "name": "order_date",
         "rawType": "object",
         "type": "string"
        },
        {
         "name": "user_order_seq",
         "rawType": "int64",
         "type": "integer"
        },
        {
         "name": "outcome",
         "rawType": "float64",
         "type": "float"
        },
        {
         "name": "ordered_before",
         "rawType": "float64",
         "type": "float"
        },
        {
         "name": "abandoned_before",
         "rawType": "float64",
         "type": "float"
        },
        {
         "name": "active_snoozed",
         "rawType": "float64",
         "type": "float"
        },
        {
         "name": "set_as_regular",
         "rawType": "float64",
         "type": "float"
        },
        {
         "name": "normalised_price",
         "rawType": "float64",
         "type": "float"
        },
        {
         "name": "discount_pct",
         "rawType": "float64",
         "type": "float"
        },
        {
         "name": "vendor",
         "rawType": "object",
         "type": "string"
        },
        {
         "name": "global_popularity",
         "rawType": "float64",
         "type": "float"
        },
        {
         "name": "count_adults",
         "rawType": "float64",
         "type": "float"
        },
        {
         "name": "count_children",
         "rawType": "float64",
         "type": "float"
        },
        {
         "name": "count_babies",
         "rawType": "float64",
         "type": "float"
        },
        {
         "name": "count_pets",
         "rawType": "float64",
         "type": "float"
        },
        {
         "name": "people_ex_baby",
         "rawType": "float64",
         "type": "float"
        },
        {
         "name": "days_since_purchase_variant_id",
         "rawType": "float64",
         "type": "float"
        },
        {
         "name": "avg_days_to_buy_variant_id",
         "rawType": "float64",
         "type": "float"
        },
        {
         "name": "std_days_to_buy_variant_id",
         "rawType": "float64",
         "type": "float"
        },
        {
         "name": "days_since_purchase_product_type",
         "rawType": "float64",
         "type": "float"
        },
        {
         "name": "avg_days_to_buy_product_type",
         "rawType": "float64",
         "type": "float"
        },
        {
         "name": "std_days_to_buy_product_type",
         "rawType": "float64",
         "type": "float"
        }
       ],
       "ref": "fbf92aa2-e2c8-4a3c-95a4-2d97ead258c0",
       "rows": [
        [
         "0",
         "33826472919172",
         "ricepastapulses",
         "2807985930372",
         "3482464092292",
         "2020-10-05 16:46:19",
         "2020-10-05 00:00:00",
         "3",
         "0.0",
         "0.0",
         "0.0",
         "0.0",
         "0.0",
         "0.0810517755489292",
         "0.0535117056856186",
         "clearspring",
         "0.0",
         "2.0",
         "0.0",
         "0.0",
         "0.0",
         "2.0",
         "33.0",
         "42.0",
         "31.134053301261627",
         "30.0",
         "30.0",
         "24.27618006034"
        ],
        [
         "1",
         "33826472919172",
         "ricepastapulses",
         "2808027644036",
         "3466586718340",
         "2020-10-05 17:59:51",
         "2020-10-05 00:00:00",
         "2",
         "0.0",
         "0.0",
         "0.0",
         "0.0",
         "0.0",
         "0.0810517755489292",
         "0.0535117056856186",
         "clearspring",
         "0.0",
         "2.0",
         "0.0",
         "0.0",
         "0.0",
         "2.0",
         "33.0",
         "42.0",
         "31.134053301261627",
         "30.0",
         "30.0",
         "24.27618006034"
        ],
        [
         "2",
         "33826472919172",
         "ricepastapulses",
         "2808099078276",
         "3481384026244",
         "2020-10-05 20:08:53",
         "2020-10-05 00:00:00",
         "4",
         "0.0",
         "0.0",
         "0.0",
         "0.0",
         "0.0",
         "0.0810517755489292",
         "0.0535117056856186",
         "clearspring",
         "0.0",
         "2.0",
         "0.0",
         "0.0",
         "0.0",
         "2.0",
         "33.0",
         "42.0",
         "31.134053301261627",
         "30.0",
         "30.0",
         "24.27618006034"
        ],
        [
         "3",
         "33826472919172",
         "ricepastapulses",
         "2808393957508",
         "3291363377284",
         "2020-10-06 08:57:59",
         "2020-10-06 00:00:00",
         "2",
         "0.0",
         "0.0",
         "0.0",
         "0.0",
         "0.0",
         "0.0810517755489292",
         "0.0535117056856186",
         "clearspring",
         "0.0384615384615384",
         "2.0",
         "0.0",
         "0.0",
         "0.0",
         "2.0",
         "33.0",
         "42.0",
         "31.134053301261627",
         "30.0",
         "30.0",
         "24.27618006034"
        ],
        [
         "5",
         "33826472919172",
         "ricepastapulses",
         "2808434524292",
         "3479090790532",
         "2020-10-06 10:50:23",
         "2020-10-06 00:00:00",
         "3",
         "0.0",
         "0.0",
         "0.0",
         "0.0",
         "0.0",
         "0.0810517755489292",
         "0.0535117056856186",
         "clearspring",
         "0.0384615384615384",
         "2.0",
         "0.0",
         "0.0",
         "0.0",
         "2.0",
         "33.0",
         "42.0",
         "31.134053301261627",
         "30.0",
         "30.0",
         "24.27618006034"
        ]
       ],
       "shape": {
        "columns": 27,
        "rows": 5
       }
      },
      "text/html": [
       "<div>\n",
       "<style scoped>\n",
       "    .dataframe tbody tr th:only-of-type {\n",
       "        vertical-align: middle;\n",
       "    }\n",
       "\n",
       "    .dataframe tbody tr th {\n",
       "        vertical-align: top;\n",
       "    }\n",
       "\n",
       "    .dataframe thead th {\n",
       "        text-align: right;\n",
       "    }\n",
       "</style>\n",
       "<table border=\"1\" class=\"dataframe\">\n",
       "  <thead>\n",
       "    <tr style=\"text-align: right;\">\n",
       "      <th></th>\n",
       "      <th>variant_id</th>\n",
       "      <th>product_type</th>\n",
       "      <th>order_id</th>\n",
       "      <th>user_id</th>\n",
       "      <th>created_at</th>\n",
       "      <th>order_date</th>\n",
       "      <th>user_order_seq</th>\n",
       "      <th>outcome</th>\n",
       "      <th>ordered_before</th>\n",
       "      <th>abandoned_before</th>\n",
       "      <th>...</th>\n",
       "      <th>count_children</th>\n",
       "      <th>count_babies</th>\n",
       "      <th>count_pets</th>\n",
       "      <th>people_ex_baby</th>\n",
       "      <th>days_since_purchase_variant_id</th>\n",
       "      <th>avg_days_to_buy_variant_id</th>\n",
       "      <th>std_days_to_buy_variant_id</th>\n",
       "      <th>days_since_purchase_product_type</th>\n",
       "      <th>avg_days_to_buy_product_type</th>\n",
       "      <th>std_days_to_buy_product_type</th>\n",
       "    </tr>\n",
       "  </thead>\n",
       "  <tbody>\n",
       "    <tr>\n",
       "      <th>0</th>\n",
       "      <td>33826472919172</td>\n",
       "      <td>ricepastapulses</td>\n",
       "      <td>2807985930372</td>\n",
       "      <td>3482464092292</td>\n",
       "      <td>2020-10-05 16:46:19</td>\n",
       "      <td>2020-10-05 00:00:00</td>\n",
       "      <td>3</td>\n",
       "      <td>0.0</td>\n",
       "      <td>0.0</td>\n",
       "      <td>0.0</td>\n",
       "      <td>...</td>\n",
       "      <td>0.0</td>\n",
       "      <td>0.0</td>\n",
       "      <td>0.0</td>\n",
       "      <td>2.0</td>\n",
       "      <td>33.0</td>\n",
       "      <td>42.0</td>\n",
       "      <td>31.134053</td>\n",
       "      <td>30.0</td>\n",
       "      <td>30.0</td>\n",
       "      <td>24.27618</td>\n",
       "    </tr>\n",
       "    <tr>\n",
       "      <th>1</th>\n",
       "      <td>33826472919172</td>\n",
       "      <td>ricepastapulses</td>\n",
       "      <td>2808027644036</td>\n",
       "      <td>3466586718340</td>\n",
       "      <td>2020-10-05 17:59:51</td>\n",
       "      <td>2020-10-05 00:00:00</td>\n",
       "      <td>2</td>\n",
       "      <td>0.0</td>\n",
       "      <td>0.0</td>\n",
       "      <td>0.0</td>\n",
       "      <td>...</td>\n",
       "      <td>0.0</td>\n",
       "      <td>0.0</td>\n",
       "      <td>0.0</td>\n",
       "      <td>2.0</td>\n",
       "      <td>33.0</td>\n",
       "      <td>42.0</td>\n",
       "      <td>31.134053</td>\n",
       "      <td>30.0</td>\n",
       "      <td>30.0</td>\n",
       "      <td>24.27618</td>\n",
       "    </tr>\n",
       "    <tr>\n",
       "      <th>2</th>\n",
       "      <td>33826472919172</td>\n",
       "      <td>ricepastapulses</td>\n",
       "      <td>2808099078276</td>\n",
       "      <td>3481384026244</td>\n",
       "      <td>2020-10-05 20:08:53</td>\n",
       "      <td>2020-10-05 00:00:00</td>\n",
       "      <td>4</td>\n",
       "      <td>0.0</td>\n",
       "      <td>0.0</td>\n",
       "      <td>0.0</td>\n",
       "      <td>...</td>\n",
       "      <td>0.0</td>\n",
       "      <td>0.0</td>\n",
       "      <td>0.0</td>\n",
       "      <td>2.0</td>\n",
       "      <td>33.0</td>\n",
       "      <td>42.0</td>\n",
       "      <td>31.134053</td>\n",
       "      <td>30.0</td>\n",
       "      <td>30.0</td>\n",
       "      <td>24.27618</td>\n",
       "    </tr>\n",
       "    <tr>\n",
       "      <th>3</th>\n",
       "      <td>33826472919172</td>\n",
       "      <td>ricepastapulses</td>\n",
       "      <td>2808393957508</td>\n",
       "      <td>3291363377284</td>\n",
       "      <td>2020-10-06 08:57:59</td>\n",
       "      <td>2020-10-06 00:00:00</td>\n",
       "      <td>2</td>\n",
       "      <td>0.0</td>\n",
       "      <td>0.0</td>\n",
       "      <td>0.0</td>\n",
       "      <td>...</td>\n",
       "      <td>0.0</td>\n",
       "      <td>0.0</td>\n",
       "      <td>0.0</td>\n",
       "      <td>2.0</td>\n",
       "      <td>33.0</td>\n",
       "      <td>42.0</td>\n",
       "      <td>31.134053</td>\n",
       "      <td>30.0</td>\n",
       "      <td>30.0</td>\n",
       "      <td>24.27618</td>\n",
       "    </tr>\n",
       "    <tr>\n",
       "      <th>5</th>\n",
       "      <td>33826472919172</td>\n",
       "      <td>ricepastapulses</td>\n",
       "      <td>2808434524292</td>\n",
       "      <td>3479090790532</td>\n",
       "      <td>2020-10-06 10:50:23</td>\n",
       "      <td>2020-10-06 00:00:00</td>\n",
       "      <td>3</td>\n",
       "      <td>0.0</td>\n",
       "      <td>0.0</td>\n",
       "      <td>0.0</td>\n",
       "      <td>...</td>\n",
       "      <td>0.0</td>\n",
       "      <td>0.0</td>\n",
       "      <td>0.0</td>\n",
       "      <td>2.0</td>\n",
       "      <td>33.0</td>\n",
       "      <td>42.0</td>\n",
       "      <td>31.134053</td>\n",
       "      <td>30.0</td>\n",
       "      <td>30.0</td>\n",
       "      <td>24.27618</td>\n",
       "    </tr>\n",
       "  </tbody>\n",
       "</table>\n",
       "<p>5 rows × 27 columns</p>\n",
       "</div>"
      ],
      "text/plain": [
       "       variant_id     product_type       order_id        user_id  \\\n",
       "0  33826472919172  ricepastapulses  2807985930372  3482464092292   \n",
       "1  33826472919172  ricepastapulses  2808027644036  3466586718340   \n",
       "2  33826472919172  ricepastapulses  2808099078276  3481384026244   \n",
       "3  33826472919172  ricepastapulses  2808393957508  3291363377284   \n",
       "5  33826472919172  ricepastapulses  2808434524292  3479090790532   \n",
       "\n",
       "            created_at           order_date  user_order_seq  outcome  \\\n",
       "0  2020-10-05 16:46:19  2020-10-05 00:00:00               3      0.0   \n",
       "1  2020-10-05 17:59:51  2020-10-05 00:00:00               2      0.0   \n",
       "2  2020-10-05 20:08:53  2020-10-05 00:00:00               4      0.0   \n",
       "3  2020-10-06 08:57:59  2020-10-06 00:00:00               2      0.0   \n",
       "5  2020-10-06 10:50:23  2020-10-06 00:00:00               3      0.0   \n",
       "\n",
       "   ordered_before  abandoned_before  ...  count_children  count_babies  \\\n",
       "0             0.0               0.0  ...             0.0           0.0   \n",
       "1             0.0               0.0  ...             0.0           0.0   \n",
       "2             0.0               0.0  ...             0.0           0.0   \n",
       "3             0.0               0.0  ...             0.0           0.0   \n",
       "5             0.0               0.0  ...             0.0           0.0   \n",
       "\n",
       "   count_pets  people_ex_baby days_since_purchase_variant_id  \\\n",
       "0         0.0             2.0                           33.0   \n",
       "1         0.0             2.0                           33.0   \n",
       "2         0.0             2.0                           33.0   \n",
       "3         0.0             2.0                           33.0   \n",
       "5         0.0             2.0                           33.0   \n",
       "\n",
       "   avg_days_to_buy_variant_id  std_days_to_buy_variant_id  \\\n",
       "0                        42.0                   31.134053   \n",
       "1                        42.0                   31.134053   \n",
       "2                        42.0                   31.134053   \n",
       "3                        42.0                   31.134053   \n",
       "5                        42.0                   31.134053   \n",
       "\n",
       "   days_since_purchase_product_type  avg_days_to_buy_product_type  \\\n",
       "0                              30.0                          30.0   \n",
       "1                              30.0                          30.0   \n",
       "2                              30.0                          30.0   \n",
       "3                              30.0                          30.0   \n",
       "5                              30.0                          30.0   \n",
       "\n",
       "   std_days_to_buy_product_type  \n",
       "0                      24.27618  \n",
       "1                      24.27618  \n",
       "2                      24.27618  \n",
       "3                      24.27618  \n",
       "5                      24.27618  \n",
       "\n",
       "[5 rows x 27 columns]"
      ]
     },
     "execution_count": 5,
     "metadata": {},
     "output_type": "execute_result"
    }
   ],
   "source": [
    "logging.info(f\"Original dataset size: {df.shape[0]} rows\")\n",
    "logging.info(f\"Filtered dataset size: {df_filtered.shape[0]} rows\")\n",
    "df_filtered.head()"
   ]
  },
  {
   "cell_type": "markdown",
   "id": "c0a25336",
   "metadata": {},
   "source": [
    "### Prepare the data"
   ]
  },
  {
   "cell_type": "markdown",
   "id": "fb5eea9b",
   "metadata": {},
   "source": [
    "First, we separe the target from the other features and drop the columns not needed."
   ]
  },
  {
   "cell_type": "code",
   "execution_count": 6,
   "id": "03dba2cf",
   "metadata": {},
   "outputs": [],
   "source": [
    "X = df_filtered[[\"product_type\", \"ordered_before\", \"abandoned_before\", \"active_snoozed\", \"set_as_regular\", \"global_popularity\"]]\n",
    "y = df_filtered[\"outcome\"]"
   ]
  },
  {
   "cell_type": "markdown",
   "id": "467a1dea",
   "metadata": {},
   "source": [
    "The next step is transforming the categorical features into numericals to train the model. As we have so many categories in `product_type` one-hot encoding would increase the df size a lot, so we have to use a different encoding method. The final idea was to use frequency encoding because other, such as label encoding, create an inexisting order."
   ]
  },
  {
   "cell_type": "code",
   "execution_count": 7,
   "id": "6f5e61c5",
   "metadata": {},
   "outputs": [
    {
     "data": {
      "application/vnd.microsoft.datawrangler.viewer.v0+json": {
       "columns": [
        {
         "name": "index",
         "rawType": "int64",
         "type": "integer"
        },
        {
         "name": "product_type",
         "rawType": "float64",
         "type": "float"
        },
        {
         "name": "ordered_before",
         "rawType": "float64",
         "type": "float"
        },
        {
         "name": "abandoned_before",
         "rawType": "float64",
         "type": "float"
        },
        {
         "name": "active_snoozed",
         "rawType": "float64",
         "type": "float"
        },
        {
         "name": "set_as_regular",
         "rawType": "float64",
         "type": "float"
        },
        {
         "name": "global_popularity",
         "rawType": "float64",
         "type": "float"
        }
       ],
       "ref": "de2e2cf8-5dbb-4f2d-896e-2de4d23addb4",
       "rows": [
        [
         "0",
         "0.044619268533096605",
         "0.0",
         "0.0",
         "0.0",
         "0.0",
         "0.0"
        ],
        [
         "1",
         "0.044619268533096605",
         "0.0",
         "0.0",
         "0.0",
         "0.0",
         "0.0"
        ],
        [
         "2",
         "0.044619268533096605",
         "0.0",
         "0.0",
         "0.0",
         "0.0",
         "0.0"
        ],
        [
         "3",
         "0.044619268533096605",
         "0.0",
         "0.0",
         "0.0",
         "0.0",
         "0.0384615384615384"
        ],
        [
         "5",
         "0.044619268533096605",
         "0.0",
         "0.0",
         "0.0",
         "0.0",
         "0.0384615384615384"
        ]
       ],
       "shape": {
        "columns": 6,
        "rows": 5
       }
      },
      "text/html": [
       "<div>\n",
       "<style scoped>\n",
       "    .dataframe tbody tr th:only-of-type {\n",
       "        vertical-align: middle;\n",
       "    }\n",
       "\n",
       "    .dataframe tbody tr th {\n",
       "        vertical-align: top;\n",
       "    }\n",
       "\n",
       "    .dataframe thead th {\n",
       "        text-align: right;\n",
       "    }\n",
       "</style>\n",
       "<table border=\"1\" class=\"dataframe\">\n",
       "  <thead>\n",
       "    <tr style=\"text-align: right;\">\n",
       "      <th></th>\n",
       "      <th>product_type</th>\n",
       "      <th>ordered_before</th>\n",
       "      <th>abandoned_before</th>\n",
       "      <th>active_snoozed</th>\n",
       "      <th>set_as_regular</th>\n",
       "      <th>global_popularity</th>\n",
       "    </tr>\n",
       "  </thead>\n",
       "  <tbody>\n",
       "    <tr>\n",
       "      <th>0</th>\n",
       "      <td>0.044619</td>\n",
       "      <td>0.0</td>\n",
       "      <td>0.0</td>\n",
       "      <td>0.0</td>\n",
       "      <td>0.0</td>\n",
       "      <td>0.000000</td>\n",
       "    </tr>\n",
       "    <tr>\n",
       "      <th>1</th>\n",
       "      <td>0.044619</td>\n",
       "      <td>0.0</td>\n",
       "      <td>0.0</td>\n",
       "      <td>0.0</td>\n",
       "      <td>0.0</td>\n",
       "      <td>0.000000</td>\n",
       "    </tr>\n",
       "    <tr>\n",
       "      <th>2</th>\n",
       "      <td>0.044619</td>\n",
       "      <td>0.0</td>\n",
       "      <td>0.0</td>\n",
       "      <td>0.0</td>\n",
       "      <td>0.0</td>\n",
       "      <td>0.000000</td>\n",
       "    </tr>\n",
       "    <tr>\n",
       "      <th>3</th>\n",
       "      <td>0.044619</td>\n",
       "      <td>0.0</td>\n",
       "      <td>0.0</td>\n",
       "      <td>0.0</td>\n",
       "      <td>0.0</td>\n",
       "      <td>0.038462</td>\n",
       "    </tr>\n",
       "    <tr>\n",
       "      <th>5</th>\n",
       "      <td>0.044619</td>\n",
       "      <td>0.0</td>\n",
       "      <td>0.0</td>\n",
       "      <td>0.0</td>\n",
       "      <td>0.0</td>\n",
       "      <td>0.038462</td>\n",
       "    </tr>\n",
       "  </tbody>\n",
       "</table>\n",
       "</div>"
      ],
      "text/plain": [
       "   product_type  ordered_before  abandoned_before  active_snoozed  \\\n",
       "0      0.044619             0.0               0.0             0.0   \n",
       "1      0.044619             0.0               0.0             0.0   \n",
       "2      0.044619             0.0               0.0             0.0   \n",
       "3      0.044619             0.0               0.0             0.0   \n",
       "5      0.044619             0.0               0.0             0.0   \n",
       "\n",
       "   set_as_regular  global_popularity  \n",
       "0             0.0           0.000000  \n",
       "1             0.0           0.000000  \n",
       "2             0.0           0.000000  \n",
       "3             0.0           0.038462  \n",
       "5             0.0           0.038462  "
      ]
     },
     "execution_count": 7,
     "metadata": {},
     "output_type": "execute_result"
    }
   ],
   "source": [
    "X_encoded = X.copy()\n",
    "freq_map = X_encoded['product_type'].value_counts(normalize=True)\n",
    "X_encoded['product_type'] = X_encoded['product_type'].map(freq_map)\n",
    "X_encoded.head()"
   ]
  },
  {
   "cell_type": "markdown",
   "id": "1a15ead9",
   "metadata": {},
   "source": [
    "Now, we split the data intro train (70%), validation (20%) and test (10%)."
   ]
  },
  {
   "cell_type": "code",
   "execution_count": 8,
   "id": "f00312fe",
   "metadata": {},
   "outputs": [
    {
     "name": "stderr",
     "output_type": "stream",
     "text": [
      "2025-10-20 20:20:57,341 - INFO - Training set size: 1514767 rows\n",
      "2025-10-20 20:20:57,342 - INFO - Validation set size: 432812 rows\n",
      "2025-10-20 20:20:57,343 - INFO - Test set size: 216374 rows\n"
     ]
    }
   ],
   "source": [
    "X_train, X_val, y_train, y_val = train_test_split(\n",
    "    X_encoded, y, test_size=0.3, random_state=42\n",
    ")\n",
    "X_val, X_test, y_val, y_test = train_test_split(\n",
    "    X_val, y_val, test_size=0.3333, random_state=42\n",
    ")\n",
    "logging.info(f\"Training set size: {X_train.shape[0]} rows\")\n",
    "logging.info(f\"Validation set size: {X_val.shape[0]} rows\")\n",
    "logging.info(f\"Test set size: {X_test.shape[0]} rows\")"
   ]
  },
  {
   "cell_type": "markdown",
   "id": "051c1f75",
   "metadata": {},
   "source": [
    "Lastly, we scale the data, which is very important for models like Ridge and Lasso since they penalise high weights."
   ]
  },
  {
   "cell_type": "code",
   "execution_count": 9,
   "id": "ee5dcea2",
   "metadata": {},
   "outputs": [],
   "source": [
    "scaler = StandardScaler()\n",
    "\n",
    "X_train_scaled = scaler.fit_transform(X_train)\n",
    "X_val_scaled = scaler.transform(X_val)\n",
    "X_test_scaled = scaler.transform(X_test)"
   ]
  },
  {
   "cell_type": "markdown",
   "id": "09b50155",
   "metadata": {},
   "source": [
    "### Linear models"
   ]
  },
  {
   "cell_type": "markdown",
   "id": "25f3d0c8",
   "metadata": {},
   "source": [
    "#### OLS"
   ]
  },
  {
   "cell_type": "code",
   "execution_count": 10,
   "id": "9d8e5cf1",
   "metadata": {},
   "outputs": [
    {
     "name": "stderr",
     "output_type": "stream",
     "text": [
      "2025-10-20 20:20:58,663 - INFO - OLS F1 Score: 0.0823\n"
     ]
    }
   ],
   "source": [
    "ols = LinearRegression()\n",
    "ols.fit(X_train_scaled, y_train)\n",
    "\n",
    "y_val_pred_ols = ols.predict(X_val_scaled)\n",
    "\n",
    "logging.info(f\"OLS F1 Score: {f1_score(y_val, y_val_pred_ols.round()):.4f}\")"
   ]
  },
  {
   "cell_type": "markdown",
   "id": "e9ef0718",
   "metadata": {},
   "source": [
    "An interesting point is understanding the importance of each feature in the model results."
   ]
  },
  {
   "cell_type": "code",
   "execution_count": 11,
   "id": "a2af60b4",
   "metadata": {},
   "outputs": [
    {
     "name": "stdout",
     "output_type": "stream",
     "text": [
      "             feature      coef\n",
      "1     ordered_before  0.019036\n",
      "2   abandoned_before  0.018369\n",
      "5  global_popularity  0.014354\n",
      "4     set_as_regular  0.008555\n",
      "0       product_type  0.000519\n",
      "3     active_snoozed -0.000553\n"
     ]
    }
   ],
   "source": [
    "importance = pd.DataFrame({\n",
    "    \"feature\": X_train.columns,\n",
    "    \"coef\": ols.coef_.ravel()\n",
    "}).sort_values(\"coef\", ascending=False)\n",
    "\n",
    "print(importance)"
   ]
  },
  {
   "cell_type": "markdown",
   "id": "db997cee",
   "metadata": {},
   "source": [
    "#### Ridge"
   ]
  },
  {
   "cell_type": "code",
   "execution_count": 12,
   "id": "4d1ca53f",
   "metadata": {},
   "outputs": [
    {
     "name": "stderr",
     "output_type": "stream",
     "text": [
      "2025-10-20 20:21:05,313 - INFO - Ridge tuning results (sorted by AP):\n",
      "      alpha       auc        ap\n",
      "0  1000.000  0.835299  0.166541\n",
      "1   100.000  0.835293  0.166540\n",
      "2    10.000  0.835293  0.166540\n",
      "3     1.000  0.835292  0.166540\n",
      "4     0.100  0.835292  0.166540\n",
      "5     0.001  0.835292  0.166540\n",
      "6     0.010  0.835292  0.166540\n",
      "2025-10-20 20:21:05,315 - INFO - Selected best alpha: 1000.0\n",
      "2025-10-20 20:21:06,298 - INFO - Ridge F1 Score: 0.0823\n"
     ]
    }
   ],
   "source": [
    "alphas = [0.001, 0.01, 0.1, 1.0, 10.0, 100.0, 1000.0]\n",
    "\n",
    "results = []\n",
    "for a in alphas:\n",
    "    model = Ridge(alpha=a)\n",
    "    model.fit(X_train_scaled, y_train)\n",
    "    y_pred = model.predict(X_val_scaled)\n",
    "    auc = roc_auc_score(y_val, y_pred)\n",
    "    ap = average_precision_score(y_val, y_pred)\n",
    "    results.append({\"alpha\": a, \"auc\": auc, \"ap\": ap})\n",
    "\n",
    "results_df = pd.DataFrame(results).sort_values(\"ap\", ascending=False).reset_index(drop=True)\n",
    "logging.info(f\"Ridge tuning results (sorted by AP):\\n{results_df}\")\n",
    "\n",
    "best_alpha = results_df.loc[0, \"alpha\"]\n",
    "logging.info(f\"Selected best alpha: {best_alpha}\")\n",
    "\n",
    "ridge = Ridge(alpha=best_alpha)\n",
    "ridge.fit(X_train_scaled, y_train)\n",
    "\n",
    "y_val_pred_r = ridge.predict(X_val_scaled)\n",
    "\n",
    "logging.info(f\"Ridge F1 Score: {f1_score(y_val, y_val_pred_r.round()):.4f}\")"
   ]
  },
  {
   "cell_type": "code",
   "execution_count": 13,
   "id": "78a8d873",
   "metadata": {},
   "outputs": [
    {
     "name": "stdout",
     "output_type": "stream",
     "text": [
      "             feature      coef\n",
      "1     ordered_before  0.019024\n",
      "2   abandoned_before  0.018358\n",
      "5  global_popularity  0.014346\n",
      "4     set_as_regular  0.008554\n",
      "0       product_type  0.000520\n",
      "3     active_snoozed -0.000549\n"
     ]
    }
   ],
   "source": [
    "importance = pd.DataFrame({\n",
    "    \"feature\": X_train.columns,\n",
    "    \"coef\": ridge.coef_.ravel()\n",
    "}).sort_values(\"coef\", ascending=False)\n",
    "\n",
    "print(importance)"
   ]
  },
  {
   "cell_type": "markdown",
   "id": "46f728fa",
   "metadata": {},
   "source": [
    "#### Lasso"
   ]
  },
  {
   "cell_type": "code",
   "execution_count": 14,
   "id": "d3da7bd4",
   "metadata": {},
   "outputs": [
    {
     "name": "stderr",
     "output_type": "stream",
     "text": [
      "2025-10-20 20:21:12,933 - INFO - Lasso tuning results (top 10 by AP):\n",
      "      alpha       auc        ap\n",
      "0     0.010  0.835521  0.167310\n",
      "1     0.001  0.835662  0.166348\n",
      "2     0.100  0.500000  0.014579\n",
      "3     1.000  0.500000  0.014579\n",
      "4    10.000  0.500000  0.014579\n",
      "5   100.000  0.500000  0.014579\n",
      "6  1000.000  0.500000  0.014579\n",
      "2025-10-20 20:21:12,935 - INFO - Selected best alpha for Lasso: 0.01\n",
      "2025-10-20 20:21:14,669 - INFO - Lasso F1 Score: 0.0010\n"
     ]
    }
   ],
   "source": [
    "alphas_lasso = [0.001, 0.01, 0.1, 1.0, 10.0, 100.0, 1000.0]\n",
    "\n",
    "results = []\n",
    "for a in alphas_lasso:\n",
    "    model = Lasso(alpha=a, max_iter=10000)\n",
    "    model.fit(X_train_scaled, y_train)\n",
    "    y_pred = model.predict(X_val_scaled)\n",
    "    auc = roc_auc_score(y_val, y_pred)\n",
    "    ap = average_precision_score(y_val, y_pred)\n",
    "    results.append({\"alpha\": a, \"auc\": auc, \"ap\": ap})\n",
    "\n",
    "results_df = pd.DataFrame(results).sort_values(\"ap\", ascending=False).reset_index(drop=True)\n",
    "logging.info(f\"Lasso tuning results (top 10 by AP):\\n{results_df.head(10)}\")\n",
    "\n",
    "best_alpha = results_df.loc[0, \"alpha\"]\n",
    "logging.info(f\"Selected best alpha for Lasso: {best_alpha}\")\n",
    "\n",
    "# retrain best model and update variables\n",
    "lasso = Lasso(alpha=best_alpha, max_iter=10000)\n",
    "lasso.fit(X_train_scaled, y_train)\n",
    "\n",
    "y_val_pred_lasso = lasso.predict(X_val_scaled)\n",
    "\n",
    "auc_lasso = roc_auc_score(y_val, y_val_pred_lasso)\n",
    "ap_lasso = average_precision_score(y_val, y_val_pred_lasso)\n",
    "\n",
    "logging.info(f\"Lasso F1 Score: {f1_score(y_val, y_val_pred_lasso.round()):.4f}\")"
   ]
  },
  {
   "cell_type": "code",
   "execution_count": 15,
   "id": "3ae55170",
   "metadata": {},
   "outputs": [
    {
     "name": "stdout",
     "output_type": "stream",
     "text": [
      "             feature      coef\n",
      "1     ordered_before  0.012724\n",
      "2   abandoned_before  0.009097\n",
      "5  global_popularity  0.006121\n",
      "4     set_as_regular  0.001147\n",
      "0       product_type  0.000000\n",
      "3     active_snoozed  0.000000\n"
     ]
    }
   ],
   "source": [
    "importance = pd.DataFrame({\n",
    "    \"feature\": X_train.columns,\n",
    "    \"coef\": lasso.coef_.ravel()\n",
    "}).sort_values(\"coef\", ascending=False)\n",
    "\n",
    "print(importance)"
   ]
  },
  {
   "cell_type": "markdown",
   "id": "51c57374",
   "metadata": {},
   "source": [
    "#### Logistic Regression"
   ]
  },
  {
   "cell_type": "code",
   "execution_count": 16,
   "id": "57b582c1",
   "metadata": {},
   "outputs": [
    {
     "name": "stderr",
     "output_type": "stream",
     "text": [
      "2025-10-20 20:21:34,735 - INFO - Logistic tuning results (sorted by AP):\n",
      "         C       auc        ap\n",
      "0    0.001  0.834129  0.127532\n",
      "1  100.000  0.834143  0.127459\n",
      "2   10.000  0.834143  0.127459\n",
      "3    0.100  0.834142  0.127459\n",
      "4    1.000  0.834143  0.127459\n",
      "5    0.010  0.834138  0.127452\n",
      "2025-10-20 20:21:34,736 - INFO - Selected best C: 0.001\n",
      "2025-10-20 20:21:38,549 - INFO - Logistic Regression F1 Score: 0.1075\n"
     ]
    }
   ],
   "source": [
    "C_values = [0.001, 0.01, 0.1, 1, 10, 100]\n",
    "\n",
    "results_log = []\n",
    "for C in C_values:\n",
    "    model = LogisticRegression(C=C, max_iter=1000, class_weight='balanced')\n",
    "    model.fit(X_train_scaled, y_train)\n",
    "    y_pred = model.predict_proba(X_val_scaled)[:, 1]\n",
    "    results_log.append({\n",
    "        \"C\": C,\n",
    "        \"auc\": roc_auc_score(y_val, y_pred),\n",
    "        \"ap\": average_precision_score(y_val, y_pred)\n",
    "    })\n",
    "\n",
    "results_log_df = pd.DataFrame(results_log).sort_values(\"ap\", ascending=False).reset_index(drop=True)\n",
    "logging.info(f\"Logistic tuning results (sorted by AP):\\n{results_log_df}\")\n",
    "\n",
    "best_C = results_log_df.loc[0, \"C\"]\n",
    "logging.info(f\"Selected best C: {best_C}\")\n",
    "\n",
    "# retrain best logistic model and update variables\n",
    "logreg = LogisticRegression(C=best_C, max_iter=1000, class_weight='balanced')\n",
    "logreg.fit(X_train_scaled, y_train)\n",
    "\n",
    "y_val_pred_log = logreg.predict_proba(X_val_scaled)[:, 1]\n",
    "\n",
    "auc_log = roc_auc_score(y_val, y_val_pred_log)\n",
    "ap_log = average_precision_score(y_val, y_val_pred_log)\n",
    "\n",
    "logging.info(f\"Logistic Regression F1 Score: {f1_score(y_val, y_val_pred_log.round()):.4f}\")"
   ]
  },
  {
   "cell_type": "code",
   "execution_count": 17,
   "id": "af9f8886",
   "metadata": {},
   "outputs": [
    {
     "name": "stdout",
     "output_type": "stream",
     "text": [
      "             feature      coef\n",
      "1     ordered_before  0.012724\n",
      "2   abandoned_before  0.009097\n",
      "5  global_popularity  0.006121\n",
      "4     set_as_regular  0.001147\n",
      "0       product_type  0.000000\n",
      "3     active_snoozed  0.000000\n"
     ]
    }
   ],
   "source": [
    "importance = pd.DataFrame({\n",
    "    \"feature\": X_train.columns,\n",
    "    \"coef\": lasso.coef_.ravel()\n",
    "}).sort_values(\"coef\", ascending=False)\n",
    "\n",
    "print(importance)"
   ]
  },
  {
   "cell_type": "markdown",
   "id": "eafa4423",
   "metadata": {},
   "source": [
    "### Conclusions"
   ]
  },
  {
   "cell_type": "markdown",
   "id": "61db3108",
   "metadata": {},
   "source": [
    "Across the four linear models, the F1 scores remain generally low, reflecting the strong class imbalance in the dataset and the models’ tendency to predict the negative class.\n",
    "- Both OLS and Ridge regression achieved an F1 score of 0.082, indicating that they struggle to correctly identify positive cases.\n",
    "- Lasso regression performed poorly (F1 = 0.001), as excessive regularization results in almost no positive predictions.\n",
    "- The Logistic Regression model achieved the best F1 score (0.108), showing a slightly better balance between precision and recall, though still limited by the data imbalance."
   ]
  },
  {
   "cell_type": "markdown",
   "id": "8db385e4",
   "metadata": {},
   "source": [
    "#### Confusion matrices"
   ]
  },
  {
   "cell_type": "code",
   "execution_count": 18,
   "id": "5442bc75",
   "metadata": {},
   "outputs": [
    {
     "data": {
      "image/png": "[encoded data removed]",
      "text/plain": [
       "<Figure size 1200x1000 with 8 Axes>"
      ]
     },
     "metadata": {},
     "output_type": "display_data"
    }
   ],
   "source": [
    "cm_ols = confusion_matrix(y_val, y_val_pred_ols.round())\n",
    "cm_ridge = confusion_matrix(y_val, y_val_pred_r.round())\n",
    "cm_lasso = confusion_matrix(y_val, y_val_pred_lasso.round())\n",
    "cm_log = confusion_matrix(y_val, y_val_pred_log.round())\n",
    "\n",
    "fig, axes = plt.subplots(2, 2, figsize=(12, 10))\n",
    "sns.heatmap(cm_ols, annot=True, fmt='d', cmap='Blues', ax=axes[0, 0])\n",
    "axes[0, 0].set_xlabel('Predicted'); axes[0, 0].set_ylabel('Actual')\n",
    "axes[0, 0].set_title('Confusion Matrix - OLS')\n",
    "\n",
    "sns.heatmap(cm_ridge, annot=True, fmt='d', cmap='Greens', ax=axes[0, 1])\n",
    "axes[0, 1].set_xlabel('Predicted'); axes[0, 1].set_ylabel('Actual')\n",
    "axes[0, 1].set_title('Confusion Matrix - Ridge')\n",
    "\n",
    "sns.heatmap(cm_lasso, annot=True, fmt='d', cmap='Blues', ax=axes[1, 0])\n",
    "axes[1, 0].set_xlabel('Predicted'); axes[1, 0].set_ylabel('Actual')\n",
    "axes[1, 0].set_title('Confusion Matrix - Lasso')\n",
    "\n",
    "sns.heatmap(cm_log, annot=True, fmt='d', cmap='Oranges', ax=axes[1, 1])\n",
    "axes[1, 1].set_xlabel('Predicted'); axes[1, 1].set_ylabel('Actual')\n",
    "axes[1, 1].set_title('Confusion Matrix - Logistic Regression')\n",
    "\n",
    "fig.tight_layout()\n",
    "plt.show()"
   ]
  },
  {
   "cell_type": "markdown",
   "id": "f9575015",
   "metadata": {},
   "source": [
    "Looking at the confusion matrices we can see how OLS, Ridge and Lasso tend to predict more 0:\n",
    "- The first two work in the same way, rarely predict 1 but have higher precision.\n",
    "- Lasso, however, works in a more conservative way: it hardly ever predicts 1.\n",
    "\n",
    "On the other side, Logistic Regression detects more 1s but that also means more False Positives."
   ]
  },
  {
   "cell_type": "markdown",
   "id": "4072be3d",
   "metadata": {},
   "source": [
    "#### Curves"
   ]
  },
  {
   "cell_type": "code",
   "execution_count": 19,
   "id": "6c8a4447",
   "metadata": {},
   "outputs": [
    {
     "data": {
      "image/png": "[encoded data removed]",
      "text/plain": [
       "<Figure size 1200x1600 with 8 Axes>"
      ]
     },
     "metadata": {},
     "output_type": "display_data"
    }
   ],
   "source": [
    "models = [\n",
    "    (\"OLS\", y_val_pred_ols),\n",
    "    (\"Ridge\", y_val_pred_r),\n",
    "    (\"Lasso\", y_val_pred_lasso),\n",
    "    (\"Logistic\", y_val_pred_log),\n",
    "]\n",
    "\n",
    "sns.set_style(\"whitegrid\")\n",
    "fig, axs = plt.subplots(len(models), 2, figsize=(12, 4 * len(models)))\n",
    "\n",
    "for i, (name, y_pred) in enumerate(models):\n",
    "    fpr, tpr, _ = roc_curve(y_val, y_pred)\n",
    "    precision, recall, _ = precision_recall_curve(y_val, y_pred)\n",
    "    auc_ = roc_auc_score(y_val, y_pred)\n",
    "    ap_ = average_precision_score(y_val, y_pred)\n",
    "\n",
    "    ax_roc = axs[i, 0]\n",
    "    ax_pr = axs[i, 1]\n",
    "\n",
    "    ax_roc.plot(fpr, tpr, color=\"C0\", lw=2, label=f\"AUC={auc_:.3f}\")\n",
    "    ax_roc.plot([0, 1], [0, 1], color=\"grey\", lw=1, linestyle=\"--\", alpha=0.7)\n",
    "    ax_roc.set_xlabel(\"False Positive Rate\")\n",
    "    ax_roc.set_ylabel(\"True Positive Rate\")\n",
    "    ax_roc.set_title(f\"ROC Curve - {name}\")\n",
    "    ax_roc.legend(loc=\"lower right\")\n",
    "    ax_roc.grid(True)\n",
    "\n",
    "    ax_pr.plot(recall, precision, color=\"C1\", lw=2, label=f\"AP={ap_:.3f}\")\n",
    "    ax_pr.set_xlabel(\"Recall\")\n",
    "    ax_pr.set_ylabel(\"Precision\")\n",
    "    ax_pr.set_title(f\"Precision-Recall Curve - {name}\")\n",
    "    ax_pr.legend(loc=\"upper right\")\n",
    "    ax_pr.grid(True)\n",
    "\n",
    "fig.tight_layout()\n",
    "plt.show()\n"
   ]
  },
  {
   "cell_type": "markdown",
   "id": "6f25faf4",
   "metadata": {},
   "source": [
    "In general, the AUC value is high, which means a good model performance, but the AP value is very low. Since the dataset is imbalanced, we have more `outcome=0` than `outcome = 1`, we get really low precision for True Positives."
   ]
  },
  {
   "cell_type": "markdown",
   "id": "8d2304e0",
   "metadata": {},
   "source": [
    "#### Model selection"
   ]
  },
  {
   "cell_type": "markdown",
   "id": "562e740b",
   "metadata": {},
   "source": [
    "Based on the results, Logistic Regression appears to be the most suitable model. It provides more balanced predictions and was designed for binary classification tasks, unlike the other models, which rely on thresholding to produce class labels.\n",
    "As a result, Logistic Regression is expected to deliver more reliable performance for predicting whether a user would purchase a product."
   ]
  }
 ],
 "metadata": {
  "kernelspec": {
   "display_name": "zrive-ds-py3.11",
   "language": "python",
   "name": "python3"
  },
  "language_info": {
   "codemirror_mode": {
    "name": "ipython",
    "version": 3
   },
   "file_extension": ".py",
   "mimetype": "text/x-python",
   "name": "python",
   "nbconvert_exporter": "python",
   "pygments_lexer": "ipython3",
   "version": "3.11.0"
  }
 },
 "nbformat": 4,
 "nbformat_minor": 5
}
