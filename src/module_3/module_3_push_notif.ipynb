{
 "cells": [
  {
   "cell_type": "markdown",
   "id": "4e470f15",
   "metadata": {},
   "source": [
    "# Module 3: Push Notifications DS"
   ]
  },
  {
   "cell_type": "markdown",
   "id": "fdc167bd",
   "metadata": {},
   "source": [
    "## Import libraries"
   ]
  },
  {
   "cell_type": "code",
   "execution_count": 21,
   "id": "a067cfb0",
   "metadata": {},
   "outputs": [],
   "source": [
    "import os\n",
    "import boto3\n",
    "import logging\n",
    "import numpy as np\n",
    "import pandas as pd\n",
    "from pathlib import Path\n",
    "from dotenv import load_dotenv\n",
    "\n",
    "import seaborn as sns\n",
    "import matplotlib.pyplot as plt\n",
    "\n",
    "from sklearn.preprocessing import LabelEncoder\n",
    "from sklearn.preprocessing import StandardScaler\n",
    "from sklearn.model_selection import train_test_split\n",
    "from sklearn.linear_model import LinearRegression, Ridge, Lasso, LogisticRegression\n",
    "from sklearn.metrics import mean_squared_error, r2_score, accuracy_score, classification_report\n",
    "\n",
    "from sklearn.linear_model import LinearRegression\n",
    "from sklearn.linear_model import Ridge, Lasso, LogisticRegression\n",
    "from sklearn.metrics import roc_auc_score, average_precision_score, roc_curve, precision_recall_curve, f1_score, confusion_matrix\n",
    "\n",
    "logging.basicConfig(\n",
    "    level=logging.INFO,  # Info level for general information\n",
    "    format=\"%(asctime)s - %(levelname)s - %(message)s\",\n",
    ")"
   ]
  },
  {
   "cell_type": "markdown",
   "id": "6c73b233",
   "metadata": {},
   "source": [
    "## Load dataset"
   ]
  },
  {
   "cell_type": "code",
   "execution_count": 22,
   "id": "479095ed",
   "metadata": {},
   "outputs": [
    {
     "name": "stderr",
     "output_type": "stream",
     "text": [
      "2025-10-26 20:36:33,144 - INFO - Data folder: /Users/maria/Desktop/Zrive DS/zrive-ds/data\n",
      "2025-10-26 20:36:33,557 - INFO - Already exists: /Users/maria/Desktop/Zrive DS/zrive-ds/data/box_builder_dataset/feature_frame.csv, skipping download.\n"
     ]
    }
   ],
   "source": [
    "load_dotenv()\n",
    "AWW_API_KEY = os.getenv(\"AWW_API_KEY\")\n",
    "AWW_SECRET = os.getenv(\"AWW_SECRET\")\n",
    "\n",
    "s3 = boto3.client(\n",
    "    's3',\n",
    "    aws_access_key_id=AWW_API_KEY,\n",
    "    aws_secret_access_key=AWW_SECRET\n",
    ")\n",
    "bucket_name = 'zrive-ds-data'\n",
    "prefix = \"groceries/box_builder_dataset/\"\n",
    "\n",
    "PROJECT_ROOT = Path().resolve().parent.parent\n",
    "DATA_DIR = PROJECT_ROOT / \"data\"\n",
    "DATA_DIR.mkdir(exist_ok=True)\n",
    "\n",
    "logging.info(f\"Data folder: {DATA_DIR}\")\n",
    "\n",
    "response = s3.list_objects_v2(Bucket=bucket_name, Prefix=prefix)\n",
    "\n",
    "for obj in response.get(\"Contents\", []):\n",
    "    file_key = obj[\"Key\"]\n",
    "    if file_key.endswith(\"/\"):  # skip folder placeholders\n",
    "        continue\n",
    "\n",
    "    # Strip the first folder ('groceries/') and keep the inner folders\n",
    "    relative_path = Path(*file_key.split(\"/\")[1:])\n",
    "    local_path = DATA_DIR / relative_path\n",
    "    local_path.parent.mkdir(parents=True, exist_ok=True)\n",
    "\n",
    "    if local_path.exists():\n",
    "        logging.info(f\"Already exists: {local_path}, skipping download.\")\n",
    "    else:\n",
    "        s3.download_file(bucket_name, file_key, str(local_path))\n",
    "        logging.info(f\"Downloaded {local_path}\")"
   ]
  },
  {
   "cell_type": "code",
   "execution_count": 23,
   "id": "7c5e92d7",
   "metadata": {},
   "outputs": [
    {
     "data": {
      "application/vnd.microsoft.datawrangler.viewer.v0+json": {
       "columns": [
        {
         "name": "index",
         "rawType": "int64",
         "type": "integer"
        },
        {
         "name": "variant_id",
         "rawType": "int64",
         "type": "integer"
        },
        {
         "name": "product_type",
         "rawType": "object",
         "type": "string"
        },
        {
         "name": "order_id",
         "rawType": "int64",
         "type": "integer"
        },
        {
         "name": "user_id",
         "rawType": "int64",
         "type": "integer"
        },
        {
         "name": "created_at",
         "rawType": "object",
         "type": "string"
        },
        {
         "name": "order_date",
         "rawType": "object",
         "type": "string"
        },
        {
         "name": "user_order_seq",
         "rawType": "int64",
         "type": "integer"
        },
        {
         "name": "outcome",
         "rawType": "float64",
         "type": "float"
        },
        {
         "name": "ordered_before",
         "rawType": "float64",
         "type": "float"
        },
        {
         "name": "abandoned_before",
         "rawType": "float64",
         "type": "float"
        },
        {
         "name": "active_snoozed",
         "rawType": "float64",
         "type": "float"
        },
        {
         "name": "set_as_regular",
         "rawType": "float64",
         "type": "float"
        },
        {
         "name": "normalised_price",
         "rawType": "float64",
         "type": "float"
        },
        {
         "name": "discount_pct",
         "rawType": "float64",
         "type": "float"
        },
        {
         "name": "vendor",
         "rawType": "object",
         "type": "string"
        },
        {
         "name": "global_popularity",
         "rawType": "float64",
         "type": "float"
        },
        {
         "name": "count_adults",
         "rawType": "float64",
         "type": "float"
        },
        {
         "name": "count_children",
         "rawType": "float64",
         "type": "float"
        },
        {
         "name": "count_babies",
         "rawType": "float64",
         "type": "float"
        },
        {
         "name": "count_pets",
         "rawType": "float64",
         "type": "float"
        },
        {
         "name": "people_ex_baby",
         "rawType": "float64",
         "type": "float"
        },
        {
         "name": "days_since_purchase_variant_id",
         "rawType": "float64",
         "type": "float"
        },
        {
         "name": "avg_days_to_buy_variant_id",
         "rawType": "float64",
         "type": "float"
        },
        {
         "name": "std_days_to_buy_variant_id",
         "rawType": "float64",
         "type": "float"
        },
        {
         "name": "days_since_purchase_product_type",
         "rawType": "float64",
         "type": "float"
        },
        {
         "name": "avg_days_to_buy_product_type",
         "rawType": "float64",
         "type": "float"
        },
        {
         "name": "std_days_to_buy_product_type",
         "rawType": "float64",
         "type": "float"
        }
       ],
       "ref": "21c0c207-a319-4856-974b-00cfe770d449",
       "rows": [
        [
         "0",
         "33826472919172",
         "ricepastapulses",
         "2807985930372",
         "3482464092292",
         "2020-10-05 16:46:19",
         "2020-10-05 00:00:00",
         "3",
         "0.0",
         "0.0",
         "0.0",
         "0.0",
         "0.0",
         "0.0810517755489292",
         "0.0535117056856186",
         "clearspring",
         "0.0",
         "2.0",
         "0.0",
         "0.0",
         "0.0",
         "2.0",
         "33.0",
         "42.0",
         "31.134053301261627",
         "30.0",
         "30.0",
         "24.27618006034"
        ],
        [
         "1",
         "33826472919172",
         "ricepastapulses",
         "2808027644036",
         "3466586718340",
         "2020-10-05 17:59:51",
         "2020-10-05 00:00:00",
         "2",
         "0.0",
         "0.0",
         "0.0",
         "0.0",
         "0.0",
         "0.0810517755489292",
         "0.0535117056856186",
         "clearspring",
         "0.0",
         "2.0",
         "0.0",
         "0.0",
         "0.0",
         "2.0",
         "33.0",
         "42.0",
         "31.134053301261627",
         "30.0",
         "30.0",
         "24.27618006034"
        ],
        [
         "2",
         "33826472919172",
         "ricepastapulses",
         "2808099078276",
         "3481384026244",
         "2020-10-05 20:08:53",
         "2020-10-05 00:00:00",
         "4",
         "0.0",
         "0.0",
         "0.0",
         "0.0",
         "0.0",
         "0.0810517755489292",
         "0.0535117056856186",
         "clearspring",
         "0.0",
         "2.0",
         "0.0",
         "0.0",
         "0.0",
         "2.0",
         "33.0",
         "42.0",
         "31.134053301261627",
         "30.0",
         "30.0",
         "24.27618006034"
        ],
        [
         "3",
         "33826472919172",
         "ricepastapulses",
         "2808393957508",
         "3291363377284",
         "2020-10-06 08:57:59",
         "2020-10-06 00:00:00",
         "2",
         "0.0",
         "0.0",
         "0.0",
         "0.0",
         "0.0",
         "0.0810517755489292",
         "0.0535117056856186",
         "clearspring",
         "0.0384615384615384",
         "2.0",
         "0.0",
         "0.0",
         "0.0",
         "2.0",
         "33.0",
         "42.0",
         "31.134053301261627",
         "30.0",
         "30.0",
         "24.27618006034"
        ],
        [
         "4",
         "33826472919172",
         "ricepastapulses",
         "2808429314180",
         "3537167515780",
         "2020-10-06 10:37:05",
         "2020-10-06 00:00:00",
         "3",
         "0.0",
         "0.0",
         "0.0",
         "0.0",
         "0.0",
         "0.0810517755489292",
         "0.0535117056856186",
         "clearspring",
         "0.0384615384615384",
         "2.0",
         "0.0",
         "0.0",
         "0.0",
         "2.0",
         "33.0",
         "42.0",
         "31.134053301261627",
         "30.0",
         "30.0",
         "24.27618006034"
        ]
       ],
       "shape": {
        "columns": 27,
        "rows": 5
       }
      },
      "text/html": [
       "<div>\n",
       "<style scoped>\n",
       "    .dataframe tbody tr th:only-of-type {\n",
       "        vertical-align: middle;\n",
       "    }\n",
       "\n",
       "    .dataframe tbody tr th {\n",
       "        vertical-align: top;\n",
       "    }\n",
       "\n",
       "    .dataframe thead th {\n",
       "        text-align: right;\n",
       "    }\n",
       "</style>\n",
       "<table border=\"1\" class=\"dataframe\">\n",
       "  <thead>\n",
       "    <tr style=\"text-align: right;\">\n",
       "      <th></th>\n",
       "      <th>variant_id</th>\n",
       "      <th>product_type</th>\n",
       "      <th>order_id</th>\n",
       "      <th>user_id</th>\n",
       "      <th>created_at</th>\n",
       "      <th>order_date</th>\n",
       "      <th>user_order_seq</th>\n",
       "      <th>outcome</th>\n",
       "      <th>ordered_before</th>\n",
       "      <th>abandoned_before</th>\n",
       "      <th>...</th>\n",
       "      <th>count_children</th>\n",
       "      <th>count_babies</th>\n",
       "      <th>count_pets</th>\n",
       "      <th>people_ex_baby</th>\n",
       "      <th>days_since_purchase_variant_id</th>\n",
       "      <th>avg_days_to_buy_variant_id</th>\n",
       "      <th>std_days_to_buy_variant_id</th>\n",
       "      <th>days_since_purchase_product_type</th>\n",
       "      <th>avg_days_to_buy_product_type</th>\n",
       "      <th>std_days_to_buy_product_type</th>\n",
       "    </tr>\n",
       "  </thead>\n",
       "  <tbody>\n",
       "    <tr>\n",
       "      <th>0</th>\n",
       "      <td>33826472919172</td>\n",
       "      <td>ricepastapulses</td>\n",
       "      <td>2807985930372</td>\n",
       "      <td>3482464092292</td>\n",
       "      <td>2020-10-05 16:46:19</td>\n",
       "      <td>2020-10-05 00:00:00</td>\n",
       "      <td>3</td>\n",
       "      <td>0.0</td>\n",
       "      <td>0.0</td>\n",
       "      <td>0.0</td>\n",
       "      <td>...</td>\n",
       "      <td>0.0</td>\n",
       "      <td>0.0</td>\n",
       "      <td>0.0</td>\n",
       "      <td>2.0</td>\n",
       "      <td>33.0</td>\n",
       "      <td>42.0</td>\n",
       "      <td>31.134053</td>\n",
       "      <td>30.0</td>\n",
       "      <td>30.0</td>\n",
       "      <td>24.27618</td>\n",
       "    </tr>\n",
       "    <tr>\n",
       "      <th>1</th>\n",
       "      <td>33826472919172</td>\n",
       "      <td>ricepastapulses</td>\n",
       "      <td>2808027644036</td>\n",
       "      <td>3466586718340</td>\n",
       "      <td>2020-10-05 17:59:51</td>\n",
       "      <td>2020-10-05 00:00:00</td>\n",
       "      <td>2</td>\n",
       "      <td>0.0</td>\n",
       "      <td>0.0</td>\n",
       "      <td>0.0</td>\n",
       "      <td>...</td>\n",
       "      <td>0.0</td>\n",
       "      <td>0.0</td>\n",
       "      <td>0.0</td>\n",
       "      <td>2.0</td>\n",
       "      <td>33.0</td>\n",
       "      <td>42.0</td>\n",
       "      <td>31.134053</td>\n",
       "      <td>30.0</td>\n",
       "      <td>30.0</td>\n",
       "      <td>24.27618</td>\n",
       "    </tr>\n",
       "    <tr>\n",
       "      <th>2</th>\n",
       "      <td>33826472919172</td>\n",
       "      <td>ricepastapulses</td>\n",
       "      <td>2808099078276</td>\n",
       "      <td>3481384026244</td>\n",
       "      <td>2020-10-05 20:08:53</td>\n",
       "      <td>2020-10-05 00:00:00</td>\n",
       "      <td>4</td>\n",
       "      <td>0.0</td>\n",
       "      <td>0.0</td>\n",
       "      <td>0.0</td>\n",
       "      <td>...</td>\n",
       "      <td>0.0</td>\n",
       "      <td>0.0</td>\n",
       "      <td>0.0</td>\n",
       "      <td>2.0</td>\n",
       "      <td>33.0</td>\n",
       "      <td>42.0</td>\n",
       "      <td>31.134053</td>\n",
       "      <td>30.0</td>\n",
       "      <td>30.0</td>\n",
       "      <td>24.27618</td>\n",
       "    </tr>\n",
       "    <tr>\n",
       "      <th>3</th>\n",
       "      <td>33826472919172</td>\n",
       "      <td>ricepastapulses</td>\n",
       "      <td>2808393957508</td>\n",
       "      <td>3291363377284</td>\n",
       "      <td>2020-10-06 08:57:59</td>\n",
       "      <td>2020-10-06 00:00:00</td>\n",
       "      <td>2</td>\n",
       "      <td>0.0</td>\n",
       "      <td>0.0</td>\n",
       "      <td>0.0</td>\n",
       "      <td>...</td>\n",
       "      <td>0.0</td>\n",
       "      <td>0.0</td>\n",
       "      <td>0.0</td>\n",
       "      <td>2.0</td>\n",
       "      <td>33.0</td>\n",
       "      <td>42.0</td>\n",
       "      <td>31.134053</td>\n",
       "      <td>30.0</td>\n",
       "      <td>30.0</td>\n",
       "      <td>24.27618</td>\n",
       "    </tr>\n",
       "    <tr>\n",
       "      <th>4</th>\n",
       "      <td>33826472919172</td>\n",
       "      <td>ricepastapulses</td>\n",
       "      <td>2808429314180</td>\n",
       "      <td>3537167515780</td>\n",
       "      <td>2020-10-06 10:37:05</td>\n",
       "      <td>2020-10-06 00:00:00</td>\n",
       "      <td>3</td>\n",
       "      <td>0.0</td>\n",
       "      <td>0.0</td>\n",
       "      <td>0.0</td>\n",
       "      <td>...</td>\n",
       "      <td>0.0</td>\n",
       "      <td>0.0</td>\n",
       "      <td>0.0</td>\n",
       "      <td>2.0</td>\n",
       "      <td>33.0</td>\n",
       "      <td>42.0</td>\n",
       "      <td>31.134053</td>\n",
       "      <td>30.0</td>\n",
       "      <td>30.0</td>\n",
       "      <td>24.27618</td>\n",
       "    </tr>\n",
       "  </tbody>\n",
       "</table>\n",
       "<p>5 rows × 27 columns</p>\n",
       "</div>"
      ],
      "text/plain": [
       "       variant_id     product_type       order_id        user_id  \\\n",
       "0  33826472919172  ricepastapulses  2807985930372  3482464092292   \n",
       "1  33826472919172  ricepastapulses  2808027644036  3466586718340   \n",
       "2  33826472919172  ricepastapulses  2808099078276  3481384026244   \n",
       "3  33826472919172  ricepastapulses  2808393957508  3291363377284   \n",
       "4  33826472919172  ricepastapulses  2808429314180  3537167515780   \n",
       "\n",
       "            created_at           order_date  user_order_seq  outcome  \\\n",
       "0  2020-10-05 16:46:19  2020-10-05 00:00:00               3      0.0   \n",
       "1  2020-10-05 17:59:51  2020-10-05 00:00:00               2      0.0   \n",
       "2  2020-10-05 20:08:53  2020-10-05 00:00:00               4      0.0   \n",
       "3  2020-10-06 08:57:59  2020-10-06 00:00:00               2      0.0   \n",
       "4  2020-10-06 10:37:05  2020-10-06 00:00:00               3      0.0   \n",
       "\n",
       "   ordered_before  abandoned_before  ...  count_children  count_babies  \\\n",
       "0             0.0               0.0  ...             0.0           0.0   \n",
       "1             0.0               0.0  ...             0.0           0.0   \n",
       "2             0.0               0.0  ...             0.0           0.0   \n",
       "3             0.0               0.0  ...             0.0           0.0   \n",
       "4             0.0               0.0  ...             0.0           0.0   \n",
       "\n",
       "   count_pets  people_ex_baby days_since_purchase_variant_id  \\\n",
       "0         0.0             2.0                           33.0   \n",
       "1         0.0             2.0                           33.0   \n",
       "2         0.0             2.0                           33.0   \n",
       "3         0.0             2.0                           33.0   \n",
       "4         0.0             2.0                           33.0   \n",
       "\n",
       "   avg_days_to_buy_variant_id  std_days_to_buy_variant_id  \\\n",
       "0                        42.0                   31.134053   \n",
       "1                        42.0                   31.134053   \n",
       "2                        42.0                   31.134053   \n",
       "3                        42.0                   31.134053   \n",
       "4                        42.0                   31.134053   \n",
       "\n",
       "   days_since_purchase_product_type  avg_days_to_buy_product_type  \\\n",
       "0                              30.0                          30.0   \n",
       "1                              30.0                          30.0   \n",
       "2                              30.0                          30.0   \n",
       "3                              30.0                          30.0   \n",
       "4                              30.0                          30.0   \n",
       "\n",
       "   std_days_to_buy_product_type  \n",
       "0                      24.27618  \n",
       "1                      24.27618  \n",
       "2                      24.27618  \n",
       "3                      24.27618  \n",
       "4                      24.27618  \n",
       "\n",
       "[5 rows x 27 columns]"
      ]
     },
     "execution_count": 23,
     "metadata": {},
     "output_type": "execute_result"
    }
   ],
   "source": [
    "df = pd.read_csv(DATA_DIR / \"box_builder_dataset\" / \"feature_frame.csv\")\n",
    "df.head()"
   ]
  },
  {
   "cell_type": "markdown",
   "id": "0b5b1e5f",
   "metadata": {},
   "source": [
    "## Milestone 1: exploration phase"
   ]
  },
  {
   "cell_type": "markdown",
   "id": "81071291",
   "metadata": {},
   "source": [
    "### Filter to at least 5 items bought"
   ]
  },
  {
   "cell_type": "code",
   "execution_count": 24,
   "id": "a5f236a6",
   "metadata": {},
   "outputs": [],
   "source": [
    "orders_with_5plus = (\n",
    "    df[df[\"outcome\"] == 1]              # only buy orders\n",
    "      .groupby(\"order_id\")[\"variant_id\"]\n",
    "      .nunique()                        # count unique variant_id por order_id\n",
    "      .loc[lambda x: x >= 5]            # take >= 5 items\n",
    "      .index                            # get the order_id index\n",
    ")\n",
    "\n",
    "df_filtered = df[df[\"order_id\"].isin(orders_with_5plus)]\n"
   ]
  },
  {
   "cell_type": "code",
   "execution_count": 25,
   "id": "f0a57839",
   "metadata": {},
   "outputs": [
    {
     "name": "stderr",
     "output_type": "stream",
     "text": [
      "2025-10-26 20:36:45,239 - INFO - Original dataset size: 2880549 rows\n",
      "2025-10-26 20:36:45,241 - INFO - Filtered dataset size: 2163953 rows\n"
     ]
    },
    {
     "data": {
      "application/vnd.microsoft.datawrangler.viewer.v0+json": {
       "columns": [
        {
         "name": "index",
         "rawType": "int64",
         "type": "integer"
        },
        {
         "name": "variant_id",
         "rawType": "int64",
         "type": "integer"
        },
        {
         "name": "product_type",
         "rawType": "object",
         "type": "string"
        },
        {
         "name": "order_id",
         "rawType": "int64",
         "type": "integer"
        },
        {
         "name": "user_id",
         "rawType": "int64",
         "type": "integer"
        },
        {
         "name": "created_at",
         "rawType": "object",
         "type": "string"
        },
        {
         "name": "order_date",
         "rawType": "object",
         "type": "string"
        },
        {
         "name": "user_order_seq",
         "rawType": "int64",
         "type": "integer"
        },
        {
         "name": "outcome",
         "rawType": "float64",
         "type": "float"
        },
        {
         "name": "ordered_before",
         "rawType": "float64",
         "type": "float"
        },
        {
         "name": "abandoned_before",
         "rawType": "float64",
         "type": "float"
        },
        {
         "name": "active_snoozed",
         "rawType": "float64",
         "type": "float"
        },
        {
         "name": "set_as_regular",
         "rawType": "float64",
         "type": "float"
        },
        {
         "name": "normalised_price",
         "rawType": "float64",
         "type": "float"
        },
        {
         "name": "discount_pct",
         "rawType": "float64",
         "type": "float"
        },
        {
         "name": "vendor",
         "rawType": "object",
         "type": "string"
        },
        {
         "name": "global_popularity",
         "rawType": "float64",
         "type": "float"
        },
        {
         "name": "count_adults",
         "rawType": "float64",
         "type": "float"
        },
        {
         "name": "count_children",
         "rawType": "float64",
         "type": "float"
        },
        {
         "name": "count_babies",
         "rawType": "float64",
         "type": "float"
        },
        {
         "name": "count_pets",
         "rawType": "float64",
         "type": "float"
        },
        {
         "name": "people_ex_baby",
         "rawType": "float64",
         "type": "float"
        },
        {
         "name": "days_since_purchase_variant_id",
         "rawType": "float64",
         "type": "float"
        },
        {
         "name": "avg_days_to_buy_variant_id",
         "rawType": "float64",
         "type": "float"
        },
        {
         "name": "std_days_to_buy_variant_id",
         "rawType": "float64",
         "type": "float"
        },
        {
         "name": "days_since_purchase_product_type",
         "rawType": "float64",
         "type": "float"
        },
        {
         "name": "avg_days_to_buy_product_type",
         "rawType": "float64",
         "type": "float"
        },
        {
         "name": "std_days_to_buy_product_type",
         "rawType": "float64",
         "type": "float"
        }
       ],
       "ref": "4f28ab97-e7f8-48db-8ddf-c0a94c6242ef",
       "rows": [
        [
         "0",
         "33826472919172",
         "ricepastapulses",
         "2807985930372",
         "3482464092292",
         "2020-10-05 16:46:19",
         "2020-10-05 00:00:00",
         "3",
         "0.0",
         "0.0",
         "0.0",
         "0.0",
         "0.0",
         "0.0810517755489292",
         "0.0535117056856186",
         "clearspring",
         "0.0",
         "2.0",
         "0.0",
         "0.0",
         "0.0",
         "2.0",
         "33.0",
         "42.0",
         "31.134053301261627",
         "30.0",
         "30.0",
         "24.27618006034"
        ],
        [
         "1",
         "33826472919172",
         "ricepastapulses",
         "2808027644036",
         "3466586718340",
         "2020-10-05 17:59:51",
         "2020-10-05 00:00:00",
         "2",
         "0.0",
         "0.0",
         "0.0",
         "0.0",
         "0.0",
         "0.0810517755489292",
         "0.0535117056856186",
         "clearspring",
         "0.0",
         "2.0",
         "0.0",
         "0.0",
         "0.0",
         "2.0",
         "33.0",
         "42.0",
         "31.134053301261627",
         "30.0",
         "30.0",
         "24.27618006034"
        ],
        [
         "2",
         "33826472919172",
         "ricepastapulses",
         "2808099078276",
         "3481384026244",
         "2020-10-05 20:08:53",
         "2020-10-05 00:00:00",
         "4",
         "0.0",
         "0.0",
         "0.0",
         "0.0",
         "0.0",
         "0.0810517755489292",
         "0.0535117056856186",
         "clearspring",
         "0.0",
         "2.0",
         "0.0",
         "0.0",
         "0.0",
         "2.0",
         "33.0",
         "42.0",
         "31.134053301261627",
         "30.0",
         "30.0",
         "24.27618006034"
        ],
        [
         "3",
         "33826472919172",
         "ricepastapulses",
         "2808393957508",
         "3291363377284",
         "2020-10-06 08:57:59",
         "2020-10-06 00:00:00",
         "2",
         "0.0",
         "0.0",
         "0.0",
         "0.0",
         "0.0",
         "0.0810517755489292",
         "0.0535117056856186",
         "clearspring",
         "0.0384615384615384",
         "2.0",
         "0.0",
         "0.0",
         "0.0",
         "2.0",
         "33.0",
         "42.0",
         "31.134053301261627",
         "30.0",
         "30.0",
         "24.27618006034"
        ],
        [
         "5",
         "33826472919172",
         "ricepastapulses",
         "2808434524292",
         "3479090790532",
         "2020-10-06 10:50:23",
         "2020-10-06 00:00:00",
         "3",
         "0.0",
         "0.0",
         "0.0",
         "0.0",
         "0.0",
         "0.0810517755489292",
         "0.0535117056856186",
         "clearspring",
         "0.0384615384615384",
         "2.0",
         "0.0",
         "0.0",
         "0.0",
         "2.0",
         "33.0",
         "42.0",
         "31.134053301261627",
         "30.0",
         "30.0",
         "24.27618006034"
        ]
       ],
       "shape": {
        "columns": 27,
        "rows": 5
       }
      },
      "text/html": [
       "<div>\n",
       "<style scoped>\n",
       "    .dataframe tbody tr th:only-of-type {\n",
       "        vertical-align: middle;\n",
       "    }\n",
       "\n",
       "    .dataframe tbody tr th {\n",
       "        vertical-align: top;\n",
       "    }\n",
       "\n",
       "    .dataframe thead th {\n",
       "        text-align: right;\n",
       "    }\n",
       "</style>\n",
       "<table border=\"1\" class=\"dataframe\">\n",
       "  <thead>\n",
       "    <tr style=\"text-align: right;\">\n",
       "      <th></th>\n",
       "      <th>variant_id</th>\n",
       "      <th>product_type</th>\n",
       "      <th>order_id</th>\n",
       "      <th>user_id</th>\n",
       "      <th>created_at</th>\n",
       "      <th>order_date</th>\n",
       "      <th>user_order_seq</th>\n",
       "      <th>outcome</th>\n",
       "      <th>ordered_before</th>\n",
       "      <th>abandoned_before</th>\n",
       "      <th>...</th>\n",
       "      <th>count_children</th>\n",
       "      <th>count_babies</th>\n",
       "      <th>count_pets</th>\n",
       "      <th>people_ex_baby</th>\n",
       "      <th>days_since_purchase_variant_id</th>\n",
       "      <th>avg_days_to_buy_variant_id</th>\n",
       "      <th>std_days_to_buy_variant_id</th>\n",
       "      <th>days_since_purchase_product_type</th>\n",
       "      <th>avg_days_to_buy_product_type</th>\n",
       "      <th>std_days_to_buy_product_type</th>\n",
       "    </tr>\n",
       "  </thead>\n",
       "  <tbody>\n",
       "    <tr>\n",
       "      <th>0</th>\n",
       "      <td>33826472919172</td>\n",
       "      <td>ricepastapulses</td>\n",
       "      <td>2807985930372</td>\n",
       "      <td>3482464092292</td>\n",
       "      <td>2020-10-05 16:46:19</td>\n",
       "      <td>2020-10-05 00:00:00</td>\n",
       "      <td>3</td>\n",
       "      <td>0.0</td>\n",
       "      <td>0.0</td>\n",
       "      <td>0.0</td>\n",
       "      <td>...</td>\n",
       "      <td>0.0</td>\n",
       "      <td>0.0</td>\n",
       "      <td>0.0</td>\n",
       "      <td>2.0</td>\n",
       "      <td>33.0</td>\n",
       "      <td>42.0</td>\n",
       "      <td>31.134053</td>\n",
       "      <td>30.0</td>\n",
       "      <td>30.0</td>\n",
       "      <td>24.27618</td>\n",
       "    </tr>\n",
       "    <tr>\n",
       "      <th>1</th>\n",
       "      <td>33826472919172</td>\n",
       "      <td>ricepastapulses</td>\n",
       "      <td>2808027644036</td>\n",
       "      <td>3466586718340</td>\n",
       "      <td>2020-10-05 17:59:51</td>\n",
       "      <td>2020-10-05 00:00:00</td>\n",
       "      <td>2</td>\n",
       "      <td>0.0</td>\n",
       "      <td>0.0</td>\n",
       "      <td>0.0</td>\n",
       "      <td>...</td>\n",
       "      <td>0.0</td>\n",
       "      <td>0.0</td>\n",
       "      <td>0.0</td>\n",
       "      <td>2.0</td>\n",
       "      <td>33.0</td>\n",
       "      <td>42.0</td>\n",
       "      <td>31.134053</td>\n",
       "      <td>30.0</td>\n",
       "      <td>30.0</td>\n",
       "      <td>24.27618</td>\n",
       "    </tr>\n",
       "    <tr>\n",
       "      <th>2</th>\n",
       "      <td>33826472919172</td>\n",
       "      <td>ricepastapulses</td>\n",
       "      <td>2808099078276</td>\n",
       "      <td>3481384026244</td>\n",
       "      <td>2020-10-05 20:08:53</td>\n",
       "      <td>2020-10-05 00:00:00</td>\n",
       "      <td>4</td>\n",
       "      <td>0.0</td>\n",
       "      <td>0.0</td>\n",
       "      <td>0.0</td>\n",
       "      <td>...</td>\n",
       "      <td>0.0</td>\n",
       "      <td>0.0</td>\n",
       "      <td>0.0</td>\n",
       "      <td>2.0</td>\n",
       "      <td>33.0</td>\n",
       "      <td>42.0</td>\n",
       "      <td>31.134053</td>\n",
       "      <td>30.0</td>\n",
       "      <td>30.0</td>\n",
       "      <td>24.27618</td>\n",
       "    </tr>\n",
       "    <tr>\n",
       "      <th>3</th>\n",
       "      <td>33826472919172</td>\n",
       "      <td>ricepastapulses</td>\n",
       "      <td>2808393957508</td>\n",
       "      <td>3291363377284</td>\n",
       "      <td>2020-10-06 08:57:59</td>\n",
       "      <td>2020-10-06 00:00:00</td>\n",
       "      <td>2</td>\n",
       "      <td>0.0</td>\n",
       "      <td>0.0</td>\n",
       "      <td>0.0</td>\n",
       "      <td>...</td>\n",
       "      <td>0.0</td>\n",
       "      <td>0.0</td>\n",
       "      <td>0.0</td>\n",
       "      <td>2.0</td>\n",
       "      <td>33.0</td>\n",
       "      <td>42.0</td>\n",
       "      <td>31.134053</td>\n",
       "      <td>30.0</td>\n",
       "      <td>30.0</td>\n",
       "      <td>24.27618</td>\n",
       "    </tr>\n",
       "    <tr>\n",
       "      <th>5</th>\n",
       "      <td>33826472919172</td>\n",
       "      <td>ricepastapulses</td>\n",
       "      <td>2808434524292</td>\n",
       "      <td>3479090790532</td>\n",
       "      <td>2020-10-06 10:50:23</td>\n",
       "      <td>2020-10-06 00:00:00</td>\n",
       "      <td>3</td>\n",
       "      <td>0.0</td>\n",
       "      <td>0.0</td>\n",
       "      <td>0.0</td>\n",
       "      <td>...</td>\n",
       "      <td>0.0</td>\n",
       "      <td>0.0</td>\n",
       "      <td>0.0</td>\n",
       "      <td>2.0</td>\n",
       "      <td>33.0</td>\n",
       "      <td>42.0</td>\n",
       "      <td>31.134053</td>\n",
       "      <td>30.0</td>\n",
       "      <td>30.0</td>\n",
       "      <td>24.27618</td>\n",
       "    </tr>\n",
       "  </tbody>\n",
       "</table>\n",
       "<p>5 rows × 27 columns</p>\n",
       "</div>"
      ],
      "text/plain": [
       "       variant_id     product_type       order_id        user_id  \\\n",
       "0  33826472919172  ricepastapulses  2807985930372  3482464092292   \n",
       "1  33826472919172  ricepastapulses  2808027644036  3466586718340   \n",
       "2  33826472919172  ricepastapulses  2808099078276  3481384026244   \n",
       "3  33826472919172  ricepastapulses  2808393957508  3291363377284   \n",
       "5  33826472919172  ricepastapulses  2808434524292  3479090790532   \n",
       "\n",
       "            created_at           order_date  user_order_seq  outcome  \\\n",
       "0  2020-10-05 16:46:19  2020-10-05 00:00:00               3      0.0   \n",
       "1  2020-10-05 17:59:51  2020-10-05 00:00:00               2      0.0   \n",
       "2  2020-10-05 20:08:53  2020-10-05 00:00:00               4      0.0   \n",
       "3  2020-10-06 08:57:59  2020-10-06 00:00:00               2      0.0   \n",
       "5  2020-10-06 10:50:23  2020-10-06 00:00:00               3      0.0   \n",
       "\n",
       "   ordered_before  abandoned_before  ...  count_children  count_babies  \\\n",
       "0             0.0               0.0  ...             0.0           0.0   \n",
       "1             0.0               0.0  ...             0.0           0.0   \n",
       "2             0.0               0.0  ...             0.0           0.0   \n",
       "3             0.0               0.0  ...             0.0           0.0   \n",
       "5             0.0               0.0  ...             0.0           0.0   \n",
       "\n",
       "   count_pets  people_ex_baby days_since_purchase_variant_id  \\\n",
       "0         0.0             2.0                           33.0   \n",
       "1         0.0             2.0                           33.0   \n",
       "2         0.0             2.0                           33.0   \n",
       "3         0.0             2.0                           33.0   \n",
       "5         0.0             2.0                           33.0   \n",
       "\n",
       "   avg_days_to_buy_variant_id  std_days_to_buy_variant_id  \\\n",
       "0                        42.0                   31.134053   \n",
       "1                        42.0                   31.134053   \n",
       "2                        42.0                   31.134053   \n",
       "3                        42.0                   31.134053   \n",
       "5                        42.0                   31.134053   \n",
       "\n",
       "   days_since_purchase_product_type  avg_days_to_buy_product_type  \\\n",
       "0                              30.0                          30.0   \n",
       "1                              30.0                          30.0   \n",
       "2                              30.0                          30.0   \n",
       "3                              30.0                          30.0   \n",
       "5                              30.0                          30.0   \n",
       "\n",
       "   std_days_to_buy_product_type  \n",
       "0                      24.27618  \n",
       "1                      24.27618  \n",
       "2                      24.27618  \n",
       "3                      24.27618  \n",
       "5                      24.27618  \n",
       "\n",
       "[5 rows x 27 columns]"
      ]
     },
     "execution_count": 25,
     "metadata": {},
     "output_type": "execute_result"
    }
   ],
   "source": [
    "logging.info(f\"Original dataset size: {df.shape[0]} rows\")\n",
    "logging.info(f\"Filtered dataset size: {df_filtered.shape[0]} rows\")\n",
    "df_filtered.head()"
   ]
  },
  {
   "cell_type": "markdown",
   "id": "c0a25336",
   "metadata": {},
   "source": [
    "### Prepare the data"
   ]
  },
  {
   "cell_type": "markdown",
   "id": "1a15ead9",
   "metadata": {},
   "source": [
    "Now, we split the data intro train (70%), validation (20%) and test (10%). We have to take into account that our data has a temporal feature, so we split them in time."
   ]
  },
  {
   "cell_type": "code",
   "execution_count": 26,
   "id": "4accf38d",
   "metadata": {},
   "outputs": [
    {
     "name": "stderr",
     "output_type": "stream",
     "text": [
      "/var/folders/45/_kywt6y9647bq9fvcw_fkvrw0000gn/T/ipykernel_48818/2142189591.py:1: SettingWithCopyWarning: \n",
      "A value is trying to be set on a copy of a slice from a DataFrame.\n",
      "Try using .loc[row_indexer,col_indexer] = value instead\n",
      "\n",
      "See the caveats in the documentation: https://pandas.pydata.org/pandas-docs/stable/user_guide/indexing.html#returning-a-view-versus-a-copy\n",
      "  df_filtered['order_date'] = pd.to_datetime(df_filtered['order_date'])\n"
     ]
    },
    {
     "data": {
      "image/png": "[encoded data removed]",
      "text/plain": [
       "<Figure size 1200x600 with 1 Axes>"
      ]
     },
     "metadata": {},
     "output_type": "display_data"
    }
   ],
   "source": [
    "df_filtered['order_date'] = pd.to_datetime(df_filtered['order_date'])\n",
    "orders_per_date = df_filtered.groupby('order_date')['order_id'].nunique().reset_index()\n",
    "plt.figure(figsize=(12, 6))\n",
    "sns.lineplot(data=orders_per_date, x='order_date', y='order_id')\n",
    "train_size = int(0.7 * len(orders_per_date))\n",
    "val_size = int(0.2 * len(orders_per_date))\n",
    "train_end_date = orders_per_date['order_date'].iloc[train_size - 1]\n",
    "val_end_date = orders_per_date['order_date'].iloc[train_size + val_size - 1]\n",
    "plt.axvline(x=train_end_date, color='r', linestyle='--', label='Train/Val Split')\n",
    "plt.axvline(x=val_end_date, color='g', linestyle='--', label='Val/Test Split')\n",
    "plt.legend()\n",
    "plt.title('Number of Unique Orders Over Time with Train/Val/Test Splits')\n",
    "plt.xlabel('Order Date')\n",
    "plt.ylabel('Number of Unique Orders')\n",
    "plt.show()"
   ]
  },
  {
   "cell_type": "code",
   "execution_count": 27,
   "id": "f00312fe",
   "metadata": {},
   "outputs": [
    {
     "name": "stderr",
     "output_type": "stream",
     "text": [
      "2025-10-26 20:36:46,844 - INFO - Total unique orders: 2603\n",
      "2025-10-26 20:36:46,844 - INFO - Train orders: 1822 (70.0%)\n",
      "2025-10-26 20:36:46,845 - INFO - Val orders: 520 (20.0%)\n",
      "2025-10-26 20:36:46,845 - INFO - Test orders: 261 (10.0%)\n",
      "2025-10-26 20:36:46,846 - INFO - Train rows: 1446691, Val rows: 466801, Test rows: 250461\n",
      "2025-10-26 20:36:46,882 - INFO - Shapes -> Train: (1446691, 6), Val: (466801, 6), Test: (250461, 6)\n"
     ]
    }
   ],
   "source": [
    "def temporal_split_by_order(\n",
    "    df, \n",
    "    date_col, \n",
    "    order_col=\"order_id\", \n",
    "    feature_cols=None,\n",
    "    target_col=\"outcome\", \n",
    "    train_size=0.7, \n",
    "    val_size=0.2, \n",
    "    test_size=0.1\n",
    "):\n",
    "    \"\"\"\n",
    "    Splits a DataFrame into train, validation, and test sets based on order date,\n",
    "    ensuring no items from the same order appear in multiple splits.\n",
    "    \"\"\"\n",
    "    if not abs(train_size + val_size + test_size - 1.0) < 1e-6:\n",
    "        raise ValueError(\"train_size + val_size + test_size must equal 1.0\")\n",
    "\n",
    "    # Order unique orders by date\n",
    "    orders_sorted = (\n",
    "        df[[order_col, date_col]]\n",
    "        .drop_duplicates()\n",
    "        .sort_values(date_col)\n",
    "    )\n",
    "\n",
    "    n_orders = len(orders_sorted)\n",
    "    train_end = int(train_size * n_orders)\n",
    "    val_end = int((train_size + val_size) * n_orders)\n",
    "\n",
    "    # Assign orders to splits\n",
    "    train_orders = orders_sorted.iloc[:train_end][order_col]\n",
    "    val_orders = orders_sorted.iloc[train_end:val_end][order_col]\n",
    "    test_orders = orders_sorted.iloc[val_end:][order_col]\n",
    "\n",
    "    # Filter DataFrame based on order assignments\n",
    "    train_df = df[df[order_col].isin(train_orders)]\n",
    "    val_df = df[df[order_col].isin(val_orders)]\n",
    "    test_df = df[df[order_col].isin(test_orders)]\n",
    "\n",
    "    # If feature_cols is specified, select only those columns along with target_col\n",
    "    if feature_cols is not None:\n",
    "        train_df = train_df[feature_cols + [target_col]]\n",
    "        val_df = val_df[feature_cols + [target_col]]\n",
    "        test_df = test_df[feature_cols + [target_col]]\n",
    "\n",
    "    # Divide into X and y\n",
    "    X_train = train_df.drop(columns=[target_col])\n",
    "    y_train = train_df[target_col]\n",
    "    X_val = val_df.drop(columns=[target_col])\n",
    "    y_val = val_df[target_col]\n",
    "    X_test = test_df.drop(columns=[target_col])\n",
    "    y_test = test_df[target_col]\n",
    "\n",
    "    logging.info(f\"Total unique orders: {n_orders}\")\n",
    "    logging.info(f\"Train orders: {len(train_orders)} ({train_size*100:.1f}%)\")\n",
    "    logging.info(f\"Val orders: {len(val_orders)} ({val_size*100:.1f}%)\")\n",
    "    logging.info(f\"Test orders: {len(test_orders)} ({test_size*100:.1f}%)\")\n",
    "    logging.info(f\"Train rows: {train_df.shape[0]}, Val rows: {val_df.shape[0]}, Test rows: {test_df.shape[0]}\")\n",
    "\n",
    "    return X_train, X_val, X_test, y_train, y_val, y_test\n",
    "\n",
    "X_train, X_val, X_test, y_train, y_val, y_test = temporal_split_by_order(\n",
    "    df=df_filtered,\n",
    "    date_col=\"order_date\",\n",
    "    order_col=\"order_id\",\n",
    "    feature_cols=[\"product_type\", \"ordered_before\", \"abandoned_before\", \"active_snoozed\", \"set_as_regular\", \"global_popularity\"],\n",
    "    target_col=\"outcome\"\n",
    ")\n",
    "logging.info(f\"Shapes -> Train: {X_train.shape}, Val: {X_val.shape}, Test: {X_test.shape}\")"
   ]
  },
  {
   "cell_type": "markdown",
   "id": "467a1dea",
   "metadata": {},
   "source": [
    "The next step is transforming the categorical features into numericals to train the model. As we have so many categories in `product_type` one-hot encoding would increase the df size a lot, so we have to use a different encoding method. The final idea was to use frequency encoding because other, such as label encoding, create an inexisting order."
   ]
  },
  {
   "cell_type": "code",
   "execution_count": 28,
   "id": "b946f481",
   "metadata": {},
   "outputs": [
    {
     "name": "stderr",
     "output_type": "stream",
     "text": [
      "2025-10-26 20:36:47,233 - INFO - Applied frequency encoding to 'product_type'\n"
     ]
    }
   ],
   "source": [
    "freq_map = X_train[\"product_type\"].value_counts(normalize=True)\n",
    "X_train[\"product_type\"] = X_train[\"product_type\"].map(freq_map)\n",
    "X_val[\"product_type\"] = X_val[\"product_type\"].map(freq_map).fillna(0)\n",
    "X_test[\"product_type\"] = X_test[\"product_type\"].map(freq_map).fillna(0)\n",
    "\n",
    "logging.info(\"Applied frequency encoding to 'product_type'\")"
   ]
  },
  {
   "cell_type": "markdown",
   "id": "051c1f75",
   "metadata": {},
   "source": [
    "Lastly, we scale the data, which is very important for models like Ridge and Lasso since they penalise high weights."
   ]
  },
  {
   "cell_type": "code",
   "execution_count": 29,
   "id": "ee5dcea2",
   "metadata": {},
   "outputs": [],
   "source": [
    "scaler = StandardScaler()\n",
    "\n",
    "X_train_scaled = scaler.fit_transform(X_train)\n",
    "X_val_scaled = scaler.transform(X_val)\n",
    "X_test_scaled = scaler.transform(X_test)"
   ]
  },
  {
   "cell_type": "markdown",
   "id": "3fb2763b",
   "metadata": {},
   "source": [
    "### Baseline model"
   ]
  },
  {
   "cell_type": "markdown",
   "id": "e6628ec5",
   "metadata": {},
   "source": [
    "We can use a feature, such as `global popularity`, as a baseline model. That way, we can compare the metrics to understand if the model improves."
   ]
  },
  {
   "cell_type": "code",
   "execution_count": 30,
   "id": "b8bc1ebe",
   "metadata": {},
   "outputs": [
    {
     "name": "stderr",
     "output_type": "stream",
     "text": [
      "2025-10-26 20:36:53,292 - INFO - Global Popularity - ROC-AUC: 0.7902, PR-AUC: 0.0618\n"
     ]
    }
   ],
   "source": [
    "roc_auc = roc_auc_score(df['outcome'], df['global_popularity'])\n",
    "pr_auc = average_precision_score(df['outcome'], df['global_popularity'])\n",
    "logging.info(f\"Global Popularity - ROC-AUC: {roc_auc:.4f}, PR-AUC: {pr_auc:.4f}\")"
   ]
  },
  {
   "cell_type": "markdown",
   "id": "09b50155",
   "metadata": {},
   "source": [
    "### Linear models"
   ]
  },
  {
   "cell_type": "markdown",
   "id": "25f3d0c8",
   "metadata": {},
   "source": [
    "#### OLS"
   ]
  },
  {
   "cell_type": "markdown",
   "id": "8a4affae",
   "metadata": {},
   "source": [
    "We used `class_weight='balanced'` because our target variable is imbalanced. Without it, the model would mostly focus on the bigger class and might miss the smaller one. Balancing the weights makes the model pay more attention to the minority class, so it can spot rare events better and give a fairer performance overall."
   ]
  },
  {
   "cell_type": "code",
   "execution_count": 31,
   "id": "9d8e5cf1",
   "metadata": {},
   "outputs": [
    {
     "name": "stderr",
     "output_type": "stream",
     "text": [
      "2025-10-26 20:36:56,421 - INFO - Validation F1 Score: 0.1207\n"
     ]
    }
   ],
   "source": [
    "model = LogisticRegression(C=1.0, penalty='l2', max_iter=1000, class_weight='balanced')\n",
    "model.fit(X_train_scaled, y_train)\n",
    "\n",
    "y_val_pred_ols = model.predict_proba(X_val_scaled)[:, 1]\n",
    "val_f1 = f1_score(y_val, y_val_pred_ols.round())\n",
    "\n",
    "logging.info(f\"Validation F1 Score: {val_f1:.4f}\")"
   ]
  },
  {
   "cell_type": "markdown",
   "id": "e9ef0718",
   "metadata": {},
   "source": [
    "An interesting point is understanding the importance of each feature in the model results."
   ]
  },
  {
   "cell_type": "code",
   "execution_count": 32,
   "id": "a2af60b4",
   "metadata": {},
   "outputs": [
    {
     "name": "stdout",
     "output_type": "stream",
     "text": [
      "             feature      coef\n",
      "5  global_popularity  0.900260\n",
      "1     ordered_before  0.387968\n",
      "2   abandoned_before  0.159990\n",
      "4     set_as_regular  0.091833\n",
      "0       product_type  0.072544\n",
      "3     active_snoozed  0.030826\n"
     ]
    }
   ],
   "source": [
    "importance = pd.DataFrame({\n",
    "    \"feature\": X_train.columns,\n",
    "    \"coef\": model.coef_.ravel()\n",
    "}).sort_values(\"coef\", ascending=False)\n",
    "\n",
    "print(importance)"
   ]
  },
  {
   "cell_type": "markdown",
   "id": "db997cee",
   "metadata": {},
   "source": [
    "#### Ridge"
   ]
  },
  {
   "cell_type": "code",
   "execution_count": 33,
   "id": "4d1ca53f",
   "metadata": {},
   "outputs": [
    {
     "name": "stderr",
     "output_type": "stream",
     "text": [
      "2025-10-26 20:37:13,822 - INFO - Logistic Regression tuning results (sorted by AP):\n",
      "         C       auc        ap\n",
      "0    0.001  0.837265  0.145544\n",
      "1    0.010  0.837298  0.145466\n",
      "2    0.100  0.837299  0.145452\n",
      "3    1.000  0.837299  0.145451\n",
      "4  100.000  0.837299  0.145451\n",
      "5   10.000  0.837299  0.145451\n",
      "2025-10-26 20:37:13,824 - INFO - Selected best C: 0.001\n",
      "2025-10-26 20:37:16,881 - INFO - Validation F1 Score: 0.1209\n"
     ]
    }
   ],
   "source": [
    "C_values = [0.001, 0.01, 0.1, 1.0, 10.0, 100.0]\n",
    "\n",
    "results = []\n",
    "for C in C_values:\n",
    "    model = LogisticRegression(C=C, penalty='l2', max_iter=1000, class_weight='balanced')\n",
    "    model.fit(X_train_scaled, y_train)\n",
    "    y_pred = model.predict_proba(X_val_scaled)[:, 1]\n",
    "    auc = roc_auc_score(y_val, y_pred)\n",
    "    ap = average_precision_score(y_val, y_pred)\n",
    "    results.append({\"C\": C, \"auc\": auc, \"ap\": ap})\n",
    "\n",
    "results_df = pd.DataFrame(results).sort_values(\"ap\", ascending=False).reset_index(drop=True)\n",
    "logging.info(f\"Logistic Regression tuning results (sorted by AP):\\n{results_df}\")\n",
    "\n",
    "best_C = results_df.loc[0, \"C\"]\n",
    "logging.info(f\"Selected best C: {best_C}\")\n",
    "\n",
    "best_model_l2 = LogisticRegression(C=best_C, penalty='l2', max_iter=1000, class_weight='balanced')\n",
    "best_model_l2.fit(X_train_scaled, y_train)\n",
    "\n",
    "y_val_pred_l2 = best_model_l2.predict_proba(X_val_scaled)[:, 1]\n",
    "val_f1 = f1_score(y_val, y_val_pred_l2.round())\n",
    "logging.info(f\"Validation F1 Score: {val_f1:.4f}\")"
   ]
  },
  {
   "cell_type": "code",
   "execution_count": 34,
   "id": "78a8d873",
   "metadata": {},
   "outputs": [
    {
     "name": "stdout",
     "output_type": "stream",
     "text": [
      "             feature      coef\n",
      "5  global_popularity  0.895136\n",
      "1     ordered_before  0.387280\n",
      "2   abandoned_before  0.159366\n",
      "4     set_as_regular  0.091619\n",
      "0       product_type  0.072659\n",
      "3     active_snoozed  0.030796\n"
     ]
    }
   ],
   "source": [
    "importance = pd.DataFrame({\n",
    "    \"feature\": X_train.columns,\n",
    "    \"coef\": best_model_l2.coef_.ravel()\n",
    "}).sort_values(\"coef\", ascending=False)\n",
    "\n",
    "print(importance)"
   ]
  },
  {
   "cell_type": "markdown",
   "id": "46f728fa",
   "metadata": {},
   "source": [
    "#### Lasso"
   ]
  },
  {
   "cell_type": "code",
   "execution_count": 35,
   "id": "d3da7bd4",
   "metadata": {},
   "outputs": [
    {
     "name": "stderr",
     "output_type": "stream",
     "text": [
      "2025-10-26 20:37:32,968 - INFO - Logistic Regression L1 tuning results:\n",
      "         C       auc        ap\n",
      "0  100.000  0.837303  0.145459\n",
      "1   10.000  0.837303  0.145459\n",
      "2    1.000  0.837303  0.145459\n",
      "3    0.100  0.837303  0.145455\n",
      "4    0.010  0.837312  0.145433\n",
      "5    0.001  0.837467  0.145172\n",
      "2025-10-26 20:37:32,969 - INFO - Selected best C for L1 Logistic Regression: 100.0\n",
      "2025-10-26 20:37:35,647 - INFO - Validation F1 Score: 0.1207\n"
     ]
    }
   ],
   "source": [
    "C_values = [0.001, 0.01, 0.1, 1.0, 10.0, 100.0]\n",
    "\n",
    "results = []\n",
    "for C in C_values:\n",
    "    model = LogisticRegression(C=C, penalty='l1', solver='liblinear', max_iter=1000, class_weight='balanced')\n",
    "    model.fit(X_train_scaled, y_train)\n",
    "    y_pred = model.predict_proba(X_val_scaled)[:, 1]\n",
    "    auc = roc_auc_score(y_val, y_pred)\n",
    "    ap = average_precision_score(y_val, y_pred)\n",
    "    results.append({\"C\": C, \"auc\": auc, \"ap\": ap})\n",
    "\n",
    "results_df = pd.DataFrame(results).sort_values(\"ap\", ascending=False).reset_index(drop=True)\n",
    "logging.info(f\"Logistic Regression L1 tuning results:\\n{results_df}\")\n",
    "\n",
    "best_C = results_df.loc[0, \"C\"]\n",
    "logging.info(f\"Selected best C for L1 Logistic Regression: {best_C}\")\n",
    "\n",
    "# Train final model\n",
    "best_model_l1 = LogisticRegression(C=best_C, penalty='l1', solver='liblinear', max_iter=1000, class_weight='balanced')\n",
    "best_model_l1.fit(X_train_scaled, y_train)\n",
    "\n",
    "y_val_pred_l1 = best_model_l1.predict_proba(X_val_scaled)[:, 1]\n",
    "val_f1 = f1_score(y_val, y_val_pred_l1.round())\n",
    "logging.info(f\"Validation F1 Score: {val_f1:.4f}\")\n"
   ]
  },
  {
   "cell_type": "code",
   "execution_count": 36,
   "id": "3ae55170",
   "metadata": {},
   "outputs": [
    {
     "name": "stdout",
     "output_type": "stream",
     "text": [
      "             feature      coef\n",
      "5  global_popularity  0.900266\n",
      "1     ordered_before  0.387941\n",
      "2   abandoned_before  0.160191\n",
      "4     set_as_regular  0.091843\n",
      "0       product_type  0.072530\n",
      "3     active_snoozed  0.030742\n"
     ]
    }
   ],
   "source": [
    "importance = pd.DataFrame({\n",
    "    \"feature\": X_train.columns,\n",
    "    \"coef\": best_model_l1.coef_.ravel()\n",
    "}).sort_values(\"coef\", ascending=False)\n",
    "\n",
    "print(importance)"
   ]
  },
  {
   "cell_type": "markdown",
   "id": "51c57374",
   "metadata": {},
   "source": [
    "#### Logistic Regression"
   ]
  },
  {
   "cell_type": "code",
   "execution_count": 37,
   "id": "57b582c1",
   "metadata": {},
   "outputs": [
    {
     "name": "stderr",
     "output_type": "stream",
     "text": [
      "2025-10-26 20:37:52,812 - INFO - Logistic tuning results (sorted by AP):\n",
      "         C       auc        ap\n",
      "0    0.001  0.837265  0.145544\n",
      "1    0.010  0.837298  0.145466\n",
      "2    0.100  0.837299  0.145452\n",
      "3    1.000  0.837299  0.145451\n",
      "4  100.000  0.837299  0.145451\n",
      "5   10.000  0.837299  0.145451\n",
      "2025-10-26 20:37:52,813 - INFO - Selected best C: 0.001\n",
      "2025-10-26 20:37:56,541 - INFO - Logistic Regression F1 Score: 0.1209\n"
     ]
    }
   ],
   "source": [
    "C_values = [0.001, 0.01, 0.1, 1, 10, 100]\n",
    "\n",
    "results_log = []\n",
    "for C in C_values:\n",
    "    model = LogisticRegression(C=C, max_iter=1000, class_weight='balanced')\n",
    "    model.fit(X_train_scaled, y_train)\n",
    "    y_pred = model.predict_proba(X_val_scaled)[:, 1]\n",
    "    results_log.append({\n",
    "        \"C\": C,\n",
    "        \"auc\": roc_auc_score(y_val, y_pred),\n",
    "        \"ap\": average_precision_score(y_val, y_pred)\n",
    "    })\n",
    "\n",
    "results_log_df = pd.DataFrame(results_log).sort_values(\"ap\", ascending=False).reset_index(drop=True)\n",
    "logging.info(f\"Logistic tuning results (sorted by AP):\\n{results_log_df}\")\n",
    "\n",
    "best_C = results_log_df.loc[0, \"C\"]\n",
    "logging.info(f\"Selected best C: {best_C}\")\n",
    "\n",
    "# retrain best logistic model and update variables\n",
    "logreg = LogisticRegression(C=best_C, max_iter=1000, class_weight='balanced')\n",
    "logreg.fit(X_train_scaled, y_train)\n",
    "\n",
    "y_val_pred_log = logreg.predict_proba(X_val_scaled)[:, 1]\n",
    "\n",
    "auc_log = roc_auc_score(y_val, y_val_pred_log)\n",
    "ap_log = average_precision_score(y_val, y_val_pred_log)\n",
    "\n",
    "logging.info(f\"Logistic Regression F1 Score: {f1_score(y_val, y_val_pred_log.round()):.4f}\")"
   ]
  },
  {
   "cell_type": "code",
   "execution_count": 38,
   "id": "af9f8886",
   "metadata": {},
   "outputs": [
    {
     "name": "stdout",
     "output_type": "stream",
     "text": [
      "             feature      coef\n",
      "5  global_popularity  0.895136\n",
      "1     ordered_before  0.387280\n",
      "2   abandoned_before  0.159366\n",
      "4     set_as_regular  0.091619\n",
      "0       product_type  0.072659\n",
      "3     active_snoozed  0.030796\n"
     ]
    }
   ],
   "source": [
    "importance = pd.DataFrame({\n",
    "    \"feature\": X_train.columns,\n",
    "    \"coef\": logreg.coef_.ravel()\n",
    "}).sort_values(\"coef\", ascending=False)\n",
    "\n",
    "print(importance)"
   ]
  },
  {
   "cell_type": "markdown",
   "id": "eafa4423",
   "metadata": {},
   "source": [
    "### Conclusions"
   ]
  },
  {
   "cell_type": "markdown",
   "id": "61db3108",
   "metadata": {},
   "source": [
    "Across the four linear models, the F1 scores remain generally low, reflecting the strong class imbalance in the dataset and the models’ tendency to predict the negative class. They all have a score around 0.12."
   ]
  },
  {
   "cell_type": "markdown",
   "id": "8db385e4",
   "metadata": {},
   "source": [
    "#### Confusion matrices"
   ]
  },
  {
   "cell_type": "markdown",
   "id": "a7725c6d",
   "metadata": {},
   "source": [
    "Now, we use the confusion matrix to understand the predictions made by each model. We mantain the threshold as 0'5 because it is the default cutoff in binary classification: values above 0.5 are treated as positives and below as negatives. This makes it easier to compare all models on the same basis."
   ]
  },
  {
   "cell_type": "code",
   "execution_count": 39,
   "id": "5442bc75",
   "metadata": {},
   "outputs": [
    {
     "data": {
      "image/png": "[encoded data removed]",
      "text/plain": [
       "<Figure size 1200x1000 with 8 Axes>"
      ]
     },
     "metadata": {},
     "output_type": "display_data"
    }
   ],
   "source": [
    "cm_ols = confusion_matrix(y_val, y_val_pred_ols.round())\n",
    "cm_ridge = confusion_matrix(y_val, y_val_pred_l2.round())\n",
    "cm_lasso = confusion_matrix(y_val, y_val_pred_l1.round())\n",
    "cm_log = confusion_matrix(y_val, y_val_pred_log.round())\n",
    "\n",
    "fig, axes = plt.subplots(2, 2, figsize=(12, 10))\n",
    "sns.heatmap(cm_ols, annot=True, fmt='d', cmap='Blues', ax=axes[0, 0])\n",
    "axes[0, 0].set_xlabel('Predicted'); axes[0, 0].set_ylabel('Actual')\n",
    "axes[0, 0].set_title('Confusion Matrix - Logistic Regression (OLS)')\n",
    "\n",
    "sns.heatmap(cm_ridge, annot=True, fmt='d', cmap='Greens', ax=axes[0, 1])\n",
    "axes[0, 1].set_xlabel('Predicted'); axes[0, 1].set_ylabel('Actual')\n",
    "axes[0, 1].set_title('Confusion Matrix - Logistic Regression L2')\n",
    "\n",
    "sns.heatmap(cm_lasso, annot=True, fmt='d', cmap='Blues', ax=axes[1, 0])\n",
    "axes[1, 0].set_xlabel('Predicted'); axes[1, 0].set_ylabel('Actual')\n",
    "axes[1, 0].set_title('Confusion Matrix - Logistic Regression L1')\n",
    "\n",
    "sns.heatmap(cm_log, annot=True, fmt='d', cmap='Oranges', ax=axes[1, 1])\n",
    "axes[1, 1].set_xlabel('Predicted'); axes[1, 1].set_ylabel('Actual')\n",
    "axes[1, 1].set_title('Confusion Matrix - Logistic Regression')\n",
    "\n",
    "fig.tight_layout()\n",
    "plt.show()"
   ]
  },
  {
   "cell_type": "markdown",
   "id": "f9575015",
   "metadata": {},
   "source": [
    "Looking at the confusion matrices we can see how all the models perform quite similarly. They tend to predict more 0 than 1, due to the imbalanced classes."
   ]
  },
  {
   "cell_type": "markdown",
   "id": "4072be3d",
   "metadata": {},
   "source": [
    "#### Curves"
   ]
  },
  {
   "cell_type": "code",
   "execution_count": 40,
   "id": "6c8a4447",
   "metadata": {},
   "outputs": [
    {
     "data": {
      "image/png": "[encoded data removed]",
      "text/plain": [
       "<Figure size 1400x600 with 2 Axes>"
      ]
     },
     "metadata": {},
     "output_type": "display_data"
    }
   ],
   "source": [
    "models = [\n",
    "    (\"OLS\", y_val_pred_ols),\n",
    "    (\"Ridge\", y_val_pred_l2),\n",
    "    (\"Lasso\", y_val_pred_l1),\n",
    "    (\"Logistic\", y_val_pred_log),\n",
    "]\n",
    "\n",
    "metrics = []\n",
    "for name, y_pred in models:\n",
    "    auc_ = roc_auc_score(y_val, y_pred)\n",
    "    ap_ = average_precision_score(y_val, y_pred)\n",
    "    metrics.append((name, y_pred, auc_, ap_))\n",
    "\n",
    "sns.set_style(\"whitegrid\")\n",
    "fig, axs = plt.subplots(1, 2, figsize=(14, 6))\n",
    "\n",
    "# ROC subplot\n",
    "ax_roc = axs[0]\n",
    "for name, y_pred, auc_, ap_ in metrics:\n",
    "    fpr, tpr, _ = roc_curve(y_val, y_pred)\n",
    "    ax_roc.plot(fpr, tpr, lw=2, label=f\"{name} (AUC={auc_:.3f}, AP={ap_:.3f})\")\n",
    "ax_roc.plot([0, 1], [0, 1], color=\"grey\", lw=1, linestyle=\"--\", alpha=0.7)\n",
    "ax_roc.set_xlabel(\"False Positive Rate\")\n",
    "ax_roc.set_ylabel(\"True Positive Rate\")\n",
    "ax_roc.set_title(\"ROC Curve (All models)\")\n",
    "ax_roc.legend(loc=\"lower right\")\n",
    "ax_roc.grid(True)\n",
    "\n",
    "# Precision-Recall subplot\n",
    "ax_pr = axs[1]\n",
    "for name, y_pred, auc_, ap_ in metrics:\n",
    "    precision, recall, _ = precision_recall_curve(y_val, y_pred)\n",
    "    ax_pr.plot(recall, precision, lw=2, label=f\"{name} (AP={ap_:.3f})\")\n",
    "ax_pr.set_xlabel(\"Recall\")\n",
    "ax_pr.set_ylabel(\"Precision\")\n",
    "ax_pr.set_title(\"Precision-Recall Curve (All models)\")\n",
    "ax_pr.legend(loc=\"upper right\")\n",
    "ax_pr.grid(True)\n",
    "\n",
    "fig.tight_layout()\n",
    "plt.show()"
   ]
  },
  {
   "cell_type": "markdown",
   "id": "6f25faf4",
   "metadata": {},
   "source": [
    "In general, the AUC value is high, which means a good model performance, but the AP value is very low. Since the dataset is imbalanced, we have more `outcome=0` than `outcome = 1`, we get really low precision for True Positives."
   ]
  },
  {
   "cell_type": "markdown",
   "id": "8d2304e0",
   "metadata": {},
   "source": [
    "#### Model selection"
   ]
  },
  {
   "cell_type": "markdown",
   "id": "562e740b",
   "metadata": {},
   "source": [
    "Since they all perform in the same way, it doesn't really matter which one to choose. However, Logistic Regression is simpler than the others, so it is going to be our choice."
   ]
  }
 ],
 "metadata": {
  "kernelspec": {
   "display_name": "zrive-ds-py3.11",
   "language": "python",
   "name": "python3"
  },
  "language_info": {
   "codemirror_mode": {
    "name": "ipython",
    "version": 3
   },
   "file_extension": ".py",
   "mimetype": "text/x-python",
   "name": "python",
   "nbconvert_exporter": "python",
   "pygments_lexer": "ipython3",
   "version": "3.11.0"
  }
 },
 "nbformat": 4,
 "nbformat_minor": 5
}
