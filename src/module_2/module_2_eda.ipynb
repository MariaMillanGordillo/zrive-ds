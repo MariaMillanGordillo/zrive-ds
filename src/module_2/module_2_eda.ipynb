{
 "cells": [
  {
   "cell_type": "markdown",
   "id": "94189a53",
   "metadata": {},
   "source": [
    "# Module 2 - EDA"
   ]
  },
  {
   "cell_type": "markdown",
   "id": "36faa64a",
   "metadata": {},
   "source": [
    "## Import libraries"
   ]
  },
  {
   "cell_type": "code",
   "execution_count": 17,
   "id": "a98ee898",
   "metadata": {},
   "outputs": [],
   "source": [
    "import os\n",
    "import boto3\n",
    "from pathlib import Path\n",
    "from dotenv import load_dotenv"
   ]
  },
  {
   "cell_type": "markdown",
   "id": "a2262bfb",
   "metadata": {},
   "source": [
    "## Download datasets"
   ]
  },
  {
   "cell_type": "code",
   "execution_count": 18,
   "id": "fbc673d6",
   "metadata": {},
   "outputs": [
    {
     "name": "stdout",
     "output_type": "stream",
     "text": [
      "Data folder: /Users/maria/Desktop/Zrive DS/zrive-ds/data\n",
      "Already exists: /Users/maria/Desktop/Zrive DS/zrive-ds/data/abandoned_carts.parquet, skipping download.\n",
      "Already exists: /Users/maria/Desktop/Zrive DS/zrive-ds/data/inventory.parquet, skipping download.\n",
      "Already exists: /Users/maria/Desktop/Zrive DS/zrive-ds/data/orders.parquet, skipping download.\n",
      "Already exists: /Users/maria/Desktop/Zrive DS/zrive-ds/data/regulars.parquet, skipping download.\n",
      "Already exists: /Users/maria/Desktop/Zrive DS/zrive-ds/data/users.parquet, skipping download.\n",
      "Already exists: /Users/maria/Desktop/Zrive DS/zrive-ds/data/feature_frame.csv, skipping download.\n"
     ]
    }
   ],
   "source": [
    "# Load environment variables\n",
    "load_dotenv()\n",
    "AWW_API_KEY = os.getenv(\"AWW_API_KEY\")\n",
    "AWW_SECRET = os.getenv(\"AWW_SECRET\")\n",
    "\n",
    "# Initialize S3 client\n",
    "s3 = boto3.client(\n",
    "    's3',\n",
    "    aws_access_key_id=AWW_API_KEY,\n",
    "    aws_secret_access_key=AWW_SECRET\n",
    ")\n",
    "bucket_name = 'zrive-ds-data'\n",
    "\n",
    "# Prefixes to fetch\n",
    "prefixes = [\n",
    "    \"groceries/sampled-datasets/\",\n",
    "    \"groceries/box_builder_dataset/\"\n",
    "]\n",
    "\n",
    "# Local folder\n",
    "PROJECT_ROOT = Path().resolve().parent.parent\n",
    "DATA_DIR = PROJECT_ROOT / \"data\"\n",
    "DATA_DIR.mkdir(exist_ok=True)\n",
    "\n",
    "print(\"Data folder:\", DATA_DIR)\n",
    "\n",
    "# Download only if file does not exist locally\n",
    "for prefix in prefixes:\n",
    "    response = s3.list_objects_v2(Bucket=bucket_name, Prefix=prefix)\n",
    "    for obj in response.get('Contents', []):\n",
    "        file_key = obj['Key']\n",
    "        file_name = os.path.basename(file_key)\n",
    "\n",
    "        if file_name:\n",
    "            local_path = DATA_DIR / file_name\n",
    "\n",
    "            if os.path.exists(local_path):\n",
    "                print(f\"Already exists: {local_path}, skipping download.\")\n",
    "            else:\n",
    "                s3.download_file(bucket_name, file_key, local_path)\n",
    "                print(f\"Downloaded {file_name} from {prefix}\")\n"
   ]
  }
 ],
 "metadata": {
  "kernelspec": {
   "display_name": "zrive-ds-py3.11",
   "language": "python",
   "name": "python3"
  },
  "language_info": {
   "codemirror_mode": {
    "name": "ipython",
    "version": 3
   },
   "file_extension": ".py",
   "mimetype": "text/x-python",
   "name": "python",
   "nbconvert_exporter": "python",
   "pygments_lexer": "ipython3",
   "version": "3.11.0"
  }
 },
 "nbformat": 4,
 "nbformat_minor": 5
}
