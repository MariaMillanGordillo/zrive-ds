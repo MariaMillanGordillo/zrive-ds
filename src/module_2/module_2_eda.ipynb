{
 "cells": [
  {
   "cell_type": "markdown",
   "id": "94189a53",
   "metadata": {},
   "source": [
    "# Module 2 - EDA"
   ]
  },
  {
   "cell_type": "markdown",
   "id": "36faa64a",
   "metadata": {},
   "source": [
    "## Import libraries"
   ]
  },
  {
   "cell_type": "code",
   "execution_count": 1,
   "id": "a98ee898",
   "metadata": {},
   "outputs": [],
   "source": [
    "import os\n",
    "import boto3\n",
    "import pandas as pd\n",
    "from pathlib import Path\n",
    "from dotenv import load_dotenv\n",
    "\n",
    "import logging\n",
    "logging.basicConfig(\n",
    "    level=logging.INFO,  # Info level for general information\n",
    "    format=\"%(asctime)s - %(levelname)s - %(message)s\",\n",
    ")"
   ]
  },
  {
   "cell_type": "markdown",
   "id": "a2262bfb",
   "metadata": {},
   "source": [
    "## Download datasets"
   ]
  },
  {
   "cell_type": "code",
   "execution_count": 2,
   "id": "fbc673d6",
   "metadata": {},
   "outputs": [
    {
     "name": "stderr",
     "output_type": "stream",
     "text": [
      "2025-10-03 11:03:52,674 - INFO - Data folder: /Users/maria/Desktop/Zrive DS/zrive-ds/data\n",
      "2025-10-03 11:03:53,206 - INFO - Already exists: /Users/maria/Desktop/Zrive DS/zrive-ds/data/sampled-datasets/abandoned_carts.parquet, skipping download.\n",
      "2025-10-03 11:03:53,207 - INFO - Already exists: /Users/maria/Desktop/Zrive DS/zrive-ds/data/sampled-datasets/inventory.parquet, skipping download.\n",
      "2025-10-03 11:03:53,209 - INFO - Already exists: /Users/maria/Desktop/Zrive DS/zrive-ds/data/sampled-datasets/orders.parquet, skipping download.\n",
      "2025-10-03 11:03:53,210 - INFO - Already exists: /Users/maria/Desktop/Zrive DS/zrive-ds/data/sampled-datasets/regulars.parquet, skipping download.\n",
      "2025-10-03 11:03:53,211 - INFO - Already exists: /Users/maria/Desktop/Zrive DS/zrive-ds/data/sampled-datasets/users.parquet, skipping download.\n",
      "2025-10-03 11:03:53,281 - INFO - Already exists: /Users/maria/Desktop/Zrive DS/zrive-ds/data/box_builder_dataset/feature_frame.csv, skipping download.\n"
     ]
    }
   ],
   "source": [
    "# Load environment variables\n",
    "load_dotenv()\n",
    "AWW_API_KEY = os.getenv(\"AWW_API_KEY\")\n",
    "AWW_SECRET = os.getenv(\"AWW_SECRET\")\n",
    "\n",
    "# Initialize S3 client\n",
    "s3 = boto3.client(\n",
    "    's3',\n",
    "    aws_access_key_id=AWW_API_KEY,\n",
    "    aws_secret_access_key=AWW_SECRET\n",
    ")\n",
    "bucket_name = 'zrive-ds-data'\n",
    "\n",
    "# Prefixes to fetch\n",
    "prefixes = [\n",
    "    \"groceries/sampled-datasets/\",\n",
    "    \"groceries/box_builder_dataset/\"\n",
    "]\n",
    "\n",
    "# Local folder\n",
    "PROJECT_ROOT = Path().resolve().parent.parent\n",
    "DATA_DIR = PROJECT_ROOT / \"data\"\n",
    "DATA_DIR.mkdir(exist_ok=True)\n",
    "\n",
    "logging.info(f\"Data folder: {DATA_DIR}\")\n",
    "\n",
    "for prefix in prefixes:\n",
    "    response = s3.list_objects_v2(Bucket=bucket_name, Prefix=prefix)\n",
    "\n",
    "    for obj in response.get(\"Contents\", []):\n",
    "        file_key = obj[\"Key\"]\n",
    "        if file_key.endswith(\"/\"):  # skip folder placeholders\n",
    "            continue\n",
    "\n",
    "        # Strip the first folder ('groceries/') and keep the inner folders\n",
    "        relative_path = Path(*file_key.split(\"/\")[1:])\n",
    "        local_path = DATA_DIR / relative_path\n",
    "        local_path.parent.mkdir(parents=True, exist_ok=True)\n",
    "\n",
    "        if local_path.exists():\n",
    "            logging.info(f\"Already exists: {local_path}, skipping download.\")\n",
    "        else:\n",
    "            s3.download_file(bucket_name, file_key, str(local_path))\n",
    "            logging.info(f\"Downloaded {local_path}\")"
   ]
  },
  {
   "cell_type": "markdown",
   "id": "784fa38c",
   "metadata": {},
   "source": [
    "## Load datasets"
   ]
  },
  {
   "cell_type": "code",
   "execution_count": 3,
   "id": "54f7d39e",
   "metadata": {},
   "outputs": [
    {
     "name": "stderr",
     "output_type": "stream",
     "text": [
      "2025-10-03 11:03:56,769 - INFO - Datasets loaded successfully.\n"
     ]
    }
   ],
   "source": [
    "datasets_path = DATA_DIR / \"sampled-datasets\"\n",
    "\n",
    "abandoned_carts_df = pd.read_parquet(datasets_path / \"abandoned_carts.parquet\")\n",
    "inventory_df = pd.read_parquet(datasets_path / \"inventory.parquet\")\n",
    "orders_df = pd.read_parquet(datasets_path / \"orders.parquet\")\n",
    "regulars_df = pd.read_parquet(datasets_path / \"regulars.parquet\")\n",
    "users_df = pd.read_parquet(datasets_path / \"users.parquet\")\n",
    "\n",
    "logging.info(\"Datasets loaded successfully.\")"
   ]
  }
 ],
 "metadata": {
  "kernelspec": {
   "display_name": "zrive-ds-py3.11",
   "language": "python",
   "name": "python3"
  },
  "language_info": {
   "codemirror_mode": {
    "name": "ipython",
    "version": 3
   },
   "file_extension": ".py",
   "mimetype": "text/x-python",
   "name": "python",
   "nbconvert_exporter": "python",
   "pygments_lexer": "ipython3",
   "version": "3.11.0"
  }
 },
 "nbformat": 4,
 "nbformat_minor": 5
}
