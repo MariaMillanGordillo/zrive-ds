{
 "cells": [
  {
   "cell_type": "markdown",
   "id": "94189a53",
   "metadata": {},
   "source": [
    "# Module 2 - EDA"
   ]
  },
  {
   "cell_type": "markdown",
   "id": "36faa64a",
   "metadata": {},
   "source": [
    "## Import libraries"
   ]
  },
  {
   "cell_type": "code",
   "execution_count": 5,
   "id": "a98ee898",
   "metadata": {},
   "outputs": [],
   "source": [
    "import os\n",
    "import boto3\n",
    "import pandas as pd\n",
    "from pathlib import Path\n",
    "from dotenv import load_dotenv\n",
    "\n",
    "import logging\n",
    "logging.basicConfig(\n",
    "    level=logging.INFO,  # Info level for general information\n",
    "    format=\"%(asctime)s - %(levelname)s - %(message)s\",\n",
    ")"
   ]
  },
  {
   "cell_type": "markdown",
   "id": "a2262bfb",
   "metadata": {},
   "source": [
    "## Download datasets"
   ]
  },
  {
   "cell_type": "code",
   "execution_count": 6,
   "id": "fbc673d6",
   "metadata": {},
   "outputs": [
    {
     "name": "stderr",
     "output_type": "stream",
     "text": [
      "2025-10-03 11:17:10,671 - INFO - Data folder: /Users/maria/Desktop/Zrive DS/zrive-ds/data\n"
     ]
    },
    {
     "name": "stderr",
     "output_type": "stream",
     "text": [
      "2025-10-03 11:17:11,164 - INFO - Already exists: /Users/maria/Desktop/Zrive DS/zrive-ds/data/sampled-datasets/abandoned_carts.parquet, skipping download.\n",
      "2025-10-03 11:17:11,166 - INFO - Already exists: /Users/maria/Desktop/Zrive DS/zrive-ds/data/sampled-datasets/inventory.parquet, skipping download.\n",
      "2025-10-03 11:17:11,167 - INFO - Already exists: /Users/maria/Desktop/Zrive DS/zrive-ds/data/sampled-datasets/orders.parquet, skipping download.\n",
      "2025-10-03 11:17:11,168 - INFO - Already exists: /Users/maria/Desktop/Zrive DS/zrive-ds/data/sampled-datasets/regulars.parquet, skipping download.\n",
      "2025-10-03 11:17:11,169 - INFO - Already exists: /Users/maria/Desktop/Zrive DS/zrive-ds/data/sampled-datasets/users.parquet, skipping download.\n",
      "2025-10-03 11:17:11,235 - INFO - Already exists: /Users/maria/Desktop/Zrive DS/zrive-ds/data/box_builder_dataset/feature_frame.csv, skipping download.\n"
     ]
    }
   ],
   "source": [
    "# Load environment variables\n",
    "load_dotenv()\n",
    "AWW_API_KEY = os.getenv(\"AWW_API_KEY\")\n",
    "AWW_SECRET = os.getenv(\"AWW_SECRET\")\n",
    "\n",
    "# Initialize S3 client\n",
    "s3 = boto3.client(\n",
    "    's3',\n",
    "    aws_access_key_id=AWW_API_KEY,\n",
    "    aws_secret_access_key=AWW_SECRET\n",
    ")\n",
    "bucket_name = 'zrive-ds-data'\n",
    "\n",
    "# Prefixes to fetch\n",
    "prefixes = [\n",
    "    \"groceries/sampled-datasets/\",\n",
    "    \"groceries/box_builder_dataset/\"\n",
    "]\n",
    "\n",
    "# Local folder\n",
    "PROJECT_ROOT = Path().resolve().parent.parent\n",
    "DATA_DIR = PROJECT_ROOT / \"data\"\n",
    "DATA_DIR.mkdir(exist_ok=True)\n",
    "\n",
    "logging.info(f\"Data folder: {DATA_DIR}\")\n",
    "\n",
    "for prefix in prefixes:\n",
    "    response = s3.list_objects_v2(Bucket=bucket_name, Prefix=prefix)\n",
    "\n",
    "    for obj in response.get(\"Contents\", []):\n",
    "        file_key = obj[\"Key\"]\n",
    "        if file_key.endswith(\"/\"):  # skip folder placeholders\n",
    "            continue\n",
    "\n",
    "        # Strip the first folder ('groceries/') and keep the inner folders\n",
    "        relative_path = Path(*file_key.split(\"/\")[1:])\n",
    "        local_path = DATA_DIR / relative_path\n",
    "        local_path.parent.mkdir(parents=True, exist_ok=True)\n",
    "\n",
    "        if local_path.exists():\n",
    "            logging.info(f\"Already exists: {local_path}, skipping download.\")\n",
    "        else:\n",
    "            s3.download_file(bucket_name, file_key, str(local_path))\n",
    "            logging.info(f\"Downloaded {local_path}\")"
   ]
  },
  {
   "cell_type": "markdown",
   "id": "784fa38c",
   "metadata": {},
   "source": [
    "## Load datasets"
   ]
  },
  {
   "cell_type": "code",
   "execution_count": 7,
   "id": "54f7d39e",
   "metadata": {},
   "outputs": [
    {
     "name": "stderr",
     "output_type": "stream",
     "text": [
      "2025-10-03 11:17:11,396 - INFO - Datasets loaded successfully.\n"
     ]
    }
   ],
   "source": [
    "datasets_path = DATA_DIR / \"sampled-datasets\"\n",
    "\n",
    "abandoned_carts_df = pd.read_parquet(datasets_path / \"abandoned_carts.parquet\")\n",
    "inventory_df = pd.read_parquet(datasets_path / \"inventory.parquet\")\n",
    "orders_df = pd.read_parquet(datasets_path / \"orders.parquet\")\n",
    "regulars_df = pd.read_parquet(datasets_path / \"regulars.parquet\")\n",
    "users_df = pd.read_parquet(datasets_path / \"users.parquet\")\n",
    "\n",
    "logging.info(\"Datasets loaded successfully.\")"
   ]
  },
  {
   "cell_type": "markdown",
   "id": "1bbd2480",
   "metadata": {},
   "source": [
    "## Understanding the problem space"
   ]
  },
  {
   "cell_type": "markdown",
   "id": "639b7266",
   "metadata": {},
   "source": [
    "### Abandoned carts"
   ]
  },
  {
   "cell_type": "code",
   "execution_count": 8,
   "id": "ef134593",
   "metadata": {},
   "outputs": [
    {
     "data": {
      "application/vnd.microsoft.datawrangler.viewer.v0+json": {
       "columns": [
        {
         "name": "index",
         "rawType": "int64",
         "type": "integer"
        },
        {
         "name": "id",
         "rawType": "int64",
         "type": "integer"
        },
        {
         "name": "user_id",
         "rawType": "object",
         "type": "string"
        },
        {
         "name": "created_at",
         "rawType": "datetime64[us]",
         "type": "unknown"
        },
        {
         "name": "variant_id",
         "rawType": "object",
         "type": "unknown"
        }
       ],
       "ref": "5924ff7a-26eb-4098-b3d6-54e4dff46eeb",
       "rows": [
        [
         "0",
         "12858560217220",
         "5c4e5953f13ddc3bc9659a3453356155e5efe4739d7a2b4130557c2e49c1193921975a2116d57fefbf911523ce44b6b6e0f8acbf598b36d0e4fc2727ec89378a",
         "2020-05-20 13:53:24",
         "[33826459287684 33826457616516 33667192127620 33826412331140\n 33826472558724 33826427240580 33826474590340 33826457157764\n 33667198976132 33667173449860 33826459844740 33826427207812\n 33667302555780 33826423406724 33826432548996 33826423439492\n 33826457387140 33826427633796 33826427666564]"
        ],
        [
         "13",
         "20352449839236",
         "9d6187545c005d39e44d0456d87790db18611d7c7379bd2fb2c4c9ab335534542fecf99d201921dece1889ed054e5b5e8cd87a564815c04b07f6f53ee96861fc",
         "2021-06-27 05:24:13",
         "[34415988179076 34037940158596 34502822363268 33719435722884\n 33803537973380 39459279929476 34284955304068 34284952813700\n 39542989619332]"
        ],
        [
         "45",
         "20478401413252",
         "e83fb0273d70c37a2968fee107113698fd4f389c442c0b432bca5c2bad4fb803f6c24f90edb0dcb6e64d5791b9bfa389a738b7bad0f2cb19a5f6e4c4ae931009",
         "2021-07-18 08:23:49",
         "[34543001337988 34037939372164 34113606090884 34284952584324\n 34221708673156 39336624193668 33667247145092 39403031167108\n 33951139135620 34535159431300 33667233251460 39459277734020\n 34081589657732 39272600633476 33826466070660 34284951011460\n 34113606058116 34537169322116 33826462367876 39345364992132]"
        ],
        [
         "50",
         "20481783103620",
         "10c42e10e530284b7c7c50f3a23a98726d5747b812808423874f43384ffdbfb574e3ccc11706aece4f1329b4365fe5bce1a01827d382852daedaf18a2e22fcb8",
         "2021-07-18 21:29:36",
         "[33667268116612 34037940224132 34436055203972 39403032117380\n 33667207266436 34284951273604 34284951240836 39403031691396\n 39418337591428 33826472984708 39459278717060 34284951863428\n 33719429038212]"
        ],
        [
         "52",
         "20485321687172",
         "d9989439524b3f6fc4f41686d043f315fb408b954d6153a40c83cfa13aa8faebe1d7a2835a2e9c5120b806bc789704622081a413af5c418297da0516c892d756",
         "2021-07-19 12:17:05",
         "[33667268083844 34284950454404 33973246886020]"
        ]
       ],
       "shape": {
        "columns": 4,
        "rows": 5
       }
      },
      "text/html": [
       "<div>\n",
       "<style scoped>\n",
       "    .dataframe tbody tr th:only-of-type {\n",
       "        vertical-align: middle;\n",
       "    }\n",
       "\n",
       "    .dataframe tbody tr th {\n",
       "        vertical-align: top;\n",
       "    }\n",
       "\n",
       "    .dataframe thead th {\n",
       "        text-align: right;\n",
       "    }\n",
       "</style>\n",
       "<table border=\"1\" class=\"dataframe\">\n",
       "  <thead>\n",
       "    <tr style=\"text-align: right;\">\n",
       "      <th></th>\n",
       "      <th>id</th>\n",
       "      <th>user_id</th>\n",
       "      <th>created_at</th>\n",
       "      <th>variant_id</th>\n",
       "    </tr>\n",
       "  </thead>\n",
       "  <tbody>\n",
       "    <tr>\n",
       "      <th>0</th>\n",
       "      <td>12858560217220</td>\n",
       "      <td>5c4e5953f13ddc3bc9659a3453356155e5efe4739d7a2b...</td>\n",
       "      <td>2020-05-20 13:53:24</td>\n",
       "      <td>[33826459287684, 33826457616516, 3366719212762...</td>\n",
       "    </tr>\n",
       "    <tr>\n",
       "      <th>13</th>\n",
       "      <td>20352449839236</td>\n",
       "      <td>9d6187545c005d39e44d0456d87790db18611d7c7379bd...</td>\n",
       "      <td>2021-06-27 05:24:13</td>\n",
       "      <td>[34415988179076, 34037940158596, 3450282236326...</td>\n",
       "    </tr>\n",
       "    <tr>\n",
       "      <th>45</th>\n",
       "      <td>20478401413252</td>\n",
       "      <td>e83fb0273d70c37a2968fee107113698fd4f389c442c0b...</td>\n",
       "      <td>2021-07-18 08:23:49</td>\n",
       "      <td>[34543001337988, 34037939372164, 3411360609088...</td>\n",
       "    </tr>\n",
       "    <tr>\n",
       "      <th>50</th>\n",
       "      <td>20481783103620</td>\n",
       "      <td>10c42e10e530284b7c7c50f3a23a98726d5747b8128084...</td>\n",
       "      <td>2021-07-18 21:29:36</td>\n",
       "      <td>[33667268116612, 34037940224132, 3443605520397...</td>\n",
       "    </tr>\n",
       "    <tr>\n",
       "      <th>52</th>\n",
       "      <td>20485321687172</td>\n",
       "      <td>d9989439524b3f6fc4f41686d043f315fb408b954d6153...</td>\n",
       "      <td>2021-07-19 12:17:05</td>\n",
       "      <td>[33667268083844, 34284950454404, 33973246886020]</td>\n",
       "    </tr>\n",
       "  </tbody>\n",
       "</table>\n",
       "</div>"
      ],
      "text/plain": [
       "                id                                            user_id  \\\n",
       "0   12858560217220  5c4e5953f13ddc3bc9659a3453356155e5efe4739d7a2b...   \n",
       "13  20352449839236  9d6187545c005d39e44d0456d87790db18611d7c7379bd...   \n",
       "45  20478401413252  e83fb0273d70c37a2968fee107113698fd4f389c442c0b...   \n",
       "50  20481783103620  10c42e10e530284b7c7c50f3a23a98726d5747b8128084...   \n",
       "52  20485321687172  d9989439524b3f6fc4f41686d043f315fb408b954d6153...   \n",
       "\n",
       "            created_at                                         variant_id  \n",
       "0  2020-05-20 13:53:24  [33826459287684, 33826457616516, 3366719212762...  \n",
       "13 2021-06-27 05:24:13  [34415988179076, 34037940158596, 3450282236326...  \n",
       "45 2021-07-18 08:23:49  [34543001337988, 34037939372164, 3411360609088...  \n",
       "50 2021-07-18 21:29:36  [33667268116612, 34037940224132, 3443605520397...  \n",
       "52 2021-07-19 12:17:05   [33667268083844, 34284950454404, 33973246886020]  "
      ]
     },
     "execution_count": 8,
     "metadata": {},
     "output_type": "execute_result"
    }
   ],
   "source": [
    "abandoned_carts_df.head()"
   ]
  },
  {
   "cell_type": "markdown",
   "id": "59596b54",
   "metadata": {},
   "source": [
    "### Inventory"
   ]
  },
  {
   "cell_type": "code",
   "execution_count": 9,
   "id": "9291d057",
   "metadata": {},
   "outputs": [
    {
     "data": {
      "application/vnd.microsoft.datawrangler.viewer.v0+json": {
       "columns": [
        {
         "name": "index",
         "rawType": "int64",
         "type": "integer"
        },
        {
         "name": "variant_id",
         "rawType": "int64",
         "type": "integer"
        },
        {
         "name": "price",
         "rawType": "float64",
         "type": "float"
        },
        {
         "name": "compare_at_price",
         "rawType": "float64",
         "type": "float"
        },
        {
         "name": "vendor",
         "rawType": "object",
         "type": "string"
        },
        {
         "name": "product_type",
         "rawType": "object",
         "type": "string"
        },
        {
         "name": "tags",
         "rawType": "object",
         "type": "unknown"
        }
       ],
       "ref": "306efd87-4009-4ff7-96c7-73257b616e22",
       "rows": [
        [
         "0",
         "39587297165444",
         "3.09",
         "3.15",
         "heinz",
         "condiments-dressings",
         "['table-sauces' 'vegan']"
        ],
        [
         "1",
         "34370361229444",
         "4.99",
         "5.5",
         "whogivesacrap",
         "toilet-roll-kitchen-roll-tissue",
         "['b-corp' 'eco' 'toilet-rolls']"
        ],
        [
         "2",
         "34284951863428",
         "3.69",
         "3.99",
         "plenty",
         "toilet-roll-kitchen-roll-tissue",
         "['kitchen-roll']"
        ],
        [
         "3",
         "33667283583108",
         "1.79",
         "1.99",
         "thecheekypanda",
         "toilet-roll-kitchen-roll-tissue",
         "['b-corp' 'cruelty-free' 'eco' 'tissue' 'vegan']"
        ],
        [
         "4",
         "33803537973380",
         "1.99",
         "2.09",
         "colgate",
         "dental",
         "['dental-accessories']"
        ]
       ],
       "shape": {
        "columns": 6,
        "rows": 5
       }
      },
      "text/html": [
       "<div>\n",
       "<style scoped>\n",
       "    .dataframe tbody tr th:only-of-type {\n",
       "        vertical-align: middle;\n",
       "    }\n",
       "\n",
       "    .dataframe tbody tr th {\n",
       "        vertical-align: top;\n",
       "    }\n",
       "\n",
       "    .dataframe thead th {\n",
       "        text-align: right;\n",
       "    }\n",
       "</style>\n",
       "<table border=\"1\" class=\"dataframe\">\n",
       "  <thead>\n",
       "    <tr style=\"text-align: right;\">\n",
       "      <th></th>\n",
       "      <th>variant_id</th>\n",
       "      <th>price</th>\n",
       "      <th>compare_at_price</th>\n",
       "      <th>vendor</th>\n",
       "      <th>product_type</th>\n",
       "      <th>tags</th>\n",
       "    </tr>\n",
       "  </thead>\n",
       "  <tbody>\n",
       "    <tr>\n",
       "      <th>0</th>\n",
       "      <td>39587297165444</td>\n",
       "      <td>3.09</td>\n",
       "      <td>3.15</td>\n",
       "      <td>heinz</td>\n",
       "      <td>condiments-dressings</td>\n",
       "      <td>[table-sauces, vegan]</td>\n",
       "    </tr>\n",
       "    <tr>\n",
       "      <th>1</th>\n",
       "      <td>34370361229444</td>\n",
       "      <td>4.99</td>\n",
       "      <td>5.50</td>\n",
       "      <td>whogivesacrap</td>\n",
       "      <td>toilet-roll-kitchen-roll-tissue</td>\n",
       "      <td>[b-corp, eco, toilet-rolls]</td>\n",
       "    </tr>\n",
       "    <tr>\n",
       "      <th>2</th>\n",
       "      <td>34284951863428</td>\n",
       "      <td>3.69</td>\n",
       "      <td>3.99</td>\n",
       "      <td>plenty</td>\n",
       "      <td>toilet-roll-kitchen-roll-tissue</td>\n",
       "      <td>[kitchen-roll]</td>\n",
       "    </tr>\n",
       "    <tr>\n",
       "      <th>3</th>\n",
       "      <td>33667283583108</td>\n",
       "      <td>1.79</td>\n",
       "      <td>1.99</td>\n",
       "      <td>thecheekypanda</td>\n",
       "      <td>toilet-roll-kitchen-roll-tissue</td>\n",
       "      <td>[b-corp, cruelty-free, eco, tissue, vegan]</td>\n",
       "    </tr>\n",
       "    <tr>\n",
       "      <th>4</th>\n",
       "      <td>33803537973380</td>\n",
       "      <td>1.99</td>\n",
       "      <td>2.09</td>\n",
       "      <td>colgate</td>\n",
       "      <td>dental</td>\n",
       "      <td>[dental-accessories]</td>\n",
       "    </tr>\n",
       "  </tbody>\n",
       "</table>\n",
       "</div>"
      ],
      "text/plain": [
       "       variant_id  price  compare_at_price          vendor  \\\n",
       "0  39587297165444   3.09              3.15           heinz   \n",
       "1  34370361229444   4.99              5.50   whogivesacrap   \n",
       "2  34284951863428   3.69              3.99          plenty   \n",
       "3  33667283583108   1.79              1.99  thecheekypanda   \n",
       "4  33803537973380   1.99              2.09         colgate   \n",
       "\n",
       "                      product_type                                        tags  \n",
       "0             condiments-dressings                       [table-sauces, vegan]  \n",
       "1  toilet-roll-kitchen-roll-tissue                 [b-corp, eco, toilet-rolls]  \n",
       "2  toilet-roll-kitchen-roll-tissue                              [kitchen-roll]  \n",
       "3  toilet-roll-kitchen-roll-tissue  [b-corp, cruelty-free, eco, tissue, vegan]  \n",
       "4                           dental                        [dental-accessories]  "
      ]
     },
     "execution_count": 9,
     "metadata": {},
     "output_type": "execute_result"
    }
   ],
   "source": [
    "inventory_df.head()"
   ]
  },
  {
   "cell_type": "markdown",
   "id": "3eec6e0a",
   "metadata": {},
   "source": [
    "### Orders"
   ]
  },
  {
   "cell_type": "code",
   "execution_count": 10,
   "id": "86cc2a6d",
   "metadata": {},
   "outputs": [
    {
     "data": {
      "application/vnd.microsoft.datawrangler.viewer.v0+json": {
       "columns": [
        {
         "name": "index",
         "rawType": "int64",
         "type": "integer"
        },
        {
         "name": "id",
         "rawType": "int64",
         "type": "integer"
        },
        {
         "name": "user_id",
         "rawType": "object",
         "type": "string"
        },
        {
         "name": "created_at",
         "rawType": "datetime64[us]",
         "type": "unknown"
        },
        {
         "name": "order_date",
         "rawType": "datetime64[us]",
         "type": "unknown"
        },
        {
         "name": "user_order_seq",
         "rawType": "int64",
         "type": "integer"
        },
        {
         "name": "ordered_items",
         "rawType": "object",
         "type": "unknown"
        }
       ],
       "ref": "64f54769-fe03-4be2-a350-79af68d56ffd",
       "rows": [
        [
         "10",
         "2204073066628",
         "62e271062eb827e411bd73941178d29b022f5f2de9d37f50190a1d6741e02be71414684ca6df992c186522a0433f10367d18d7102da301989cb7929559747eda",
         "2020-04-30 14:32:19",
         "2020-04-30 00:00:00",
         "1",
         "[33618849693828 33618860179588 33618874040452 33618907005060\n 33618907005060 33618923061380 33618937544836 33618956746884\n 33618956746884 33618967036036 33618967560324 33618979389572\n 33618981421188 33618997379204]"
        ],
        [
         "20",
         "2204707520644",
         "bf591c887c46d5d3513142b6a855dd7ffb9cc00697f6f545e06fba241f377a0fbf04b5efe8607e8faf52f58ad39dc6a1b66ebca64a6747002ba543652cbc664d",
         "2020-04-30 17:39:00",
         "2020-04-30 00:00:00",
         "1",
         "[33618835243140 33618835964036 33618862440580 33618874040452\n 33618882822276 33618895732868 33618902450308 33618905202820\n 33618905202820 33618905825412 33618906579076 33618909495428\n 33618948522116 33618957041796 33618962284676 33618963857540\n 33618972704900 33618995413124 33618995413124 33618995445892\n 33618996723844 33618997805188 33619008749700 33619009470596\n 33619012288644]"
        ],
        [
         "21",
         "2204838822020",
         "329f08c66abb51f8c0b8a9526670da2d94c0c6eef06700573ca76f11b45151d67944f171a88fd4f860f06d662c7b29d7b91f0dbc8bf14d410a169a0ed531040b",
         "2020-04-30 18:12:30",
         "2020-04-30 00:00:00",
         "1",
         "[33618891145348 33618893570180 33618897666180 33618897666180\n 33618905923716 33618950357124 33618967036036 33618967036036\n 33618968641668 33618976342148 33618977095812 33618996592772\n 33618998853764 33618998919300 33619002556548]"
        ],
        [
         "34",
         "2208967852164",
         "f6451fce7b1c58d0effbe37fcb4e67b718193562766470d53a843a8ca0bdbb4719861dc508336468d08e8b9ab9593d60ea3271b9525394183a68dc8eb8745598",
         "2020-05-01 19:44:11",
         "2020-05-01 00:00:00",
         "1",
         "[33618830196868 33618846580868 33618912346244 33618924339332\n 33618990039172 33618990530692 33618999902340 33618999902340\n 33619002785924 33619010060420]"
        ],
        [
         "49",
         "2215889436804",
         "68e872ff888303bff58ec56a3a986f77ddebdbe5c279e79e15d616ee292083a1250cf70a9d3420dfc6eb684a56690579c8316a4604f547a9171f9032d7869676",
         "2020-05-03 21:56:14",
         "2020-05-03 00:00:00",
         "1",
         "[33667166699652 33667166699652 33667171221636 33667172466820\n 33667214966916 33667229352068 33667238658180 33667238658180\n 33667241181316 33667241312388]"
        ]
       ],
       "shape": {
        "columns": 6,
        "rows": 5
       }
      },
      "text/html": [
       "<div>\n",
       "<style scoped>\n",
       "    .dataframe tbody tr th:only-of-type {\n",
       "        vertical-align: middle;\n",
       "    }\n",
       "\n",
       "    .dataframe tbody tr th {\n",
       "        vertical-align: top;\n",
       "    }\n",
       "\n",
       "    .dataframe thead th {\n",
       "        text-align: right;\n",
       "    }\n",
       "</style>\n",
       "<table border=\"1\" class=\"dataframe\">\n",
       "  <thead>\n",
       "    <tr style=\"text-align: right;\">\n",
       "      <th></th>\n",
       "      <th>id</th>\n",
       "      <th>user_id</th>\n",
       "      <th>created_at</th>\n",
       "      <th>order_date</th>\n",
       "      <th>user_order_seq</th>\n",
       "      <th>ordered_items</th>\n",
       "    </tr>\n",
       "  </thead>\n",
       "  <tbody>\n",
       "    <tr>\n",
       "      <th>10</th>\n",
       "      <td>2204073066628</td>\n",
       "      <td>62e271062eb827e411bd73941178d29b022f5f2de9d37f...</td>\n",
       "      <td>2020-04-30 14:32:19</td>\n",
       "      <td>2020-04-30</td>\n",
       "      <td>1</td>\n",
       "      <td>[33618849693828, 33618860179588, 3361887404045...</td>\n",
       "    </tr>\n",
       "    <tr>\n",
       "      <th>20</th>\n",
       "      <td>2204707520644</td>\n",
       "      <td>bf591c887c46d5d3513142b6a855dd7ffb9cc00697f6f5...</td>\n",
       "      <td>2020-04-30 17:39:00</td>\n",
       "      <td>2020-04-30</td>\n",
       "      <td>1</td>\n",
       "      <td>[33618835243140, 33618835964036, 3361886244058...</td>\n",
       "    </tr>\n",
       "    <tr>\n",
       "      <th>21</th>\n",
       "      <td>2204838822020</td>\n",
       "      <td>329f08c66abb51f8c0b8a9526670da2d94c0c6eef06700...</td>\n",
       "      <td>2020-04-30 18:12:30</td>\n",
       "      <td>2020-04-30</td>\n",
       "      <td>1</td>\n",
       "      <td>[33618891145348, 33618893570180, 3361889766618...</td>\n",
       "    </tr>\n",
       "    <tr>\n",
       "      <th>34</th>\n",
       "      <td>2208967852164</td>\n",
       "      <td>f6451fce7b1c58d0effbe37fcb4e67b718193562766470...</td>\n",
       "      <td>2020-05-01 19:44:11</td>\n",
       "      <td>2020-05-01</td>\n",
       "      <td>1</td>\n",
       "      <td>[33618830196868, 33618846580868, 3361891234624...</td>\n",
       "    </tr>\n",
       "    <tr>\n",
       "      <th>49</th>\n",
       "      <td>2215889436804</td>\n",
       "      <td>68e872ff888303bff58ec56a3a986f77ddebdbe5c279e7...</td>\n",
       "      <td>2020-05-03 21:56:14</td>\n",
       "      <td>2020-05-03</td>\n",
       "      <td>1</td>\n",
       "      <td>[33667166699652, 33667166699652, 3366717122163...</td>\n",
       "    </tr>\n",
       "  </tbody>\n",
       "</table>\n",
       "</div>"
      ],
      "text/plain": [
       "               id                                            user_id  \\\n",
       "10  2204073066628  62e271062eb827e411bd73941178d29b022f5f2de9d37f...   \n",
       "20  2204707520644  bf591c887c46d5d3513142b6a855dd7ffb9cc00697f6f5...   \n",
       "21  2204838822020  329f08c66abb51f8c0b8a9526670da2d94c0c6eef06700...   \n",
       "34  2208967852164  f6451fce7b1c58d0effbe37fcb4e67b718193562766470...   \n",
       "49  2215889436804  68e872ff888303bff58ec56a3a986f77ddebdbe5c279e7...   \n",
       "\n",
       "            created_at order_date  user_order_seq  \\\n",
       "10 2020-04-30 14:32:19 2020-04-30               1   \n",
       "20 2020-04-30 17:39:00 2020-04-30               1   \n",
       "21 2020-04-30 18:12:30 2020-04-30               1   \n",
       "34 2020-05-01 19:44:11 2020-05-01               1   \n",
       "49 2020-05-03 21:56:14 2020-05-03               1   \n",
       "\n",
       "                                        ordered_items  \n",
       "10  [33618849693828, 33618860179588, 3361887404045...  \n",
       "20  [33618835243140, 33618835964036, 3361886244058...  \n",
       "21  [33618891145348, 33618893570180, 3361889766618...  \n",
       "34  [33618830196868, 33618846580868, 3361891234624...  \n",
       "49  [33667166699652, 33667166699652, 3366717122163...  "
      ]
     },
     "execution_count": 10,
     "metadata": {},
     "output_type": "execute_result"
    }
   ],
   "source": [
    "orders_df.head()"
   ]
  },
  {
   "cell_type": "markdown",
   "id": "68064501",
   "metadata": {},
   "source": [
    "### Regulars"
   ]
  },
  {
   "cell_type": "code",
   "execution_count": 11,
   "id": "957ae2fe",
   "metadata": {},
   "outputs": [
    {
     "data": {
      "application/vnd.microsoft.datawrangler.viewer.v0+json": {
       "columns": [
        {
         "name": "index",
         "rawType": "int64",
         "type": "integer"
        },
        {
         "name": "user_id",
         "rawType": "object",
         "type": "string"
        },
        {
         "name": "variant_id",
         "rawType": "int64",
         "type": "integer"
        },
        {
         "name": "created_at",
         "rawType": "datetime64[us]",
         "type": "unknown"
        }
       ],
       "ref": "7417ce3b-26b9-4c9e-8a84-ab719d89602f",
       "rows": [
        [
         "3",
         "68e872ff888303bff58ec56a3a986f77ddebdbe5c279e79e15d616ee292083a1250cf70a9d3420dfc6eb684a56690579c8316a4604f547a9171f9032d7869676",
         "33618848088196",
         "2020-04-30 15:07:03"
        ],
        [
         "11",
         "aed88fc0b004270a62ff1fe4b94141f6b1db1496dbb0c039c281534c43df6c91bc7f158b5f55aa2cd685aadeaecb597b21e3a8ab76918a7d9a13de13d53b1419",
         "33667178659972",
         "2020-05-05 23:34:35"
        ],
        [
         "18",
         "68e872ff888303bff58ec56a3a986f77ddebdbe5c279e79e15d616ee292083a1250cf70a9d3420dfc6eb684a56690579c8316a4604f547a9171f9032d7869676",
         "33619009208452",
         "2020-04-30 15:07:03"
        ],
        [
         "46",
         "aed88fc0b004270a62ff1fe4b94141f6b1db1496dbb0c039c281534c43df6c91bc7f158b5f55aa2cd685aadeaecb597b21e3a8ab76918a7d9a13de13d53b1419",
         "33667305373828",
         "2020-05-05 23:34:35"
        ],
        [
         "47",
         "4594e99557113d5a1c5b59bf31b8704aafe5c7bd180b3255fd4b0bc8e22d7778db04dd1def4c1588dac8bdd6f95fa94e265146e6b1e440c9941465d5ce38958d",
         "33667247341700",
         "2020-05-06 14:42:11"
        ]
       ],
       "shape": {
        "columns": 3,
        "rows": 5
       }
      },
      "text/html": [
       "<div>\n",
       "<style scoped>\n",
       "    .dataframe tbody tr th:only-of-type {\n",
       "        vertical-align: middle;\n",
       "    }\n",
       "\n",
       "    .dataframe tbody tr th {\n",
       "        vertical-align: top;\n",
       "    }\n",
       "\n",
       "    .dataframe thead th {\n",
       "        text-align: right;\n",
       "    }\n",
       "</style>\n",
       "<table border=\"1\" class=\"dataframe\">\n",
       "  <thead>\n",
       "    <tr style=\"text-align: right;\">\n",
       "      <th></th>\n",
       "      <th>user_id</th>\n",
       "      <th>variant_id</th>\n",
       "      <th>created_at</th>\n",
       "    </tr>\n",
       "  </thead>\n",
       "  <tbody>\n",
       "    <tr>\n",
       "      <th>3</th>\n",
       "      <td>68e872ff888303bff58ec56a3a986f77ddebdbe5c279e7...</td>\n",
       "      <td>33618848088196</td>\n",
       "      <td>2020-04-30 15:07:03</td>\n",
       "    </tr>\n",
       "    <tr>\n",
       "      <th>11</th>\n",
       "      <td>aed88fc0b004270a62ff1fe4b94141f6b1db1496dbb0c0...</td>\n",
       "      <td>33667178659972</td>\n",
       "      <td>2020-05-05 23:34:35</td>\n",
       "    </tr>\n",
       "    <tr>\n",
       "      <th>18</th>\n",
       "      <td>68e872ff888303bff58ec56a3a986f77ddebdbe5c279e7...</td>\n",
       "      <td>33619009208452</td>\n",
       "      <td>2020-04-30 15:07:03</td>\n",
       "    </tr>\n",
       "    <tr>\n",
       "      <th>46</th>\n",
       "      <td>aed88fc0b004270a62ff1fe4b94141f6b1db1496dbb0c0...</td>\n",
       "      <td>33667305373828</td>\n",
       "      <td>2020-05-05 23:34:35</td>\n",
       "    </tr>\n",
       "    <tr>\n",
       "      <th>47</th>\n",
       "      <td>4594e99557113d5a1c5b59bf31b8704aafe5c7bd180b32...</td>\n",
       "      <td>33667247341700</td>\n",
       "      <td>2020-05-06 14:42:11</td>\n",
       "    </tr>\n",
       "  </tbody>\n",
       "</table>\n",
       "</div>"
      ],
      "text/plain": [
       "                                              user_id      variant_id  \\\n",
       "3   68e872ff888303bff58ec56a3a986f77ddebdbe5c279e7...  33618848088196   \n",
       "11  aed88fc0b004270a62ff1fe4b94141f6b1db1496dbb0c0...  33667178659972   \n",
       "18  68e872ff888303bff58ec56a3a986f77ddebdbe5c279e7...  33619009208452   \n",
       "46  aed88fc0b004270a62ff1fe4b94141f6b1db1496dbb0c0...  33667305373828   \n",
       "47  4594e99557113d5a1c5b59bf31b8704aafe5c7bd180b32...  33667247341700   \n",
       "\n",
       "            created_at  \n",
       "3  2020-04-30 15:07:03  \n",
       "11 2020-05-05 23:34:35  \n",
       "18 2020-04-30 15:07:03  \n",
       "46 2020-05-05 23:34:35  \n",
       "47 2020-05-06 14:42:11  "
      ]
     },
     "execution_count": 11,
     "metadata": {},
     "output_type": "execute_result"
    }
   ],
   "source": [
    "regulars_df.head()"
   ]
  },
  {
   "cell_type": "markdown",
   "id": "7813c1c9",
   "metadata": {},
   "source": [
    "### Users"
   ]
  },
  {
   "cell_type": "code",
   "execution_count": 12,
   "id": "e93cbf47",
   "metadata": {},
   "outputs": [
    {
     "data": {
      "application/vnd.microsoft.datawrangler.viewer.v0+json": {
       "columns": [
        {
         "name": "index",
         "rawType": "int64",
         "type": "integer"
        },
        {
         "name": "user_id",
         "rawType": "object",
         "type": "string"
        },
        {
         "name": "user_segment",
         "rawType": "object",
         "type": "string"
        },
        {
         "name": "user_nuts1",
         "rawType": "object",
         "type": "string"
        },
        {
         "name": "first_ordered_at",
         "rawType": "object",
         "type": "string"
        },
        {
         "name": "customer_cohort_month",
         "rawType": "object",
         "type": "string"
        },
        {
         "name": "count_people",
         "rawType": "float64",
         "type": "float"
        },
        {
         "name": "count_adults",
         "rawType": "float64",
         "type": "float"
        },
        {
         "name": "count_children",
         "rawType": "float64",
         "type": "float"
        },
        {
         "name": "count_babies",
         "rawType": "float64",
         "type": "float"
        },
        {
         "name": "count_pets",
         "rawType": "float64",
         "type": "float"
        }
       ],
       "ref": "0a63ce28-7f4f-4ca8-8dce-1f713e2ec250",
       "rows": [
        [
         "2160",
         "0e823a42e107461379e5b5613b7aa00537a72e1b0eaa7a962aa3d39097d41d37b01d5089f13306c248e66a110da986a44448c007ce8e1052db8d1802f00fbd85",
         "Top Up",
         "UKH",
         "2021-05-08 13:33:49",
         "2021-05-01 00:00:00",
         null,
         null,
         null,
         null,
         null
        ],
        [
         "1123",
         "15768ced9bed648f745a7aa566a8895f7a73b9a47c1d4f65f3d519b46bc97b938812e4cea840a67b82c9ff349f086af76b5ba8171c0866103b942061d74027b1",
         "Top Up",
         "UKJ",
         "2021-11-17 16:30:20",
         "2021-11-01 00:00:00",
         null,
         null,
         null,
         null,
         null
        ],
        [
         "1958",
         "33e0cb6eacea0775e34adbaa2c1dec16b9d6484e6b93249db254a5f358ed7c17e47bebe76903b28447ece00be7e266aad036337cdf46ccdd9ab485136d40b85d",
         "Top Up",
         "UKD",
         "2022-03-09 23:12:25",
         "2022-03-01 00:00:00",
         null,
         null,
         null,
         null,
         null
        ],
        [
         "675",
         "57ca7591dc79825df0cecc4836a58e6062454555c86c354dd736bd34eca7eb4e588c5afea0af0bf3ee41290630bcdc6042b6fae0c19428d887b586a719825bda",
         "Top Up",
         "UKI",
         "2021-04-23 16:29:02",
         "2021-04-01 00:00:00",
         null,
         null,
         null,
         null,
         null
        ],
        [
         "4694",
         "085d8e598139ce6fc9f75d9de97960fa9e1457b409ec007b214d1039e959eca61c2b5bd6dc5cc09b8147f3581366413cf9ca901906969ba6c152e44ab4cd8fb1",
         "Top Up",
         "UKJ",
         "2021-11-02 13:50:06",
         "2021-11-01 00:00:00",
         null,
         null,
         null,
         null,
         null
        ]
       ],
       "shape": {
        "columns": 10,
        "rows": 5
       }
      },
      "text/html": [
       "<div>\n",
       "<style scoped>\n",
       "    .dataframe tbody tr th:only-of-type {\n",
       "        vertical-align: middle;\n",
       "    }\n",
       "\n",
       "    .dataframe tbody tr th {\n",
       "        vertical-align: top;\n",
       "    }\n",
       "\n",
       "    .dataframe thead th {\n",
       "        text-align: right;\n",
       "    }\n",
       "</style>\n",
       "<table border=\"1\" class=\"dataframe\">\n",
       "  <thead>\n",
       "    <tr style=\"text-align: right;\">\n",
       "      <th></th>\n",
       "      <th>user_id</th>\n",
       "      <th>user_segment</th>\n",
       "      <th>user_nuts1</th>\n",
       "      <th>first_ordered_at</th>\n",
       "      <th>customer_cohort_month</th>\n",
       "      <th>count_people</th>\n",
       "      <th>count_adults</th>\n",
       "      <th>count_children</th>\n",
       "      <th>count_babies</th>\n",
       "      <th>count_pets</th>\n",
       "    </tr>\n",
       "  </thead>\n",
       "  <tbody>\n",
       "    <tr>\n",
       "      <th>2160</th>\n",
       "      <td>0e823a42e107461379e5b5613b7aa00537a72e1b0eaa7a...</td>\n",
       "      <td>Top Up</td>\n",
       "      <td>UKH</td>\n",
       "      <td>2021-05-08 13:33:49</td>\n",
       "      <td>2021-05-01 00:00:00</td>\n",
       "      <td>NaN</td>\n",
       "      <td>NaN</td>\n",
       "      <td>NaN</td>\n",
       "      <td>NaN</td>\n",
       "      <td>NaN</td>\n",
       "    </tr>\n",
       "    <tr>\n",
       "      <th>1123</th>\n",
       "      <td>15768ced9bed648f745a7aa566a8895f7a73b9a47c1d4f...</td>\n",
       "      <td>Top Up</td>\n",
       "      <td>UKJ</td>\n",
       "      <td>2021-11-17 16:30:20</td>\n",
       "      <td>2021-11-01 00:00:00</td>\n",
       "      <td>NaN</td>\n",
       "      <td>NaN</td>\n",
       "      <td>NaN</td>\n",
       "      <td>NaN</td>\n",
       "      <td>NaN</td>\n",
       "    </tr>\n",
       "    <tr>\n",
       "      <th>1958</th>\n",
       "      <td>33e0cb6eacea0775e34adbaa2c1dec16b9d6484e6b9324...</td>\n",
       "      <td>Top Up</td>\n",
       "      <td>UKD</td>\n",
       "      <td>2022-03-09 23:12:25</td>\n",
       "      <td>2022-03-01 00:00:00</td>\n",
       "      <td>NaN</td>\n",
       "      <td>NaN</td>\n",
       "      <td>NaN</td>\n",
       "      <td>NaN</td>\n",
       "      <td>NaN</td>\n",
       "    </tr>\n",
       "    <tr>\n",
       "      <th>675</th>\n",
       "      <td>57ca7591dc79825df0cecc4836a58e6062454555c86c35...</td>\n",
       "      <td>Top Up</td>\n",
       "      <td>UKI</td>\n",
       "      <td>2021-04-23 16:29:02</td>\n",
       "      <td>2021-04-01 00:00:00</td>\n",
       "      <td>NaN</td>\n",
       "      <td>NaN</td>\n",
       "      <td>NaN</td>\n",
       "      <td>NaN</td>\n",
       "      <td>NaN</td>\n",
       "    </tr>\n",
       "    <tr>\n",
       "      <th>4694</th>\n",
       "      <td>085d8e598139ce6fc9f75d9de97960fa9e1457b409ec00...</td>\n",
       "      <td>Top Up</td>\n",
       "      <td>UKJ</td>\n",
       "      <td>2021-11-02 13:50:06</td>\n",
       "      <td>2021-11-01 00:00:00</td>\n",
       "      <td>NaN</td>\n",
       "      <td>NaN</td>\n",
       "      <td>NaN</td>\n",
       "      <td>NaN</td>\n",
       "      <td>NaN</td>\n",
       "    </tr>\n",
       "  </tbody>\n",
       "</table>\n",
       "</div>"
      ],
      "text/plain": [
       "                                                user_id user_segment  \\\n",
       "2160  0e823a42e107461379e5b5613b7aa00537a72e1b0eaa7a...       Top Up   \n",
       "1123  15768ced9bed648f745a7aa566a8895f7a73b9a47c1d4f...       Top Up   \n",
       "1958  33e0cb6eacea0775e34adbaa2c1dec16b9d6484e6b9324...       Top Up   \n",
       "675   57ca7591dc79825df0cecc4836a58e6062454555c86c35...       Top Up   \n",
       "4694  085d8e598139ce6fc9f75d9de97960fa9e1457b409ec00...       Top Up   \n",
       "\n",
       "     user_nuts1     first_ordered_at customer_cohort_month  count_people  \\\n",
       "2160        UKH  2021-05-08 13:33:49   2021-05-01 00:00:00           NaN   \n",
       "1123        UKJ  2021-11-17 16:30:20   2021-11-01 00:00:00           NaN   \n",
       "1958        UKD  2022-03-09 23:12:25   2022-03-01 00:00:00           NaN   \n",
       "675         UKI  2021-04-23 16:29:02   2021-04-01 00:00:00           NaN   \n",
       "4694        UKJ  2021-11-02 13:50:06   2021-11-01 00:00:00           NaN   \n",
       "\n",
       "      count_adults  count_children  count_babies  count_pets  \n",
       "2160           NaN             NaN           NaN         NaN  \n",
       "1123           NaN             NaN           NaN         NaN  \n",
       "1958           NaN             NaN           NaN         NaN  \n",
       "675            NaN             NaN           NaN         NaN  \n",
       "4694           NaN             NaN           NaN         NaN  "
      ]
     },
     "execution_count": 12,
     "metadata": {},
     "output_type": "execute_result"
    }
   ],
   "source": [
    "users_df.head()"
   ]
  }
 ],
 "metadata": {
  "kernelspec": {
   "display_name": "zrive-ds-py3.11",
   "language": "python",
   "name": "python3"
  },
  "language_info": {
   "codemirror_mode": {
    "name": "ipython",
    "version": 3
   },
   "file_extension": ".py",
   "mimetype": "text/x-python",
   "name": "python",
   "nbconvert_exporter": "python",
   "pygments_lexer": "ipython3",
   "version": "3.11.0"
  }
 },
 "nbformat": 4,
 "nbformat_minor": 5
}
